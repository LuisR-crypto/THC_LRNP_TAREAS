{
  "nbformat": 4,
  "nbformat_minor": 0,
  "metadata": {
    "colab": {
      "provenance": [],
      "include_colab_link": true
    },
    "kernelspec": {
      "name": "python3",
      "display_name": "Python 3"
    },
    "language_info": {
      "name": "python"
    }
  },
  "cells": [
    {
      "cell_type": "markdown",
      "metadata": {
        "id": "view-in-github",
        "colab_type": "text"
      },
      "source": [
        "<a href=\"https://colab.research.google.com/github/LuisR-crypto/THC_LRNP_TAREAS/blob/main/Copia_de_Tarea4_THC_LuisRodolfoNi%C3%B1oPedraza.ipynb\" target=\"_parent\"><img src=\"https://colab.research.google.com/assets/colab-badge.svg\" alt=\"Open In Colab\"/></a>"
      ]
    },
    {
      "cell_type": "markdown",
      "source": [
        "<font color=\"Red\" face=\"Comic Sans MS,arial\">\n",
        "  <h1 align=\"center\"><i>Tarea 4 de Python </i></h1>\n",
        "  </font>\n",
        "  \n",
        "> Elaborado por:\n",
        "\n",
        "> Miguel Ángel Carrillo Lucía. miguelcarrillo15@ciencias.unam.mx\n",
        "\n",
        "> Jesús Iván Coss Calderón. mat_ing_coss@ciencias.unam.mx"
      ],
      "metadata": {
        "id": "Acw5GbRohNTA"
      }
    },
    {
      "cell_type": "markdown",
      "source": [],
      "metadata": {
        "id": "GPxu1CVb3leu"
      }
    },
    {
      "cell_type": "markdown",
      "source": [
        "**Objetivo general**\n",
        "\n",
        "* Demostrar los conocimientos adquiridos de bucles, listas y estructuras de control.\n",
        "\n",
        "**Objetivos particulares**\n",
        "\n",
        "* Aprender a resolver problemas prácticos usando python"
      ],
      "metadata": {
        "id": "-4IW6Nx2jBHt"
      }
    },
    {
      "cell_type": "markdown",
      "source": [
        "#**Ejercicio 1**:\n",
        "Diseña un programa que convierta dólares americanos a pesos mexicanos, euros, libras\n",
        "esterlinas, yuanes y rublos utilizando una tasa de cambio fija. Muestre la tasa de cambio e imprima los cinco resultados.\n"
      ],
      "metadata": {
        "id": "QZ7aCHF0TYtT"
      }
    },
    {
      "cell_type": "code",
      "source": [
        "a=float(input(\"Ingrese una cantidad en dólares: \"))\n",
        "tc=[19.98, 0.93, 0.77, 7.12, 91.19]\n",
        "letreros=[\"El cambio en pesos es \", \"El cambio en euros es \", \"El cambio en libras esterlinas es \", \"El cambio en yuanes es \", \"El cambio en rublos es \"]\n",
        "ltc=[\"la tasa de cambio usada fue 1:19.98\", \"la tasa de cambio usada fue 1:0.93\", \"la tasa de cambio usada fue 1:0.77\", \"la tasa de cambio usada fue 1:7.12\", \"la tasa de cambio usada fue 1:97.19\" ]\n",
        "\n",
        "for i in range(5):\n",
        "  print(letreros[i] + str(a*tc[i]) + \", \" + ltc[i])"
      ],
      "metadata": {
        "id": "TBR-3raL8Epc",
        "colab": {
          "base_uri": "https://localhost:8080/"
        },
        "outputId": "db204617-0be9-47ee-f90d-a0a16bf6e4b1"
      },
      "execution_count": null,
      "outputs": [
        {
          "output_type": "stream",
          "name": "stdout",
          "text": [
            "Ingrese una cantidad en dólares: 5\n",
            "El cambio en pesos es 99.9, la tasa de cambio usada fue 1:19.98\n",
            "El cambio en euros es 4.65, la tasa de cambio usada fue 1:0.93\n",
            "El cambio en libras esterlinas es 3.85, la tasa de cambio usada fue 1:0.77\n",
            "El cambio en yuanes es 35.6, la tasa de cambio usada fue 1:7.12\n",
            "El cambio en rublos es 455.95, la tasa de cambio usada fue 1:97.19\n"
          ]
        }
      ]
    },
    {
      "cell_type": "markdown",
      "source": [
        "#**Ejercicio 2**:\n",
        "Escribe un programa que pida al usuario su edad y clasifique la entrada en 'niño',\n",
        " 'adolescente', 'adulto' o 'adulto mayor'."
      ],
      "metadata": {
        "id": "G-aCihICT7hi"
      }
    },
    {
      "cell_type": "code",
      "source": [
        "a=int(input(\"Ingrese su edad: \"))\n",
        "if a<12:\n",
        "  print(\"Eres un niño\")\n",
        "elif a<18:\n",
        "  print(\"Eres un adolescente\")\n",
        "elif a<65:\n",
        "  print(\"Eres un adulto\")\n",
        "else:\n",
        "  print(\"Eres un adulto mayor\")"
      ],
      "metadata": {
        "id": "LeEsrq4p8FOs",
        "colab": {
          "base_uri": "https://localhost:8080/"
        },
        "outputId": "c62ad9e8-8883-4073-884b-70bb278c665a"
      },
      "execution_count": null,
      "outputs": [
        {
          "output_type": "stream",
          "name": "stdout",
          "text": [
            "Ingrese su edad: 25\n",
            "Eres un adulto\n"
          ]
        }
      ]
    },
    {
      "cell_type": "markdown",
      "source": [
        "#**Ejercicio 3**:\n",
        "Desarrolla un programa que calcule el precio final de un producto después de aplicar un descuento.\n",
        " El usuario debe ingresar el precio original y el porcentaje de descuento. Imprima el precio final."
      ],
      "metadata": {
        "id": "oM_h9APNTIW9"
      }
    },
    {
      "cell_type": "code",
      "source": [
        "p=float(input(\"Ingrese el precio del producto (Omita el símbolo de pesos): \"))\n",
        "d=float(input(\"Ingrese el descuento del producto (Omita el símbolo de porcentaje): \"))\n",
        "print(\"El precio del producto después del descuento es \" + str(p*(1-d/100)))"
      ],
      "metadata": {
        "id": "ay0KWLXf8F5k",
        "colab": {
          "base_uri": "https://localhost:8080/"
        },
        "outputId": "cc0797bb-1cb2-4fe8-eba6-a0b51dca5b9a"
      },
      "execution_count": null,
      "outputs": [
        {
          "output_type": "stream",
          "name": "stdout",
          "text": [
            "Ingrese el precio del producto (Omita el símbolo de pesos): 100\n",
            "Ingrese el descuento del producto (Omita el símbolo de porcentaje): 25\n",
            "El precio del producto después del descuento es 75.0\n"
          ]
        }
      ]
    },
    {
      "cell_type": "markdown",
      "source": [
        "#**Ejercicio 4**:\n",
        "Crea un script que determine cuál de tres números introducidos por el usuario es el mayor,\n",
        "usando sentencias IF anidadas o múltiples ELIF."
      ],
      "metadata": {
        "id": "pXTw_US7UIhy"
      }
    },
    {
      "cell_type": "code",
      "source": [
        "numeros=input(\"Ingrese tres números separados por comas:\")\n",
        "valores=numeros.split(\",\")\n",
        "lista=[]\n",
        "for i in range(3):\n",
        "  lista.append(float(valores[i]))\n",
        "\n",
        "if lista[0]<lista[1]:\n",
        "  if lista[1]<lista[2]:\n",
        "    print(\"El mayor de los números es \" + str(lista[2]))\n",
        "  else:\n",
        "    print(\"El mayor de los números es \" + str(lista[1]))\n",
        "else:\n",
        "  if lista[0]<lista[2]:\n",
        "    print(\"El mayor de los números es \" + str(lista[2]))\n",
        "  else:\n",
        "    print(\"El mayor de los números es \" + str(lista[0]))\n"
      ],
      "metadata": {
        "id": "oSJXRXBb8Gck",
        "colab": {
          "base_uri": "https://localhost:8080/"
        },
        "outputId": "e9fcf27d-421a-4515-d36c-b83604424d18"
      },
      "execution_count": null,
      "outputs": [
        {
          "output_type": "stream",
          "name": "stdout",
          "text": [
            "Ingrese tres números separados por comas:3,4,4\n",
            "El mayor de los números es 4.0\n"
          ]
        }
      ]
    },
    {
      "cell_type": "markdown",
      "source": [
        "#**Ejercicio 5**:\n",
        "Programe una función que resuelva ecuaciones de segundo grado utilizando la fórmula general.\n",
        "El usuario debe ingresar los valores de a, b y c. Genere valores por default por si el usuario no ingresa\n",
        "un número entero o flotante. Además, calcule el valor del discriminante\n",
        "(b^2 - 4ac) y determine si tiene soluciones reales, soluciones complejas. Imprima el resultado."
      ],
      "metadata": {
        "id": "LJgQNYz1Tmaj"
      }
    },
    {
      "cell_type": "code",
      "source": [
        "a=input(\"Ingrese el valor de a: \")\n",
        "b=input(\"Ingrese el valor de b: \")\n",
        "c=input(\"Ingrese el valor de c: \")\n",
        "\n",
        "def chicharronera(a,b,c):\n",
        "    try:\n",
        "     a = float(a)\n",
        "     b = float(b)\n",
        "     c = float(c)\n",
        "    except ValueError:\n",
        "     a = 1\n",
        "     b = -5\n",
        "     c = 6\n",
        "\n",
        "    d = (b**2 - 4*a*c)\n",
        "\n",
        "    if d<0:\n",
        "      return\"Las soluciones a la ecuación son complejas\"\n",
        "    else:\n",
        "      rcd=d**(1/2)\n",
        "      print(\"Las soluciones de la ecuación son reales\")\n",
        "      x1=(-b-rcd)/(2*a)\n",
        "      x2=(-b+rcd)/(2*a)\n",
        "      return \"x1=\"+str(x1), \"x2=\"+str(x2)\n",
        "\n",
        "print(chicharronera(a,b,c))\n",
        "\n",
        "\n",
        "\n"
      ],
      "metadata": {
        "id": "L1CQPnlC8G9c",
        "colab": {
          "base_uri": "https://localhost:8080/"
        },
        "outputId": "08d77a3b-5c80-4273-bdc5-7c6fae1eb80c"
      },
      "execution_count": 24,
      "outputs": [
        {
          "output_type": "stream",
          "name": "stdout",
          "text": [
            "Ingrese el valor de a: a\n",
            "Ingrese el valor de b: b\n",
            "Ingrese el valor de c: \n",
            "Las soluciones de la ecuación son reales\n",
            "('x1=2.0', 'x2=3.0')\n"
          ]
        }
      ]
    },
    {
      "cell_type": "markdown",
      "source": [
        "#**Ejercicio 6**\n",
        "\n",
        " Escriba una función que reciba una lista de números y devuelva dos listas: una con los números positivos y otra con los negativos."
      ],
      "metadata": {
        "id": "1VC6sG1wix_2"
      }
    },
    {
      "cell_type": "code",
      "source": [
        "valores=input(\"Ingrese una lista de números separados por comas\")\n",
        "lista=valores.split(\",\")\n",
        "positivos=[]\n",
        "negativos=[]\n",
        "\n",
        "for i in range(len(lista)):\n",
        "  if float(lista[i])>=0:\n",
        "    positivos.append(float(lista[i]))\n",
        "  else:\n",
        "    negativos.append(float(lista[i]))\n",
        "\n",
        "print(positivos)\n",
        "print(negativos)"
      ],
      "metadata": {
        "id": "j-nKpLKG8HdU",
        "colab": {
          "base_uri": "https://localhost:8080/"
        },
        "outputId": "02448a2e-6778-414e-ff0e-5605ab478af2"
      },
      "execution_count": null,
      "outputs": [
        {
          "output_type": "stream",
          "name": "stdout",
          "text": [
            "Ingrese una lista de números separados por comas-1.54, 5.93, -91.82, 0, -1, 7.23, -64\n",
            "[5.93, 0.0, 7.23]\n",
            "[-1.54, -91.82, -1.0, -64.0]\n"
          ]
        }
      ]
    },
    {
      "cell_type": "markdown",
      "source": [
        "#**Ejercicio 7**\n",
        "\n",
        "Escriba una función que reciba una lista de datos (la de abajo) y devuelva listas con los datos filtrados. Este programa debe separar los datos en **int**, **str**, **bool**, **float**. **Hint**: use la función **append** para insertar datos en las listas."
      ],
      "metadata": {
        "id": "B3DOqZgpjxMf"
      }
    },
    {
      "cell_type": "code",
      "source": [
        "Datos= [5, 2.4, \"hola\", 7, 10, 3.14,True,False, \"Hi\", 0, 0.265]# lista a usar"
      ],
      "metadata": {
        "id": "5zQMRLNYis12"
      },
      "execution_count": null,
      "outputs": []
    },
    {
      "cell_type": "code",
      "source": [
        "Datos= [5, 2.4, \"hola\", 7, 10, 3.14,True,False, \"Hi\", 0, 0.265]\n",
        "enteros=[]\n",
        "cadenas=[]\n",
        "booleanos=[]\n",
        "flotantes=[]\n",
        "for i in range(len(Datos)):\n",
        "  if type(Datos[i])==int:\n",
        "    enteros.append(Datos[i])\n",
        "  elif type(Datos[i])==str:\n",
        "    cadenas.append(Datos[i])\n",
        "  elif type(Datos[i])==bool:\n",
        "    booleanos.append(Datos[i])\n",
        "  elif type(Datos[i])==float:\n",
        "    flotantes.append(Datos[i])\n",
        "\n",
        "\n",
        "print(enteros)\n",
        "print(cadenas)\n",
        "print(booleanos)\n",
        "print(flotantes)"
      ],
      "metadata": {
        "id": "0HH0Debs8Joc",
        "colab": {
          "base_uri": "https://localhost:8080/"
        },
        "outputId": "665afc20-4ca0-4dc8-896b-81721fd29b97"
      },
      "execution_count": null,
      "outputs": [
        {
          "output_type": "stream",
          "name": "stdout",
          "text": [
            "[5, 7, 10, 0]\n",
            "['hola', 'Hi']\n",
            "[True, False]\n",
            "[2.4, 3.14, 0.265]\n"
          ]
        }
      ]
    },
    {
      "cell_type": "markdown",
      "source": [
        "#**Ejercicio 8**:\n",
        "\n",
        "Imprimir pirámide de asteriscos\n",
        "Descripción: Crea una función que imprima una pirámide de asteriscos usando bucles anidados, donde el número de niveles de la pirámide sea un valor dado."
      ],
      "metadata": {
        "id": "Q7XYGpfGkuD4"
      }
    },
    {
      "cell_type": "code",
      "source": [
        "def piramide_asteriscos(niveles):\n",
        "\n",
        "piramide_asteriscos(5)\n",
        "# Resultado:\n",
        "# *\n",
        "# **\n",
        "# ***\n",
        "# ****\n",
        "# *****\n"
      ],
      "metadata": {
        "colab": {
          "base_uri": "https://localhost:8080/"
        },
        "id": "lKlZ67KRkXwn",
        "outputId": "78bd0f90-baf8-41bc-9243-ffad50b18531"
      },
      "execution_count": null,
      "outputs": [
        {
          "output_type": "stream",
          "name": "stdout",
          "text": [
            "*\n",
            "**\n",
            "***\n",
            "****\n",
            "*****\n"
          ]
        }
      ]
    },
    {
      "cell_type": "code",
      "source": [
        "niveles=int(input(\"Ingrese el número de niveles que quiere que tenga la pirámide: \"))\n",
        "def piramide_asteriscos(niveles):\n",
        "  for i in range(niveles):\n",
        "    print(\"*\"*(i+1))\n",
        "piramide_asteriscos(niveles)"
      ],
      "metadata": {
        "colab": {
          "base_uri": "https://localhost:8080/"
        },
        "id": "CGtyi_7oErR0",
        "outputId": "1ef4af1f-9d18-408c-d089-05ea70092c0b"
      },
      "execution_count": null,
      "outputs": [
        {
          "output_type": "stream",
          "name": "stdout",
          "text": [
            "Ingrese el número de niveles que quiere que tenga la pirámide: 7\n",
            "*\n",
            "**\n",
            "***\n",
            "****\n",
            "*****\n",
            "******\n",
            "*******\n"
          ]
        }
      ]
    },
    {
      "cell_type": "markdown",
      "source": [
        "#**Ejercicio 9**:\n",
        "\n",
        "Escriba una función que calcule el factorial de un número, el cual debe ser ingresado por el usuario, después usted debe validar que sea un número natural mayor o igual a cero y en caso de que ingrese un número negativo, una letra o cadena, debe pedir nuevamente el número al usuario."
      ],
      "metadata": {
        "id": "xL6YMsdClOy9"
      }
    },
    {
      "cell_type": "code",
      "source": [
        "n=input(\"Ingrese un número natural: \")\n",
        "while True:\n",
        "  try:\n",
        "    n=int(n)\n",
        "    if n<0:\n",
        "      n=input(\"Ingrese un número natural: \")\n",
        "    else:\n",
        "      break\n",
        "  except:\n",
        "    n=input(\"Ingrese un número natural: \")\n",
        "\n",
        "def factorial(n):\n",
        "  for i in range (1,n):\n",
        "    n=n*i\n",
        "  return n\n",
        "print (\"El factorial de \"+ str(n) + \" es \" + str(factorial(n)))\n",
        "\n",
        "\n"
      ],
      "metadata": {
        "id": "JYhyNp21l43j",
        "colab": {
          "base_uri": "https://localhost:8080/"
        },
        "outputId": "dc549962-8f1e-4834-ca70-c3568ab1c91c"
      },
      "execution_count": 6,
      "outputs": [
        {
          "output_type": "stream",
          "name": "stdout",
          "text": [
            "Ingrese un número natural: a\n",
            "Ingrese un número natural: hola\n",
            "Ingrese un número natural: -2\n",
            "Ingrese un número natural: -3.45\n",
            "Ingrese un número natural: 9.37\n",
            "Ingrese un número natural: 7\n",
            "El factorial de 7 es 5040\n"
          ]
        }
      ]
    },
    {
      "cell_type": "markdown",
      "source": [
        "#**Ejercicio 10**:\n",
        "Programar una función que calcule la distancia entre dos puntos en el plano cartesiano,\n",
        "dadas sus coordenadas (x1, y1) y (x2, y2)."
      ],
      "metadata": {
        "id": "8z6e_aduTxWh"
      }
    },
    {
      "cell_type": "code",
      "source": [
        "p1=input(\"Ingrese las coordenadas del punto 1 (separadas por comas y sin paréntesis): \")\n",
        "p2=input(\"Ingrese las coordenadas del punro 2 (separadas por comas y sin paréntesis): \")\n",
        "lista1=p1.split(\",\")\n",
        "lista2=p2.split(\",\")\n",
        "x1=float(lista1[0])\n",
        "x2=float(lista2[0])\n",
        "y1=float(lista1[1])\n",
        "y2=float(lista2[1])\n",
        "\n",
        "def distancia(x1,x2,y1,y2):\n",
        "  return ((x1-x2)**2+(y1-y2)**2)**(1/2)\n",
        "\n",
        "print(distancia(x1,x2,y1,y2))"
      ],
      "metadata": {
        "id": "rKes7ySm8LJy",
        "colab": {
          "base_uri": "https://localhost:8080/"
        },
        "outputId": "6f790076-093e-434d-eb79-c940a0a7823a"
      },
      "execution_count": null,
      "outputs": [
        {
          "output_type": "stream",
          "name": "stdout",
          "text": [
            "Ingrese las coordenadas del punto 1 (separadas por comas y sin paréntesis): -2.5,-2.5\n",
            "Ingrese las coordenadas del punro 2 (separadas por comas y sin paréntesis): 9.99,9.99\n",
            "17.663527394039956\n"
          ]
        }
      ]
    },
    {
      "cell_type": "markdown",
      "source": [
        "#**Ejercicio 11**:\n",
        "Programe un script que determine si dos rectas dadas por las ecuaciones y1=m1x + b1 y y2=m2x+b2 se\n",
        "intersectan, son paralelas o coincidentes. Utilice estructuras de control (IF - ELSE)\n",
        "para manejar los diferentes casos.\n"
      ],
      "metadata": {
        "id": "YZ1CmeGNUfd6"
      }
    },
    {
      "cell_type": "code",
      "source": [
        "\n",
        "#Para las ecuaciones de la forma y=mx+b complete los siguientes campos\n",
        "\n",
        "m1=float(input(\"Ingrese la pendiente de ela recta 1: \"))\n",
        "b1=float(input(\"Ingrese la ordenada al origen de la recta 1: \"))\n",
        "m2=float(input(\"Ingrese la pendiente de la recta 2: \"))\n",
        "b2=float(input(\"Ingrese la ordenada al origen de la recta 2: \"))\n",
        "\n",
        "if m1==m2:\n",
        "  if b1==b2:\n",
        "    print(\"Las rectas son coincidentes\")\n",
        "  else:\n",
        "    print(\"Las rectas son paralelas\")\n",
        "elif m1*m2==-1:\n",
        "  print(\"Las rectas son perpendiculares\")\n",
        "else:\n",
        "  print(\"Las rectas se intersecan\")\n"
      ],
      "metadata": {
        "id": "oTNVz98W8LuZ",
        "colab": {
          "base_uri": "https://localhost:8080/"
        },
        "outputId": "7614cdcf-527a-4f88-fbec-268f658b7c8e"
      },
      "execution_count": null,
      "outputs": [
        {
          "output_type": "stream",
          "name": "stdout",
          "text": [
            "Ingrese la pendiente de ela recta 1: 0.2\n",
            "Ingrese la ordenada al origen de la recta 1: 5\n",
            "Ingrese la pendiente de la recta 2: -5\n",
            "Ingrese la ordenada al origen de la recta 2: 4\n",
            "Las rectas son perpendiculares\n"
          ]
        }
      ]
    },
    {
      "cell_type": "markdown",
      "source": [
        "#**Ejercicio 12**:\n",
        "Iván y Miguel quieren jugar a los dados con las siguientes reglas:\n",
        "\n",
        "    Si sale 1, vuelven a lanzar.\n",
        "    Si sale 6, quedan empatados.\n",
        "    Si sale 2 ó 3 gana Iván.\n",
        "    Si sale 4 ó 5 gana Miguel.\n",
        "\n",
        "Haga un programa que le permita jugar a Iván y Miguel utilizando el condicional while. Se debe imprimir el mensaje de acuerdo a las reglas establecidas.\n",
        "**Hint** = Utilice la librería random para generar los números aleatorios."
      ],
      "metadata": {
        "id": "qdHirPx6I2ib"
      }
    },
    {
      "cell_type": "code",
      "source": [
        "import random\n",
        "dado=[1,2,3,4,5,6]\n",
        "while random.choice(dado)==1:\n",
        "  print(\"Salió 1, se vuelve a lanzar\")\n",
        "else:\n",
        "  if random.choice(dado)==6:\n",
        "    print(\"Salió 6, quedan empatados\")\n",
        "  elif random.choice(dado)==2 or random.choice(dado)==3:\n",
        "    print(\"Gana Iván\")\n",
        "  else:\n",
        "    print(\"Gana Miguel\")\n",
        "\n"
      ],
      "metadata": {
        "id": "dDHP_-CG8Nqg",
        "colab": {
          "base_uri": "https://localhost:8080/"
        },
        "outputId": "bfd9a3b5-b27a-44f7-f05d-1cc300413b9b"
      },
      "execution_count": null,
      "outputs": [
        {
          "output_type": "stream",
          "name": "stdout",
          "text": [
            "Gana Miguel\n"
          ]
        }
      ]
    }
  ]
}