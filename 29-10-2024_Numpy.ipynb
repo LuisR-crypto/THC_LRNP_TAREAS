{
  "cells": [
    {
      "cell_type": "markdown",
      "metadata": {
        "id": "view-in-github",
        "colab_type": "text"
      },
      "source": [
        "<a href=\"https://colab.research.google.com/github/LuisR-crypto/THC_LRNP_TAREAS/blob/main/29-10-2024_Numpy.ipynb\" target=\"_parent\"><img src=\"https://colab.research.google.com/assets/colab-badge.svg\" alt=\"Open In Colab\"/></a>"
      ]
    },
    {
      "cell_type": "markdown",
      "id": "0c4018bd",
      "metadata": {
        "id": "0c4018bd"
      },
      "source": [
        "<font color=\"Red\" face=\"Comic Sans MS,arial\">\n",
        "  <h1 align=\"center\"><i>Numpy </i></h1>\n",
        "  </font>\n",
        "  \n",
        "> Elaborado por: Jesús Iván Coss Calderón. mat_ing_coss@ciencias.unam.mx"
      ]
    },
    {
      "cell_type": "markdown",
      "id": "d572795c",
      "metadata": {
        "id": "d572795c"
      },
      "source": [
        "**Objetivo general**\n",
        "\n",
        "* Aprender los fundamentos de la biblioteca de Numpy\n",
        "\n",
        "**Objetivos particulares**\n",
        "\n",
        "* Entender el uso de los métodos de Numpy"
      ]
    },
    {
      "cell_type": "markdown",
      "id": "001e54d2",
      "metadata": {
        "id": "001e54d2"
      },
      "source": [
        "[**Regresa al notebook principal**](https://github.com/seismomat/HerramientasComputacionales/blob/main/TemarioDePython/Temario%20de%20Python.ipynb)"
      ]
    },
    {
      "cell_type": "markdown",
      "id": "b76ffc8a",
      "metadata": {
        "id": "b76ffc8a"
      },
      "source": [
        "<a name='c1'></a>\n",
        "\n",
        "## Contenido\n",
        "\n",
        "- [¿Qué es NumPy?](#1)\n",
        "    - [¿Por qué usar NumPy?](#1-1)\n",
        "    - [¿Por qué NumPy es más rápido que las listas?](#1-2)\n",
        "    - [Instalación de Numpy](#1-3)\n",
        "    - [Importando Numpy](#1-4)\n",
        "- [Crear un Objeto ndarray de NumPy](#2)\n",
        "    - [Arreglos 0-D](#2-1)\n",
        "    - [Arreglos 1-D](#2-2)\n",
        "    - [Arreglos 2-D](#2-3)\n",
        "    - [Arreglos 3-D](#2-4)\n",
        "    - [Checando las dimensiones de los arreglos](#2-5)\n",
        "    - [Arreglos de dimensión mayor](#2-6)\n",
        "- [Acceso a elementos](#3)\n",
        "    - [Arreglos 1-D](#3-1)\n",
        "    - [Arreglos 2-D](#3-2)\n",
        "    - [Arreglos 3-D](#3-3)\n",
        "- [Slicing](#4)\n",
        "    - [Arreglos 1-D](#4-1)\n",
        "        - [Paso](#4-1-1)\n",
        "    - [Arreglos 2-D](#4-2)\n",
        "- [Buscando en arreglos](#5)\n",
        "- [Filtrado](#6)"
      ]
    },
    {
      "cell_type": "markdown",
      "id": "269975e0",
      "metadata": {
        "id": "269975e0"
      },
      "source": [
        "<a name='1'></a>\n",
        "\n",
        "# ¿Qué es NumPy?\n",
        "[regresar al contenido](#c1)\n",
        "\n",
        "NumPy es una biblioteca de Python utilizada para trabajar con matrices.\n",
        "\n",
        "También tiene funciones para trabajar en el ámbito del álgebra lineal, la transformada de Fourier y las matrices.\n",
        "\n",
        "NumPy fue creado en 2005 por Travis Oliphant. Es un proyecto de código abierto y puedes utilizarlo libremente.\n",
        "\n",
        "NumPy significa \"Numerical Python\" (Python Numérico)."
      ]
    },
    {
      "cell_type": "markdown",
      "id": "fb9dfa06",
      "metadata": {
        "id": "fb9dfa06"
      },
      "source": [
        "<a name='1-1'></a>\n",
        "\n",
        "## ¿Por qué usar NumPy?\n",
        "[regresar al contenido](#c1)\n",
        "\n",
        "En Python, tenemos listas que cumplen la función de arrays, pero son lentas de procesar.\n",
        "\n",
        "NumPy tiene como objetivo proporcionar un objeto de array que sea hasta 50 veces más rápido que las listas tradicionales de Python.\n",
        "\n",
        "El objeto de array en NumPy se llama ndarray y proporciona muchas funciones de soporte que facilitan trabajar con ndarray.\n",
        "\n",
        "Los arrays se utilizan con mucha frecuencia en la ciencia de datos, donde la velocidad y los recursos son muy importantes."
      ]
    },
    {
      "cell_type": "markdown",
      "id": "afa98fb0",
      "metadata": {
        "id": "afa98fb0"
      },
      "source": [
        "<a name='1-2'></a>\n",
        "\n",
        "## ¿Por qué NumPy es más rápido que las listas?\n",
        "[regresar al contenido](#c1)\n",
        "\n",
        "Los arrays de NumPy se almacenan en un lugar continuo en la memoria, a diferencia de las listas, por lo que los procesos pueden acceder y manipularlos de manera muy eficiente.\n",
        "\n",
        "Este comportamiento se llama \"localidad de referencia\" en informática.\n",
        "\n",
        "Esta es la razón principal por la que NumPy es más rápido que las listas. Además, está optimizado para funcionar con las últimas arquitecturas de CPU."
      ]
    },
    {
      "cell_type": "markdown",
      "id": "1e4b0d87",
      "metadata": {
        "id": "1e4b0d87"
      },
      "source": [
        "<a name='1-3'></a>\n",
        "\n",
        "## Instalación de Numpy\n",
        "[regresar al contenido](#c1)\n",
        "\n",
        "> pip install numpy"
      ]
    },
    {
      "cell_type": "markdown",
      "id": "1afce1d8",
      "metadata": {
        "id": "1afce1d8"
      },
      "source": [
        "<a name='1-4'></a>\n",
        "\n",
        "## Importando Numpy\n",
        "[regresar al contenido](#c1)\n",
        "\n",
        "> import numpy\n",
        "\n",
        "o también se puede importar con algún alias\n",
        "\n",
        "> import numpy as np"
      ]
    },
    {
      "cell_type": "markdown",
      "id": "d003deb7",
      "metadata": {
        "id": "d003deb7"
      },
      "source": [
        "<a name='2'></a>\n",
        "\n",
        "# Crear un Objeto ndarray de NumPy\n",
        "[regresar al contenido](#c1)\n",
        "\n",
        "`NumPy` se utiliza para trabajar con arrays. El objeto de array en NumPy se llama ndarray.\n",
        "\n",
        "Podemos crear un objeto ndarray de NumPy utilizando la función `array()`."
      ]
    },
    {
      "cell_type": "code",
      "execution_count": 1,
      "id": "a7c7c289",
      "metadata": {
        "id": "a7c7c289"
      },
      "outputs": [],
      "source": [
        "import numpy as np"
      ]
    },
    {
      "cell_type": "code",
      "execution_count": 2,
      "id": "64fb5e5d",
      "metadata": {
        "id": "64fb5e5d",
        "outputId": "0029dcb6-d786-45ea-bf32-38f97fc4944b",
        "colab": {
          "base_uri": "https://localhost:8080/"
        }
      },
      "outputs": [
        {
          "output_type": "stream",
          "name": "stdout",
          "text": [
            "[1 2 3 4 5]\n",
            "<class 'numpy.ndarray'>\n"
          ]
        }
      ],
      "source": [
        "arr = np.array([1, 2, 3, 4, 5])\n",
        "\n",
        "print(arr)\n",
        "\n",
        "print(type(arr))"
      ]
    },
    {
      "cell_type": "code",
      "execution_count": 3,
      "id": "f0d7e5f2",
      "metadata": {
        "id": "f0d7e5f2",
        "outputId": "042af6bb-a3cf-4e20-d338-463d3c427e05",
        "colab": {
          "base_uri": "https://localhost:8080/"
        }
      },
      "outputs": [
        {
          "output_type": "stream",
          "name": "stdout",
          "text": [
            "[1 2 3 4 5]\n",
            "<class 'numpy.ndarray'>\n"
          ]
        }
      ],
      "source": [
        "arr1 = np.array((1, 2, 3, 4, 5))\n",
        "\n",
        "print(arr1)\n",
        "\n",
        "print(type(arr1))"
      ]
    },
    {
      "cell_type": "markdown",
      "id": "005406f1",
      "metadata": {
        "id": "005406f1"
      },
      "source": [
        "<a name='2-1'></a>\n",
        "\n",
        "## Arreglos 0-D\n",
        "[regresar al contenido](#c1)\n",
        "\n",
        "Los arrays 0-D, o escalares, son los elementos en un array. Cada valor en un array se considera un array 0-D en sí mismo. En otras palabras, un array puede contener múltiples escalares como sus elementos."
      ]
    },
    {
      "cell_type": "code",
      "execution_count": 4,
      "id": "a7fb1469",
      "metadata": {
        "id": "a7fb1469",
        "outputId": "6cd98cf1-0aed-4732-a723-de621162c94b",
        "colab": {
          "base_uri": "https://localhost:8080/"
        }
      },
      "outputs": [
        {
          "output_type": "stream",
          "name": "stdout",
          "text": [
            "42\n"
          ]
        }
      ],
      "source": [
        "arr = np.array(42)\n",
        "\n",
        "print(arr)"
      ]
    },
    {
      "cell_type": "markdown",
      "id": "404c4858",
      "metadata": {
        "id": "404c4858"
      },
      "source": [
        "<a name='2-2'></a>\n",
        "\n",
        "## Arreglos 1-D\n",
        "[regresar al contenido](#c1)\n",
        "\n",
        "Un array que tiene arrays 0-D (escalares) como sus elementos se llama array unidimensional o 1-D. En otras palabras, es un array que contiene valores individuales en lugar de secuencias de valores."
      ]
    },
    {
      "cell_type": "code",
      "execution_count": 5,
      "id": "fe1699a4",
      "metadata": {
        "id": "fe1699a4",
        "outputId": "6fcbc627-bbbd-4804-8587-699242585bb2",
        "colab": {
          "base_uri": "https://localhost:8080/"
        }
      },
      "outputs": [
        {
          "output_type": "stream",
          "name": "stdout",
          "text": [
            "[1 2 3 4 5]\n"
          ]
        }
      ],
      "source": [
        "arr = np.array([1, 2, 3, 4, 5])\n",
        "\n",
        "print(arr)"
      ]
    },
    {
      "cell_type": "markdown",
      "id": "35e019d4",
      "metadata": {
        "id": "35e019d4"
      },
      "source": [
        "<a name='2-3'></a>\n",
        "\n",
        "## Arreglos 2-D\n",
        "[regresar al contenido](#c1)\n",
        "\n",
        "Un array que tiene arrays 1-D como sus elementos se llama array 2-D.\n",
        "\n",
        "A menudo se utilizan para representar matrices o tensores de segundo orden."
      ]
    },
    {
      "cell_type": "code",
      "execution_count": 6,
      "id": "374d7927",
      "metadata": {
        "id": "374d7927",
        "outputId": "071f444e-a70b-418a-cd49-5f91aa0f776e",
        "colab": {
          "base_uri": "https://localhost:8080/"
        }
      },
      "outputs": [
        {
          "output_type": "stream",
          "name": "stdout",
          "text": [
            "[[1 2 3]\n",
            " [4 5 6]]\n"
          ]
        }
      ],
      "source": [
        "arr = np.array([[1, 2, 3], [4, 5, 6]])\n",
        "\n",
        "print(arr)"
      ]
    },
    {
      "cell_type": "markdown",
      "id": "52fc994d",
      "metadata": {
        "id": "52fc994d"
      },
      "source": [
        "<a name='2-4'></a>\n",
        "\n",
        "## Arreglos 3-D\n",
        "[regresar al contenido](#c1)\n",
        "\n",
        "Un array que tiene matrices 2-D como sus elementos se llama array 3-D.\n",
        "\n",
        "A menudo se utilizan para representar un tensor de tercer orden."
      ]
    },
    {
      "cell_type": "code",
      "execution_count": 7,
      "id": "eac0b498",
      "metadata": {
        "id": "eac0b498",
        "outputId": "7bb18591-08c8-47f3-da3d-97c78120123c",
        "colab": {
          "base_uri": "https://localhost:8080/"
        }
      },
      "outputs": [
        {
          "output_type": "stream",
          "name": "stdout",
          "text": [
            "[[[1 2 3]\n",
            "  [4 5 6]]\n",
            "\n",
            " [[1 2 3]\n",
            "  [4 5 6]]]\n"
          ]
        }
      ],
      "source": [
        "arr = np.array([[[1, 2, 3], [4, 5, 6]], [[1, 2, 3], [4, 5, 6]]])\n",
        "\n",
        "print(arr)"
      ]
    },
    {
      "cell_type": "markdown",
      "id": "2e3ac2bd",
      "metadata": {
        "id": "2e3ac2bd"
      },
      "source": [
        "<a name='2-5'></a>\n",
        "\n",
        "## Checando las dimensiones de los arreglos\n",
        "[regresar al contenido](#c1)"
      ]
    },
    {
      "cell_type": "code",
      "execution_count": 8,
      "id": "0d68b896",
      "metadata": {
        "id": "0d68b896",
        "outputId": "95f30ba3-0f27-4858-b5ab-8d38fc8f4129",
        "colab": {
          "base_uri": "https://localhost:8080/"
        }
      },
      "outputs": [
        {
          "output_type": "stream",
          "name": "stdout",
          "text": [
            "0 ()\n",
            "1 (5,)\n",
            "2 (2, 3)\n",
            "3 (2, 2, 3)\n"
          ]
        }
      ],
      "source": [
        "a = np.array(42)\n",
        "b = np.array([1, 2, 3, 4, 5])\n",
        "c = np.array([[1, 2, 3], [4, 5, 6]])\n",
        "d = np.array([[[1, 2, 3], [4, 5, 6]], [[1, 2, 3], [4, 5, 6]]])\n",
        "\n",
        "print(a.ndim,a.shape)\n",
        "print(b.ndim,b.shape)\n",
        "print(c.ndim,c.shape)\n",
        "print(d.ndim,d.shape)"
      ]
    },
    {
      "cell_type": "markdown",
      "id": "309193c6",
      "metadata": {
        "id": "309193c6"
      },
      "source": [
        "<a name='2-6'></a>\n",
        "\n",
        "## Arreglos de dimensión mayor\n",
        "[regresar al contenido](#c1)"
      ]
    },
    {
      "cell_type": "code",
      "execution_count": 9,
      "id": "a888e6be",
      "metadata": {
        "id": "a888e6be",
        "outputId": "df2957e2-7d71-42ff-c140-407aaff4e52f",
        "colab": {
          "base_uri": "https://localhost:8080/"
        }
      },
      "outputs": [
        {
          "output_type": "stream",
          "name": "stdout",
          "text": [
            "[[[[[1 2 3 4]]]]]\n",
            "number of dimensions : 5\n"
          ]
        }
      ],
      "source": [
        "arr = np.array([1, 2, 3, 4], ndmin=5)\n",
        "\n",
        "print(arr)\n",
        "print('number of dimensions :', arr.ndim)"
      ]
    },
    {
      "cell_type": "markdown",
      "id": "334a05cf",
      "metadata": {
        "id": "334a05cf"
      },
      "source": [
        "<a name='3'></a>\n",
        "\n",
        "# Acceso a elementos\n",
        "[regresar al contenido](#c1)\n",
        "\n",
        "La indexación de arrays es similar a acceder a un elemento de un array.\n",
        "\n",
        "Puedes acceder a un elemento de un array haciendo referencia a su número de índice.\n",
        "\n",
        "Los índices en los arrays de NumPy comienzan en 0, lo que significa que el primer elemento tiene un índice 0, el segundo tiene un índice 1, y así sucesivamente."
      ]
    },
    {
      "cell_type": "markdown",
      "id": "871a1629",
      "metadata": {
        "id": "871a1629"
      },
      "source": [
        "<a name='3-1'></a>\n",
        "\n",
        "## Arreglos 1-D\n",
        "[regresar al contenido](#c1)"
      ]
    },
    {
      "cell_type": "code",
      "execution_count": 10,
      "id": "a6c12ba3",
      "metadata": {
        "id": "a6c12ba3",
        "outputId": "7ffa062d-efc3-4f19-cfab-c23d9e8291d2",
        "colab": {
          "base_uri": "https://localhost:8080/"
        }
      },
      "outputs": [
        {
          "output_type": "stream",
          "name": "stdout",
          "text": [
            "1\n"
          ]
        }
      ],
      "source": [
        "arr = np.array([1, 2, 3, 4])\n",
        "\n",
        "print(arr[0])"
      ]
    },
    {
      "cell_type": "markdown",
      "id": "2c068b12",
      "metadata": {
        "id": "2c068b12"
      },
      "source": [
        "<a name='3-2'></a>\n",
        "\n",
        "## Arreglos 2-D\n",
        "[regresar al contenido](#c1)\n",
        "\n",
        "Para acceder a elementos de arrays 2-D, podemos usar enteros separados por comas que representan la dimensión y el índice del elemento.\n",
        "\n",
        "Piensa en los arrays 2-D como una tabla con filas y columnas, donde la dimensión representa la fila y el índice representa la columna."
      ]
    },
    {
      "cell_type": "code",
      "execution_count": 11,
      "id": "022ca5d5",
      "metadata": {
        "id": "022ca5d5",
        "outputId": "2b495a39-40cb-4427-803e-372aa6842ba6",
        "colab": {
          "base_uri": "https://localhost:8080/"
        }
      },
      "outputs": [
        {
          "output_type": "stream",
          "name": "stdout",
          "text": [
            "2do elemento de la 1er Fila:  2\n"
          ]
        }
      ],
      "source": [
        "arr = np.array([[1,2,3,4,5], [6,7,8,9,10]])\n",
        "\n",
        "print('2do elemento de la 1er Fila: ', arr[0, 1])"
      ]
    },
    {
      "cell_type": "code",
      "execution_count": 12,
      "id": "d5da39b6",
      "metadata": {
        "id": "d5da39b6",
        "outputId": "4d3c1a12-4daa-4dc7-f75b-ffec4bf4014b",
        "colab": {
          "base_uri": "https://localhost:8080/"
        }
      },
      "outputs": [
        {
          "output_type": "stream",
          "name": "stdout",
          "text": [
            "Quinto elemento de la 2da Fila 10\n"
          ]
        }
      ],
      "source": [
        "print('Quinto elemento de la 2da Fila', arr[1, 4])"
      ]
    },
    {
      "cell_type": "markdown",
      "id": "fab1a880",
      "metadata": {
        "id": "fab1a880"
      },
      "source": [
        "<a name='3-3'></a>\n",
        "\n",
        "## Arreglos 3-D\n",
        "[regresar al contenido](#c1)\n",
        "\n",
        "Para acceder a elementos de arrays 3-D, podemos usar enteros separados por comas que representan las dimensiones y el índice del elemento. Esto implica especificar la coordenada en cada dimensión para llegar al elemento deseado en el array tridimensional."
      ]
    },
    {
      "cell_type": "code",
      "execution_count": 13,
      "id": "5a5cf294",
      "metadata": {
        "id": "5a5cf294",
        "outputId": "0d784219-fe33-468b-f289-7ebf03fc6f61",
        "colab": {
          "base_uri": "https://localhost:8080/"
        }
      },
      "outputs": [
        {
          "output_type": "stream",
          "name": "stdout",
          "text": [
            "6\n"
          ]
        }
      ],
      "source": [
        "arr = np.array([[[1, 2, 3], [4, 5, 6]], [[7, 8, 9], [10, 11, 12]]])\n",
        "\n",
        "print(arr[0, 1, 2])"
      ]
    },
    {
      "cell_type": "markdown",
      "id": "8f298f2e",
      "metadata": {
        "id": "8f298f2e"
      },
      "source": [
        "<a name='4'></a>\n",
        "\n",
        "# Slicing\n",
        "[regresar al contenido](#c1)\n",
        "\n",
        "El slicing en Python significa tomar elementos desde un índice dado hasta otro índice dado.\n",
        "\n",
        "Pasamos el slice en lugar del índice de esta manera: `[inicio:fin]`.\n",
        "\n",
        "También podemos definir el paso, de esta manera: `[inicio:fin:paso]`.\n",
        "\n",
        "- Si no especificamos el inicio, se considera 0.\n",
        "- Si no especificamos el fin, se considera la longitud del array en esa dimensión.\n",
        "- Si no especificamos el paso, se considera 1."
      ]
    },
    {
      "cell_type": "markdown",
      "id": "e42a3bc8",
      "metadata": {
        "id": "e42a3bc8"
      },
      "source": [
        "<a name='4-1'></a>\n",
        "\n",
        "## Arreglos 1-D\n",
        "[regresar al contenido](#c1)"
      ]
    },
    {
      "cell_type": "code",
      "execution_count": 14,
      "id": "d67dccf1",
      "metadata": {
        "id": "d67dccf1",
        "outputId": "3b72a763-a591-4004-b338-240214b22e09",
        "colab": {
          "base_uri": "https://localhost:8080/"
        }
      },
      "outputs": [
        {
          "output_type": "stream",
          "name": "stdout",
          "text": [
            "[2 3 4 5]\n"
          ]
        }
      ],
      "source": [
        "arr = np.array([1, 2, 3, 4, 5, 6, 7])\n",
        "\n",
        "print(arr[1:5])"
      ]
    },
    {
      "cell_type": "code",
      "execution_count": 15,
      "id": "28293789",
      "metadata": {
        "id": "28293789",
        "outputId": "d9b7fedc-06ea-414e-b8f4-7afd2cf20c2a",
        "colab": {
          "base_uri": "https://localhost:8080/"
        }
      },
      "outputs": [
        {
          "output_type": "stream",
          "name": "stdout",
          "text": [
            "[5 6 7]\n"
          ]
        }
      ],
      "source": [
        "print(arr[4:])"
      ]
    },
    {
      "cell_type": "code",
      "execution_count": 16,
      "id": "cc141216",
      "metadata": {
        "id": "cc141216",
        "outputId": "53b9c54a-a9a0-47ce-afc6-1d2020116a0e",
        "colab": {
          "base_uri": "https://localhost:8080/"
        }
      },
      "outputs": [
        {
          "output_type": "stream",
          "name": "stdout",
          "text": [
            "[1 2 3 4]\n"
          ]
        }
      ],
      "source": [
        "print(arr[:4])"
      ]
    },
    {
      "cell_type": "code",
      "execution_count": 17,
      "id": "61601d55",
      "metadata": {
        "id": "61601d55",
        "outputId": "e9d1793b-6492-41b9-9b22-d3c6f8ecbe2c",
        "colab": {
          "base_uri": "https://localhost:8080/"
        }
      },
      "outputs": [
        {
          "output_type": "stream",
          "name": "stdout",
          "text": [
            "[5 6]\n"
          ]
        }
      ],
      "source": [
        "print(arr[-3:-1])"
      ]
    },
    {
      "cell_type": "markdown",
      "id": "7ab644fb",
      "metadata": {
        "id": "7ab644fb"
      },
      "source": [
        "<a name='4-1-1'></a>\n",
        "\n",
        "### Paso\n",
        "[regresar al contenido](#c1)\n",
        "\n",
        "> `arreglo[inicio:fin:paso]`"
      ]
    },
    {
      "cell_type": "code",
      "execution_count": 18,
      "id": "c679f34b",
      "metadata": {
        "id": "c679f34b",
        "outputId": "d2cc4ddb-1003-4dc9-9106-c4f18d9efb75",
        "colab": {
          "base_uri": "https://localhost:8080/"
        }
      },
      "outputs": [
        {
          "output_type": "stream",
          "name": "stdout",
          "text": [
            "[2 4]\n"
          ]
        }
      ],
      "source": [
        "arr = np.array([1, 2, 3, 4, 5, 6, 7])\n",
        "\n",
        "print(arr[1:5:2])"
      ]
    },
    {
      "cell_type": "code",
      "execution_count": 19,
      "id": "8382b8ab",
      "metadata": {
        "id": "8382b8ab",
        "outputId": "21888c43-f4cd-406e-b675-6048d32d0010",
        "colab": {
          "base_uri": "https://localhost:8080/"
        }
      },
      "outputs": [
        {
          "output_type": "stream",
          "name": "stdout",
          "text": [
            "[1 3 5 7]\n"
          ]
        }
      ],
      "source": [
        "arr = np.array([1, 2, 3, 4, 5, 6, 7])\n",
        "\n",
        "print(arr[::2])"
      ]
    },
    {
      "cell_type": "markdown",
      "id": "014d2c2f",
      "metadata": {
        "id": "014d2c2f"
      },
      "source": [
        "<a name='4-2'></a>\n",
        "\n",
        "## Arreglos 2-D\n",
        "[regresar al contenido](#c1)"
      ]
    },
    {
      "cell_type": "code",
      "execution_count": 20,
      "id": "d69fb410",
      "metadata": {
        "id": "d69fb410",
        "outputId": "19ae96d6-79c2-4828-862b-98ea9206895d",
        "colab": {
          "base_uri": "https://localhost:8080/"
        }
      },
      "outputs": [
        {
          "output_type": "stream",
          "name": "stdout",
          "text": [
            "[7 8 9]\n"
          ]
        }
      ],
      "source": [
        "arr = np.array([[1, 2, 3, 4, 5], [6, 7, 8, 9, 10]])\n",
        "\n",
        "print(arr[1, 1:4])"
      ]
    },
    {
      "cell_type": "code",
      "execution_count": 21,
      "id": "73f603db",
      "metadata": {
        "id": "73f603db",
        "outputId": "bcc5ce6b-9289-42cf-be53-d0bfcc1fbfd7",
        "colab": {
          "base_uri": "https://localhost:8080/"
        }
      },
      "outputs": [
        {
          "output_type": "stream",
          "name": "stdout",
          "text": [
            "[3 8]\n"
          ]
        }
      ],
      "source": [
        "arr = np.array([[1, 2, 3, 4, 5], [6, 7, 8, 9, 10]])\n",
        "\n",
        "print(arr[0:2, 2])"
      ]
    },
    {
      "cell_type": "code",
      "execution_count": 22,
      "id": "f059a5a0",
      "metadata": {
        "id": "f059a5a0",
        "outputId": "a1ee6a57-dae2-4b8d-b300-ae21a4d5696d",
        "colab": {
          "base_uri": "https://localhost:8080/"
        }
      },
      "outputs": [
        {
          "output_type": "stream",
          "name": "stdout",
          "text": [
            "[[2 3 4]\n",
            " [7 8 9]]\n"
          ]
        }
      ],
      "source": [
        "arr = np.array([[1, 2, 3, 4, 5], [6, 7, 8, 9, 10]])\n",
        "\n",
        "print(arr[0:2, 1:4])"
      ]
    },
    {
      "cell_type": "markdown",
      "id": "202b7434",
      "metadata": {
        "id": "202b7434"
      },
      "source": [
        "<a name='5'></a>\n",
        "\n",
        "# Buscando en arreglos\n",
        "[regresar al contenido](#c1)\n",
        "\n",
        "Puedes buscar un valor específico en un array y obtener los índices que coinciden con ese valor.\n",
        "\n",
        "Para buscar en un array, utiliza el método `where()`. El método `where()` de NumPy te permite buscar elementos que cumplan con ciertas condiciones y devuelve los índices donde se encuentran esos elementos."
      ]
    },
    {
      "cell_type": "code",
      "execution_count": 23,
      "id": "1ea1a138",
      "metadata": {
        "id": "1ea1a138",
        "outputId": "305c288c-8cab-42a4-c8b5-f831f91ef5d4",
        "colab": {
          "base_uri": "https://localhost:8080/"
        }
      },
      "outputs": [
        {
          "output_type": "stream",
          "name": "stdout",
          "text": [
            "(array([3, 5, 6]),)\n"
          ]
        }
      ],
      "source": [
        "arr = np.array([1, 2, 3, 4, 5, 4, 4])\n",
        "\n",
        "x = np.where(arr == 4)\n",
        "\n",
        "print(x)"
      ]
    },
    {
      "cell_type": "code",
      "execution_count": 24,
      "id": "fc453229",
      "metadata": {
        "id": "fc453229",
        "outputId": "b0ef8575-5cdd-40da-a708-67123f8dd3bd",
        "colab": {
          "base_uri": "https://localhost:8080/"
        }
      },
      "outputs": [
        {
          "output_type": "stream",
          "name": "stdout",
          "text": [
            "(array([1, 3, 5, 7]),)\n"
          ]
        }
      ],
      "source": [
        "arr = np.array([1, 2, 3, 4, 5, 6, 7, 8])\n",
        "\n",
        "x = np.where(arr%2 == 0)\n",
        "\n",
        "print(x)"
      ]
    },
    {
      "cell_type": "markdown",
      "id": "872ad064",
      "metadata": {
        "id": "872ad064"
      },
      "source": [
        "Existe un método llamado `searchsorted()` que realiza una búsqueda binaria en el array y devuelve el índice donde se insertaría el valor especificado para mantener el orden de búsqueda.\n",
        "\n",
        "Se asume que el método `searchsorted()` se utiliza en arrays ordenados, ya que se basa en la búsqueda binaria, que funciona eficientemente en datos ordenados."
      ]
    },
    {
      "cell_type": "code",
      "execution_count": 25,
      "id": "d6435014",
      "metadata": {
        "id": "d6435014",
        "outputId": "3cdbd84a-d326-4b5f-e351-0e4abd01b235",
        "colab": {
          "base_uri": "https://localhost:8080/"
        }
      },
      "outputs": [
        {
          "output_type": "stream",
          "name": "stdout",
          "text": [
            "1\n"
          ]
        }
      ],
      "source": [
        "arr = np.array([6, 7, 8, 9])\n",
        "\n",
        "x = np.searchsorted(arr, 7)\n",
        "\n",
        "print(x)"
      ]
    },
    {
      "cell_type": "markdown",
      "id": "9122d7de",
      "metadata": {
        "id": "9122d7de"
      },
      "source": [
        "De forma predeterminada, se devuelve el índice más a la izquierda al buscar un valor en un array, pero podemos especificar `side='right'` para obtener en su lugar el índice más a la derecha."
      ]
    },
    {
      "cell_type": "code",
      "execution_count": 26,
      "id": "80e59184",
      "metadata": {
        "id": "80e59184",
        "outputId": "95c0cadb-b6ef-47e0-bcf2-3403f6cdc52b",
        "colab": {
          "base_uri": "https://localhost:8080/"
        }
      },
      "outputs": [
        {
          "output_type": "stream",
          "name": "stdout",
          "text": [
            "2\n"
          ]
        }
      ],
      "source": [
        "arr = np.array([6, 7, 8, 9])\n",
        "\n",
        "x = np.searchsorted(arr, 7, side='right')\n",
        "\n",
        "print(x)"
      ]
    },
    {
      "cell_type": "code",
      "execution_count": 27,
      "id": "46398bfb",
      "metadata": {
        "id": "46398bfb",
        "outputId": "40e079fa-95f7-4498-d2ba-b31263b1801e",
        "colab": {
          "base_uri": "https://localhost:8080/"
        }
      },
      "outputs": [
        {
          "output_type": "stream",
          "name": "stdout",
          "text": [
            "[1 2 3]\n"
          ]
        }
      ],
      "source": [
        "arr = np.array([1, 3, 5, 7])\n",
        "\n",
        "x = np.searchsorted(arr, [2, 4, 6])\n",
        "\n",
        "print(x)"
      ]
    },
    {
      "cell_type": "markdown",
      "id": "1515cade",
      "metadata": {
        "id": "1515cade"
      },
      "source": [
        "<a name='6'></a>\n",
        "\n",
        "# Filtrado\n",
        "[regresar al contenido](#c1)"
      ]
    },
    {
      "cell_type": "code",
      "execution_count": 28,
      "id": "5a5e4666",
      "metadata": {
        "id": "5a5e4666",
        "outputId": "dd5eaeb6-3ec6-4577-9404-93650ea1ad68",
        "colab": {
          "base_uri": "https://localhost:8080/"
        }
      },
      "outputs": [
        {
          "output_type": "stream",
          "name": "stdout",
          "text": [
            "[False False  True  True]\n",
            "[43 44]\n"
          ]
        }
      ],
      "source": [
        "arr = np.array([41, 42, 43, 44])\n",
        "\n",
        "filter_arr = arr > 42\n",
        "\n",
        "newarr = arr[filter_arr]\n",
        "\n",
        "print(filter_arr)\n",
        "print(newarr)"
      ]
    },
    {
      "cell_type": "code",
      "execution_count": 29,
      "id": "c4c4b7a9",
      "metadata": {
        "id": "c4c4b7a9",
        "outputId": "1a9dd998-de99-4812-f59b-58f87b30c402",
        "colab": {
          "base_uri": "https://localhost:8080/"
        }
      },
      "outputs": [
        {
          "output_type": "stream",
          "name": "stdout",
          "text": [
            "[False  True False  True False  True False]\n",
            "[2 4 6]\n"
          ]
        }
      ],
      "source": [
        "arr = np.array([1, 2, 3, 4, 5, 6, 7])\n",
        "\n",
        "filter_arr = arr % 2 == 0\n",
        "\n",
        "newarr = arr[filter_arr]\n",
        "\n",
        "print(filter_arr)\n",
        "print(newarr)"
      ]
    },
    {
      "cell_type": "markdown",
      "source": [
        "EVIDENCIA DEL TRABAJO DE LA CLASE DEL 29 DE OCTUBRE DE 2024"
      ],
      "metadata": {
        "id": "LPIHVMIlcoC2"
      },
      "id": "LPIHVMIlcoC2"
    },
    {
      "cell_type": "code",
      "source": [
        "a=[1,2,3,4]\n",
        "b=[4,5,6,7]\n",
        "a+b\n",
        "\n",
        "import numpy as np\n",
        "a=np.array([1,2,3,4])  #Esto ya es un arreglo\n",
        "\n",
        "print(type(a))\n",
        "print(a)"
      ],
      "metadata": {
        "colab": {
          "base_uri": "https://localhost:8080/"
        },
        "id": "dKw7X1NGcnrG",
        "outputId": "6ee8159d-090e-4b2e-af91-b45a2eab95fc"
      },
      "id": "dKw7X1NGcnrG",
      "execution_count": 30,
      "outputs": [
        {
          "output_type": "stream",
          "name": "stdout",
          "text": [
            "<class 'numpy.ndarray'>\n",
            "[1 2 3 4]\n"
          ]
        }
      ]
    },
    {
      "cell_type": "markdown",
      "source": [
        "DIMENSIÓN CERO:\n",
        "\n",
        "Los arreglos de dimensión 0 son aquellos que no tienen corchetes"
      ],
      "metadata": {
        "id": "x8uUNYHudHW1"
      },
      "id": "x8uUNYHudHW1"
    },
    {
      "cell_type": "code",
      "source": [
        "dim_cero=np.array(1)\n",
        "#Arreglo de dimensión cero, corresponden a los escalares en geometría analítica\n",
        "print(dim_cero)"
      ],
      "metadata": {
        "colab": {
          "base_uri": "https://localhost:8080/"
        },
        "id": "-TrFnIYhdUDm",
        "outputId": "f9b73ffe-fc9e-471a-b566-ee5e0a36b98e"
      },
      "id": "-TrFnIYhdUDm",
      "execution_count": 31,
      "outputs": [
        {
          "output_type": "stream",
          "name": "stdout",
          "text": [
            "1\n"
          ]
        }
      ]
    },
    {
      "cell_type": "markdown",
      "source": [
        "DIMENSIÓN UNO\n",
        "\n",
        "La diferencia con los de dimencón 0 es el número de corchetes que tengo, en el caso de tener un par de corchetes son de dimensión uno."
      ],
      "metadata": {
        "id": "l38GGn99dpmP"
      },
      "id": "l38GGn99dpmP"
    },
    {
      "cell_type": "code",
      "source": [
        "dim_uno=np.array([2,3])\n",
        "#Arreglo de dimensión uno, es lo que corresponde en geometría analítica a los vectores\n",
        "print(dim_uno)"
      ],
      "metadata": {
        "colab": {
          "base_uri": "https://localhost:8080/"
        },
        "id": "kzJhoWNcd49H",
        "outputId": "c9ad1982-fc0c-4a1f-8368-afc521059172"
      },
      "id": "kzJhoWNcd49H",
      "execution_count": 32,
      "outputs": [
        {
          "output_type": "stream",
          "name": "stdout",
          "text": [
            "[2 3]\n"
          ]
        }
      ]
    },
    {
      "cell_type": "markdown",
      "source": [
        "DIMENSIÓN DOS\n",
        "\n",
        "Son aquellos que tienen corchetes dentro de corchetes."
      ],
      "metadata": {
        "id": "bSJUYTxGeRTY"
      },
      "id": "bSJUYTxGeRTY"
    },
    {
      "cell_type": "code",
      "source": [
        "dim_dos=np.array([[1,2],[3,4]])\n",
        "#Arreglo de dimensión dos, que son los que corresponden a las matrices en geometría analítica;\n",
        "#por lo tanto se debe de respetar la estructura de una matriz tradicional, de lo contrario nos va  a marcar un error\n",
        "print(dim_dos)\n",
        "\n",
        "#El número de filas de la matriz va a correponder al número de elementos dentro e los corchetes grandes,\n",
        "#mientras que el número de columnas va a acorresponder a los elementos dentro de cada paréntesis pequeño."
      ],
      "metadata": {
        "colab": {
          "base_uri": "https://localhost:8080/"
        },
        "id": "KWpGG3Y9eQ9Q",
        "outputId": "19f2f2f6-5e58-48ff-dc3e-3d3c5945f2ab"
      },
      "id": "KWpGG3Y9eQ9Q",
      "execution_count": 33,
      "outputs": [
        {
          "output_type": "stream",
          "name": "stdout",
          "text": [
            "[[1 2]\n",
            " [3 4]]\n"
          ]
        }
      ]
    },
    {
      "cell_type": "markdown",
      "source": [
        "Cuando se recibe un arreglo, para conocer su dimensión se puede usar el siguiente comando, donde nosotros simplemente ponemos el arreglo  en automático nos dice su dimensión."
      ],
      "metadata": {
        "id": "P0ns_1ZUflla"
      },
      "id": "P0ns_1ZUflla"
    },
    {
      "cell_type": "code",
      "source": [
        "print(dim_cero.ndim)\n",
        "print(dim_uno.ndim)\n",
        "print(dim_dos.ndim)"
      ],
      "metadata": {
        "colab": {
          "base_uri": "https://localhost:8080/"
        },
        "id": "HO-FvOqtfgoy",
        "outputId": "beae733c-d6a9-4725-ba1d-ad4e6dd6fc76"
      },
      "id": "HO-FvOqtfgoy",
      "execution_count": 34,
      "outputs": [
        {
          "output_type": "stream",
          "name": "stdout",
          "text": [
            "0\n",
            "1\n",
            "2\n"
          ]
        }
      ]
    },
    {
      "cell_type": "markdown",
      "source": [
        "Para saber el número de elementos dentro de un arreglo, se puede usar el siguiente comando."
      ],
      "metadata": {
        "id": "ROLqX0t7geoE"
      },
      "id": "ROLqX0t7geoE"
    },
    {
      "cell_type": "code",
      "source": [
        "print(dim_cero.shape)\n",
        "print(dim_uno.shape)\n",
        "print(dim_dos.shape)"
      ],
      "metadata": {
        "colab": {
          "base_uri": "https://localhost:8080/"
        },
        "id": "vBtBI7v2f7Gi",
        "outputId": "472b49b9-6936-49f4-c927-ec00526e9de4"
      },
      "id": "vBtBI7v2f7Gi",
      "execution_count": 35,
      "outputs": [
        {
          "output_type": "stream",
          "name": "stdout",
          "text": [
            "()\n",
            "(2,)\n",
            "(2, 2)\n"
          ]
        }
      ]
    },
    {
      "cell_type": "markdown",
      "source": [
        "Dentro de las variables no se pueden poner datos que no sean del mismo tipo, se pueden pner booleanos y se traducen en unos y ceros, tambien se pueden meter variables  siempre y cuando se hayan declarado desde antes"
      ],
      "metadata": {
        "id": "BUradZjoiVom"
      },
      "id": "BUradZjoiVom"
    },
    {
      "cell_type": "code",
      "source": [
        "import numpy as np\n",
        "A=np.array([[ 1/2 , 1 , 3/4 ] , [ 2 , 4 ,5 ]])\n",
        "\n",
        "B=np.array([[1/2 ,1 , 3/4],[\"o\",1,True],[2,4,5]])\n",
        "print(A)\n",
        "print(B)"
      ],
      "metadata": {
        "colab": {
          "base_uri": "https://localhost:8080/"
        },
        "id": "5IGyLzAbgiF0",
        "outputId": "f12de35b-562a-4079-f96e-9c60ebfd851d"
      },
      "id": "5IGyLzAbgiF0",
      "execution_count": 4,
      "outputs": [
        {
          "output_type": "stream",
          "name": "stdout",
          "text": [
            "[[0.5  1.   0.75]\n",
            " [2.   4.   5.  ]]\n",
            "[['0.5' '1' '0.75']\n",
            " ['o' '1' 'True']\n",
            " ['2' '4' '5']]\n"
          ]
        }
      ]
    },
    {
      "cell_type": "markdown",
      "source": [
        "Se pueden hacer arreglos de diccionarios, de tuplas, pero no de arreglos con diferentes tipos de datos"
      ],
      "metadata": {
        "id": "v717V-xSjAhY"
      },
      "id": "v717V-xSjAhY"
    },
    {
      "cell_type": "code",
      "source": [
        "import numpy as np\n",
        "\n",
        "B=np.array([[1/2 ,1 , 3/4],[o,1,True],[2,4,5]])\n",
        "\n",
        "print(B)"
      ],
      "metadata": {
        "colab": {
          "base_uri": "https://localhost:8080/",
          "height": 211
        },
        "id": "Mu_ZDPR0jSZQ",
        "outputId": "5a6fa36d-ebd4-46bd-bf89-05c991ec280d"
      },
      "id": "Mu_ZDPR0jSZQ",
      "execution_count": 7,
      "outputs": [
        {
          "output_type": "error",
          "ename": "NameError",
          "evalue": "name 'o' is not defined",
          "traceback": [
            "\u001b[0;31m---------------------------------------------------------------------------\u001b[0m",
            "\u001b[0;31mNameError\u001b[0m                                 Traceback (most recent call last)",
            "\u001b[0;32m<ipython-input-7-b943cc66ba8b>\u001b[0m in \u001b[0;36m<cell line: 2>\u001b[0;34m()\u001b[0m\n\u001b[1;32m      1\u001b[0m \u001b[0;32mimport\u001b[0m \u001b[0mnumpy\u001b[0m \u001b[0;32mas\u001b[0m \u001b[0mnp\u001b[0m\u001b[0;34m\u001b[0m\u001b[0;34m\u001b[0m\u001b[0m\n\u001b[0;32m----> 2\u001b[0;31m \u001b[0ma\u001b[0m\u001b[0;34m=\u001b[0m\u001b[0mo\u001b[0m\u001b[0;34m\u001b[0m\u001b[0;34m\u001b[0m\u001b[0m\n\u001b[0m\u001b[1;32m      3\u001b[0m \u001b[0mo\u001b[0m\u001b[0;34m=\u001b[0m\u001b[0ma\u001b[0m\u001b[0;34m\u001b[0m\u001b[0;34m\u001b[0m\u001b[0m\n\u001b[1;32m      4\u001b[0m \u001b[0mB\u001b[0m\u001b[0;34m=\u001b[0m\u001b[0mnp\u001b[0m\u001b[0;34m.\u001b[0m\u001b[0marray\u001b[0m\u001b[0;34m(\u001b[0m\u001b[0;34m[\u001b[0m\u001b[0;34m[\u001b[0m\u001b[0;36m1\u001b[0m\u001b[0;34m/\u001b[0m\u001b[0;36m2\u001b[0m \u001b[0;34m,\u001b[0m\u001b[0;36m1\u001b[0m \u001b[0;34m,\u001b[0m \u001b[0;36m3\u001b[0m\u001b[0;34m/\u001b[0m\u001b[0;36m4\u001b[0m\u001b[0;34m]\u001b[0m\u001b[0;34m,\u001b[0m\u001b[0;34m[\u001b[0m\u001b[0mo\u001b[0m\u001b[0;34m,\u001b[0m\u001b[0;36m1\u001b[0m\u001b[0;34m,\u001b[0m\u001b[0;32mTrue\u001b[0m\u001b[0;34m]\u001b[0m\u001b[0;34m,\u001b[0m\u001b[0;34m[\u001b[0m\u001b[0;36m2\u001b[0m\u001b[0;34m,\u001b[0m\u001b[0;36m4\u001b[0m\u001b[0;34m,\u001b[0m\u001b[0;36m5\u001b[0m\u001b[0;34m]\u001b[0m\u001b[0;34m]\u001b[0m\u001b[0;34m)\u001b[0m\u001b[0;34m\u001b[0m\u001b[0;34m\u001b[0m\u001b[0m\n\u001b[1;32m      5\u001b[0m \u001b[0;34m\u001b[0m\u001b[0m\n",
            "\u001b[0;31mNameError\u001b[0m: name 'o' is not defined"
          ]
        }
      ]
    },
    {
      "cell_type": "markdown",
      "source": [
        "Para imprimir elguno de los elementos del arreglo"
      ],
      "metadata": {
        "id": "lAUOI2JzlGDy"
      },
      "id": "lAUOI2JzlGDy"
    },
    {
      "cell_type": "code",
      "source": [
        "vec=np.array([2 , 0 , -1 , 4 , 5])\n",
        "print(vec[0])\n",
        "print(vec[3])\n",
        "print(vec[-1])\n",
        "print(vec[-2])"
      ],
      "metadata": {
        "colab": {
          "base_uri": "https://localhost:8080/"
        },
        "id": "lTXYwNVIkEOL",
        "outputId": "96611d72-6bf2-4d4d-c06d-07c9560409ba"
      },
      "id": "lTXYwNVIkEOL",
      "execution_count": 9,
      "outputs": [
        {
          "output_type": "stream",
          "name": "stdout",
          "text": [
            "2\n",
            "4\n",
            "5\n",
            "4\n"
          ]
        }
      ]
    },
    {
      "cell_type": "markdown",
      "source": [
        "En el slicing el primer número corresponde al elemento en donde coienza, y el segundo indica quese detiene uno antes de ese número."
      ],
      "metadata": {
        "id": "R9Bd2qXKlvau"
      },
      "id": "R9Bd2qXKlvau"
    },
    {
      "cell_type": "code",
      "source": [
        "vec=np.array([2 , 0 , -1 , 4 , 5])\n",
        "n=len(vec)\n",
        "print(n)\n",
        "print(vec[0:4])\n",
        "print(vec[2:5])\n"
      ],
      "metadata": {
        "colab": {
          "base_uri": "https://localhost:8080/"
        },
        "id": "MQwuhOf8k8G8",
        "outputId": "0b07674e-d836-4b08-d9ae-dc88a1f236b5"
      },
      "id": "MQwuhOf8k8G8",
      "execution_count": 14,
      "outputs": [
        {
          "output_type": "stream",
          "name": "stdout",
          "text": [
            "5\n",
            "[ 2  0 -1  4]\n",
            "[-1  4  5]\n",
            "[ 2  0 -1  4  5]\n"
          ]
        }
      ]
    },
    {
      "cell_type": "markdown",
      "source": [
        "Hay una forma de hacer un pocomás dimámico el slicing, ya que se puede dar un rango del cual e quieren tomar números cada cierta cantidad. El primero es la posición desde la que comienzo, la segunda es hasta la que llego uno antes y la última hace referencia caa cuanto se toman los números/elementos."
      ],
      "metadata": {
        "id": "IM6HRT3Zobb6"
      },
      "id": "IM6HRT3Zobb6"
    },
    {
      "cell_type": "code",
      "source": [
        "vec=np.array([2,0,-1,4,5,6,7,8,9,10])\n",
        "print(vec[1:10:2])\n"
      ],
      "metadata": {
        "colab": {
          "base_uri": "https://localhost:8080/"
        },
        "id": "LuvRQtqmn63J",
        "outputId": "3a93f3c8-5868-41d4-ea9d-84d398cfdf0c"
      },
      "id": "LuvRQtqmn63J",
      "execution_count": 16,
      "outputs": [
        {
          "output_type": "stream",
          "name": "stdout",
          "text": [
            "[ 0  4  6  8 10]\n"
          ]
        }
      ]
    },
    {
      "cell_type": "code",
      "source": [
        "Mat=np.array([[1,2,3,4],[5,6,7,8],[9,10,11,12]])\n",
        "\n",
        "#Acceder al 2\n",
        "print(Mat[0,1])\n",
        "\n",
        "#Acceder al 11\n",
        "print(Mat[2,2])\n",
        "\n",
        "#Acceder al 8\n",
        "print(Mat[1,-1])\n",
        "\n",
        "#Acceder al 12\n",
        "print(Mat[-1,-1])\n",
        "\n",
        "print(Mat[1,4])\n",
        "#Error de sintaxis"
      ],
      "metadata": {
        "colab": {
          "base_uri": "https://localhost:8080/",
          "height": 245
        },
        "id": "Glfaj9GUo7x2",
        "outputId": "2c3e8dba-ab72-45d5-c789-9358808d61b4"
      },
      "id": "Glfaj9GUo7x2",
      "execution_count": 22,
      "outputs": [
        {
          "output_type": "stream",
          "name": "stdout",
          "text": [
            "2\n",
            "11\n",
            "8\n",
            "12\n"
          ]
        },
        {
          "output_type": "error",
          "ename": "IndexError",
          "evalue": "index 4 is out of bounds for axis 1 with size 4",
          "traceback": [
            "\u001b[0;31m---------------------------------------------------------------------------\u001b[0m",
            "\u001b[0;31mIndexError\u001b[0m                                Traceback (most recent call last)",
            "\u001b[0;32m<ipython-input-22-2c766f3d2c29>\u001b[0m in \u001b[0;36m<cell line: 15>\u001b[0;34m()\u001b[0m\n\u001b[1;32m     13\u001b[0m \u001b[0mprint\u001b[0m\u001b[0;34m(\u001b[0m\u001b[0mMat\u001b[0m\u001b[0;34m[\u001b[0m\u001b[0;34m-\u001b[0m\u001b[0;36m1\u001b[0m\u001b[0;34m,\u001b[0m\u001b[0;34m-\u001b[0m\u001b[0;36m1\u001b[0m\u001b[0;34m]\u001b[0m\u001b[0;34m)\u001b[0m\u001b[0;34m\u001b[0m\u001b[0;34m\u001b[0m\u001b[0m\n\u001b[1;32m     14\u001b[0m \u001b[0;34m\u001b[0m\u001b[0m\n\u001b[0;32m---> 15\u001b[0;31m \u001b[0mprint\u001b[0m\u001b[0;34m(\u001b[0m\u001b[0mMat\u001b[0m\u001b[0;34m[\u001b[0m\u001b[0;36m1\u001b[0m\u001b[0;34m,\u001b[0m\u001b[0;36m4\u001b[0m\u001b[0;34m]\u001b[0m\u001b[0;34m)\u001b[0m\u001b[0;34m\u001b[0m\u001b[0;34m\u001b[0m\u001b[0m\n\u001b[0m",
            "\u001b[0;31mIndexError\u001b[0m: index 4 is out of bounds for axis 1 with size 4"
          ]
        }
      ]
    },
    {
      "cell_type": "markdown",
      "source": [
        "IMPRIMIR COLUMNAS"
      ],
      "metadata": {
        "id": "VULfjP1LrE6R"
      },
      "id": "VULfjP1LrE6R"
    },
    {
      "cell_type": "code",
      "source": [
        "print(Mat[:,0])\n",
        "print(Mat[:,1])\n",
        "print(Mat[:,2])\n",
        "print(Mat[:,3])"
      ],
      "metadata": {
        "colab": {
          "base_uri": "https://localhost:8080/"
        },
        "id": "DSogE5gvqK6h",
        "outputId": "29108afa-3857-4111-d684-b9182ecbde36"
      },
      "id": "DSogE5gvqK6h",
      "execution_count": 25,
      "outputs": [
        {
          "output_type": "stream",
          "name": "stdout",
          "text": [
            "[1 5 9]\n",
            "[ 2  6 10]\n",
            "[ 3  7 11]\n",
            "[ 4  8 12]\n"
          ]
        }
      ]
    },
    {
      "cell_type": "markdown",
      "source": [
        "IMPRIMIR FILAS"
      ],
      "metadata": {
        "id": "cEelsRVSrHC5"
      },
      "id": "cEelsRVSrHC5"
    },
    {
      "cell_type": "code",
      "source": [
        "print(Mat[0,:])\n",
        "print(Mat[1,:])\n",
        "print(Mat[2,:])"
      ],
      "metadata": {
        "colab": {
          "base_uri": "https://localhost:8080/"
        },
        "id": "dtw7ztOiq2wX",
        "outputId": "391967dd-23da-421d-ab90-4a786d28e47b"
      },
      "id": "dtw7ztOiq2wX",
      "execution_count": 26,
      "outputs": [
        {
          "output_type": "stream",
          "name": "stdout",
          "text": [
            "[1 2 3 4]\n",
            "[5 6 7 8]\n",
            "[ 9 10 11 12]\n"
          ]
        }
      ]
    },
    {
      "cell_type": "markdown",
      "source": [
        "Se puede combinar el slicing de columnas o filas con el slicing normal, lo único es que donde antes se ponían los dos puntos, ahora se pone el slicing normal."
      ],
      "metadata": {
        "id": "639cSXNlr1WU"
      },
      "id": "639cSXNlr1WU"
    },
    {
      "cell_type": "code",
      "source": [
        "print(Mat[1,1:4])\n",
        "print()\n",
        "print(Mat[1:3,2])\n",
        "print()\n",
        "print(Mat[1:3,1:4])\n",
        "print()\n",
        "#El primero cntrola filas y el segundo controla columnas\n",
        "print(Mat[0:2,0:3])"
      ],
      "metadata": {
        "colab": {
          "base_uri": "https://localhost:8080/"
        },
        "id": "dT5c-rc9rOKY",
        "outputId": "98ef529e-1c7c-471c-e574-943c3417eca4"
      },
      "id": "dT5c-rc9rOKY",
      "execution_count": 36,
      "outputs": [
        {
          "output_type": "stream",
          "name": "stdout",
          "text": [
            "[6 7 8]\n",
            "\n",
            "[ 7 11]\n",
            "\n",
            "[[ 6  7  8]\n",
            " [10 11 12]]\n",
            "\n",
            "[[1 2 3]\n",
            " [5 6 7]]\n"
          ]
        }
      ]
    },
    {
      "cell_type": "code",
      "source": [
        "a=np.array([1,2,3,4])\n",
        "b=np.array([4,5,6,7])\n",
        "print(a+b)\n",
        "print(a*b)\n",
        "\n",
        "print()\n",
        "print(Mat+Mat)\n",
        "\n",
        "\n"
      ],
      "metadata": {
        "colab": {
          "base_uri": "https://localhost:8080/"
        },
        "id": "POayIiAvtlKc",
        "outputId": "b6894003-aa8a-4194-8e0d-4b84784576d7"
      },
      "id": "POayIiAvtlKc",
      "execution_count": 44,
      "outputs": [
        {
          "output_type": "stream",
          "name": "stdout",
          "text": [
            "[ 5  7  9 11]\n",
            "[ 4 10 18 28]\n",
            "\n",
            "[[ 2  4  6  8]\n",
            " [10 12 14 16]\n",
            " [18 20 22 24]]\n"
          ]
        }
      ]
    },
    {
      "cell_type": "code",
      "source": [
        "a=np.array([1,2,3,4])\n",
        "b=np.array([4,5,6,7])\n",
        "suma=[]\n",
        "for i in range(0,len(a)):\n",
        "  sum=(a[i]+b[i])\n",
        "\n",
        "print(sum)"
      ],
      "metadata": {
        "colab": {
          "base_uri": "https://localhost:8080/"
        },
        "id": "OfiAJBfBvDRH",
        "outputId": "95d28411-aedf-4c36-f679-532576129855"
      },
      "id": "OfiAJBfBvDRH",
      "execution_count": 52,
      "outputs": [
        {
          "output_type": "stream",
          "name": "stdout",
          "text": [
            "11\n"
          ]
        }
      ]
    },
    {
      "cell_type": "code",
      "source": [],
      "metadata": {
        "id": "WMydYCHHvmM_"
      },
      "id": "WMydYCHHvmM_",
      "execution_count": null,
      "outputs": []
    }
  ],
  "metadata": {
    "kernelspec": {
      "display_name": "Python 3 (ipykernel)",
      "language": "python",
      "name": "python3"
    },
    "language_info": {
      "codemirror_mode": {
        "name": "ipython",
        "version": 3
      },
      "file_extension": ".py",
      "mimetype": "text/x-python",
      "name": "python",
      "nbconvert_exporter": "python",
      "pygments_lexer": "ipython3",
      "version": "3.9.12"
    },
    "colab": {
      "provenance": [],
      "include_colab_link": true
    }
  },
  "nbformat": 4,
  "nbformat_minor": 5
}