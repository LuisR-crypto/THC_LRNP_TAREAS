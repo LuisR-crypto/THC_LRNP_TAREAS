{
  "cells": [
    {
      "cell_type": "markdown",
      "metadata": {
        "id": "view-in-github",
        "colab_type": "text"
      },
      "source": [
        "<a href=\"https://colab.research.google.com/github/LuisR-crypto/THC_LRNP_TAREAS/blob/main/Funciones_Lambda_LRNP_17oct2024.ipynb\" target=\"_parent\"><img src=\"https://colab.research.google.com/assets/colab-badge.svg\" alt=\"Open In Colab\"/></a>"
      ]
    },
    {
      "cell_type": "markdown",
      "id": "eea26030-2312-4db5-8c4a-23c7823382fe",
      "metadata": {
        "id": "eea26030-2312-4db5-8c4a-23c7823382fe"
      },
      "source": [
        "<font color=\"Red\" face=\"Comic Sans MS,arial\">\n",
        "  <h1 align=\"center\"><i>Funciones Lambda </i></h1>\n",
        "  </font>\n",
        "  \n",
        "> Elaborado por: Jesús Iván Coss Calderón. mat_ing_coss@ciencias.unam.mx"
      ]
    },
    {
      "cell_type": "markdown",
      "id": "d572795c",
      "metadata": {
        "id": "d572795c"
      },
      "source": [
        "**Objetivo general**\n",
        "\n",
        "* Aprender los fundamentos de la declaración de funciones lambda\n",
        "\n",
        "**Objetivos particulares**\n",
        "\n",
        "* Entender la elaboración de funciones lambda"
      ]
    },
    {
      "cell_type": "markdown",
      "id": "001e54d2",
      "metadata": {
        "id": "001e54d2"
      },
      "source": [
        "[**Regresa al notebook principal**](https://github.com/seismomat/HerramientasComputacionales/blob/main/Sintaxis%2Ccomentarios%2CTiposDeDatos.ipynb)"
      ]
    },
    {
      "cell_type": "markdown",
      "id": "b76ffc8a",
      "metadata": {
        "id": "b76ffc8a"
      },
      "source": [
        "<a name='c1'></a>\n",
        "\n",
        "## Contenido\n",
        "\n",
        "- [Funciones lambda](#1)\n",
        "    - [Declaración](#1-1)\n",
        "- [¿Por qué funciones lambda?](#2)\n",
        "- [Ejercicios propuestos](#3)"
      ]
    },
    {
      "cell_type": "markdown",
      "id": "269975e0",
      "metadata": {
        "id": "269975e0"
      },
      "source": [
        "<a name='1'></a>\n",
        "\n",
        "# Funciones lambda\n",
        "[regresar al contenido](#c1)\n",
        "\n",
        "Una función lambda es una pequeña función anónima.\n",
        "\n",
        "Una función lambda puede tomar cualquier número de argumentos, pero solo puede tener una expresión."
      ]
    },
    {
      "cell_type": "markdown",
      "id": "fb9dfa06",
      "metadata": {
        "id": "fb9dfa06"
      },
      "source": [
        "<a name='1-1'></a>\n",
        "\n",
        "## Declaración\n",
        "[regresar al contenido](#c1)\n",
        "\n",
        "La funciones lambda se declaran de la siguiente manera: `lambda argumentos : expresión`"
      ]
    },
    {
      "cell_type": "code",
      "execution_count": null,
      "id": "b516f0d1",
      "metadata": {
        "id": "b516f0d1",
        "outputId": "6f4b9e01-76dd-4d62-fab5-d9937ee3b973"
      },
      "outputs": [
        {
          "name": "stdout",
          "output_type": "stream",
          "text": [
            "15\n"
          ]
        }
      ],
      "source": [
        "x = lambda a : a + 10\n",
        "print(x(5))"
      ]
    },
    {
      "cell_type": "markdown",
      "id": "1e1300e6-d20f-43da-b0bf-cdaf3873e4dc",
      "metadata": {
        "id": "1e1300e6-d20f-43da-b0bf-cdaf3873e4dc"
      },
      "source": [
        "También les podemos pasar más de dos argumentos"
      ]
    },
    {
      "cell_type": "code",
      "execution_count": null,
      "id": "1ff15207-e7ff-4453-b988-faf6887374d2",
      "metadata": {
        "id": "1ff15207-e7ff-4453-b988-faf6887374d2",
        "outputId": "54e95cb3-6e73-4d09-f595-70990ab43303"
      },
      "outputs": [
        {
          "name": "stdout",
          "output_type": "stream",
          "text": [
            "30\n"
          ]
        }
      ],
      "source": [
        "x = lambda a, b : a * b\n",
        "print(x(5, 6))"
      ]
    },
    {
      "cell_type": "code",
      "execution_count": null,
      "id": "5a690ae3-71dd-458c-a3c6-6fa06ca3a9b8",
      "metadata": {
        "id": "5a690ae3-71dd-458c-a3c6-6fa06ca3a9b8",
        "outputId": "4ddfce98-24b6-434e-bf5c-280a7a9cc3d1"
      },
      "outputs": [
        {
          "name": "stdout",
          "output_type": "stream",
          "text": [
            "13\n"
          ]
        }
      ],
      "source": [
        "x = lambda a, b, c : a + b + c\n",
        "print(x(5, 6, 2))"
      ]
    },
    {
      "cell_type": "markdown",
      "id": "d003deb7",
      "metadata": {
        "id": "d003deb7"
      },
      "source": [
        "<a name='2'></a>\n",
        "\n",
        "# ¿Por qué funciones lambda?\n",
        "[regresar al contenido](#c1)"
      ]
    },
    {
      "cell_type": "markdown",
      "id": "52d6e80c-a7b3-458b-8cd5-229907d3aef2",
      "metadata": {
        "id": "52d6e80c-a7b3-458b-8cd5-229907d3aef2"
      },
      "source": [
        "El poder de la función lambda se muestra mejor cuando las usas como una función anónima dentro de otra función.\n",
        "\n",
        "Digamos que tienes una definición de función que toma un argumento, y ese argumento será multiplicado por un número desconocido."
      ]
    },
    {
      "cell_type": "code",
      "execution_count": null,
      "id": "27c06062-0e3b-4dd5-88a4-29b5784fdb9c",
      "metadata": {
        "id": "27c06062-0e3b-4dd5-88a4-29b5784fdb9c"
      },
      "outputs": [],
      "source": [
        "def mifunc(n):\n",
        "  return lambda a : a * n"
      ]
    },
    {
      "cell_type": "code",
      "execution_count": null,
      "id": "ffba3cb6-1f9a-4025-b46a-45791a848c56",
      "metadata": {
        "id": "ffba3cb6-1f9a-4025-b46a-45791a848c56",
        "outputId": "90a75e8e-e431-4131-b2b4-3d0cfcedab73"
      },
      "outputs": [
        {
          "name": "stdout",
          "output_type": "stream",
          "text": [
            "22\n"
          ]
        }
      ],
      "source": [
        "midoble = mifunc(2)\n",
        "\n",
        "print(midoble(11))"
      ]
    },
    {
      "cell_type": "markdown",
      "id": "5ed1d17d-06a7-447d-be7b-c09627ab06a1",
      "metadata": {
        "id": "5ed1d17d-06a7-447d-be7b-c09627ab06a1"
      },
      "source": [
        "La función anterior siempre duplique el número que envías."
      ]
    },
    {
      "cell_type": "code",
      "execution_count": null,
      "id": "8275b2b5-5e0a-45d6-8f18-017268ab955f",
      "metadata": {
        "id": "8275b2b5-5e0a-45d6-8f18-017268ab955f",
        "outputId": "e8b650e9-e159-4108-faa1-543321444fde"
      },
      "outputs": [
        {
          "name": "stdout",
          "output_type": "stream",
          "text": [
            "22\n",
            "33\n"
          ]
        }
      ],
      "source": [
        "def mifunc(n):\n",
        "  return lambda a : a * n\n",
        "\n",
        "MiDoble = mifunc(2)\n",
        "MiTriple = mifunc(3)\n",
        "\n",
        "print(MiDoble(11))\n",
        "print(MiTriple(11))"
      ]
    },
    {
      "cell_type": "markdown",
      "id": "202b7434",
      "metadata": {
        "id": "202b7434"
      },
      "source": [
        "<a name='3'></a>\n",
        "\n",
        "# Ejercicios propuestos\n",
        "[regresar al contenido](#c1)"
      ]
    },
    {
      "cell_type": "markdown",
      "id": "7739c210",
      "metadata": {
        "id": "7739c210"
      },
      "source": [
        "Ejercicios propuestos que puedes resolver utilizando funciones lambda en Python:\n",
        "\n",
        "1. **Calculadora de Operaciones Básicas:**\n",
        "Crea una calculadora que acepte dos números y una operación (suma, resta, multiplicación, división) como entrada y use funciones lambda para realizar la operación deseada.\n",
        "\n",
        "2. **Ordenar una Lista de Tuplas:**\n",
        "Dada una lista de tuplas, donde cada tupla contiene un nombre y una edad, ordena la lista de acuerdo a la edad utilizando una función lambda como clave de ordenamiento.\n",
        "\n",
        "3. **Filtrar Números Pares:**\n",
        "Dada una lista de números, filtra solo los números pares utilizando una función lambda y la función `filter()`.\n",
        "\n",
        "4. **Cálculo de Impuestos:**\n",
        "Escribe un programa que calcule el impuesto sobre el salario de una persona. Usa una función lambda para calcular el impuesto basado en el ingreso ingresado.\n",
        "\n",
        "5. **Combinar Dos Listas:**\n",
        "Dadas dos listas de números, crea una nueva lista que contenga la suma de los elementos correspondientes en las dos listas utilizando una función lambda y la función `map()`.\n",
        "\n",
        "6. **Contador de Palabras:**\n",
        "Escribe una función que tome una lista de cadenas y devuelva la longitud de cada cadena utilizando una función lambda y la función `map()`.\n",
        "\n",
        "7. **Validador de Contraseña:**\n",
        "Crea una función que valide si una contraseña es segura. Una contraseña se considera segura si tiene al menos 8 caracteres y contiene al menos un número y un carácter especial. Usa funciones lambda para verificar las condiciones.\n",
        "\n",
        "8. **Cálculo de Intereses Compuestos:**\n",
        "Escribe un programa que calcule el monto total después de ciertos años usando la fórmula de interés compuesto. Utiliza una función lambda para calcular el interés compuesto.\n",
        "\n",
        "9. **Filtro de Números Primos:**\n",
        "Dada una lista de números, filtra solo los números primos utilizando una función lambda y la función `filter()`.\n",
        "\n",
        "10. **Conversión de Temperaturas:**\n",
        "Crea un programa que convierta una lista de temperaturas en grados Celsius a Fahrenheit utilizando una función lambda y la función `map()`.\n",
        "\n",
        "Estos ejercicios te ayudarán a practicar y comprender mejor cómo trabajar con funciones lambda en Python y cómo aplicarlas en diferentes situaciones. ¡Diviértete resolviéndolos!"
      ]
    },
    {
      "cell_type": "markdown",
      "source": [
        "TRABAJO EN CLASE DEL 17 OCTUBRE 2024"
      ],
      "metadata": {
        "id": "_nR2IBqnpr1X"
      },
      "id": "_nR2IBqnpr1X"
    },
    {
      "cell_type": "markdown",
      "source": [
        "Son funciones en donde no necesitamos usar def, en donde el lambda representa la función, luego se  ponen las variables que se necesiten de entrada seguida de dos puntos y luego se pone lo que se le quiere hacer a esas variables"
      ],
      "metadata": {
        "id": "1kbbDvgHqAHu"
      },
      "id": "1kbbDvgHqAHu"
    },
    {
      "cell_type": "code",
      "source": [
        "potencia=lambda a:a**2\n",
        "\n",
        "potencia(5)\n",
        "#Al igual que en las otras funciones para hacer que aparezca, es más que suficiente el poner el nombre de la función y luego ponerle los valores."
      ],
      "metadata": {
        "colab": {
          "base_uri": "https://localhost:8080/"
        },
        "id": "RQOflIYip01v",
        "outputId": "5b95676d-53ec-4231-bb6f-eb44fbc66d91"
      },
      "id": "RQOflIYip01v",
      "execution_count": null,
      "outputs": [
        {
          "output_type": "execute_result",
          "data": {
            "text/plain": [
              "25"
            ]
          },
          "metadata": {},
          "execution_count": 1
        }
      ]
    },
    {
      "cell_type": "code",
      "source": [
        "suma=lambda x,y:x+y\n",
        "#Estas funciones son las que en otros lenguajes de programación se llama inline (lenguaje C)\n",
        "suma(5,7)"
      ],
      "metadata": {
        "colab": {
          "base_uri": "https://localhost:8080/"
        },
        "id": "AN0x3FhvrONO",
        "outputId": "2d7a78ed-5a4b-45fa-939a-8249bff5c12a"
      },
      "id": "AN0x3FhvrONO",
      "execution_count": null,
      "outputs": [
        {
          "output_type": "execute_result",
          "data": {
            "text/plain": [
              "12"
            ]
          },
          "metadata": {},
          "execution_count": 2
        }
      ]
    },
    {
      "cell_type": "code",
      "source": [
        "def mi_funcion(n):\n",
        "  return lambda a: a*n\n",
        "Dobles=mi_funcion(2)\n",
        "Dobles(12)"
      ],
      "metadata": {
        "colab": {
          "base_uri": "https://localhost:8080/"
        },
        "id": "nQdmkoqTrkDu",
        "outputId": "1e0b67dc-7a61-4de0-92f2-016e6a83ecce"
      },
      "id": "nQdmkoqTrkDu",
      "execution_count": null,
      "outputs": [
        {
          "output_type": "execute_result",
          "data": {
            "text/plain": [
              "24"
            ]
          },
          "metadata": {},
          "execution_count": 6
        }
      ]
    },
    {
      "cell_type": "code",
      "source": [
        "def Ordenada(a,b):\n",
        "  return lambda x:a*x+b\n",
        "\n",
        "recta=Ordenada(2,-1)\n",
        "for i in range(10):\n",
        "  print(\"y=\"+str(recta(i)))\n"
      ],
      "metadata": {
        "colab": {
          "base_uri": "https://localhost:8080/"
        },
        "id": "h6UUP_pns5Q2",
        "outputId": "8669ec9e-ce7d-4ed9-b9d6-6070f223ded6"
      },
      "id": "h6UUP_pns5Q2",
      "execution_count": null,
      "outputs": [
        {
          "output_type": "stream",
          "name": "stdout",
          "text": [
            "y=-1\n",
            "y=1\n",
            "y=3\n",
            "y=5\n",
            "y=7\n",
            "y=9\n",
            "y=11\n",
            "y=13\n",
            "y=15\n",
            "y=17\n"
          ]
        }
      ]
    },
    {
      "cell_type": "code",
      "source": [
        "def Ordenada(a,b):\n",
        "  return lambda x:a*x+b\n",
        "\n",
        "Recta=Ordenada(2,-1)\n",
        "valores=[]#Es una lista vacía\n",
        "for i in range(10):\n",
        "  print(valores,i)\n",
        "  valores.append(Recta(i))\n",
        "print(valores, i)"
      ],
      "metadata": {
        "id": "w2KX22iDuZ0k",
        "colab": {
          "base_uri": "https://localhost:8080/"
        },
        "outputId": "7e3cb6df-dd2e-4961-eabe-559cfa2162ed"
      },
      "id": "w2KX22iDuZ0k",
      "execution_count": 19,
      "outputs": [
        {
          "output_type": "stream",
          "name": "stdout",
          "text": [
            "[] 0\n",
            "[-1] 1\n",
            "[-1, 1] 2\n",
            "[-1, 1, 3] 3\n",
            "[-1, 1, 3, 5] 4\n",
            "[-1, 1, 3, 5, 7] 5\n",
            "[-1, 1, 3, 5, 7, 9] 6\n",
            "[-1, 1, 3, 5, 7, 9, 11] 7\n",
            "[-1, 1, 3, 5, 7, 9, 11, 13] 8\n",
            "[-1, 1, 3, 5, 7, 9, 11, 13, 15] 9\n",
            "[-1, 1, 3, 5, 7, 9, 11, 13, 15, 17] 9\n"
          ]
        }
      ]
    },
    {
      "cell_type": "markdown",
      "source": [
        "Ahora lo que vamos a ver son los diccinarios\n",
        "\n",
        "Las funciones jash siempre deben de ser inyectivas, esto era para análisis de datos o algo por ahí\n",
        "los diccionarios nos sirven para generar bases de datos"
      ],
      "metadata": {
        "id": "WHfe_jlbwHsI"
      },
      "id": "WHfe_jlbwHsI"
    },
    {
      "cell_type": "code",
      "source": [
        "dic={} #Este es un diccionario vacio\n",
        "\n"
      ],
      "metadata": {
        "id": "XIQAohlpv5BS",
        "colab": {
          "base_uri": "https://localhost:8080/",
          "height": 106
        },
        "outputId": "07dbd50f-fb16-4e70-a1ea-ac793f7ad8dd"
      },
      "id": "XIQAohlpv5BS",
      "execution_count": 21,
      "outputs": [
        {
          "output_type": "error",
          "ename": "SyntaxError",
          "evalue": "invalid syntax (<ipython-input-21-75a0771454f1>, line 3)",
          "traceback": [
            "\u001b[0;36m  File \u001b[0;32m\"<ipython-input-21-75a0771454f1>\"\u001b[0;36m, line \u001b[0;32m3\u001b[0m\n\u001b[0;31m    dic { \"llave1\":5,\u001b[0m\n\u001b[0m        ^\u001b[0m\n\u001b[0;31mSyntaxError\u001b[0m\u001b[0;31m:\u001b[0m invalid syntax\n"
          ]
        }
      ]
    },
    {
      "cell_type": "code",
      "source": [
        "dic={\"llave1\":5,\n",
        "     \"llave2\":\"Valor2\",\n",
        "     \"llave3\":[1,2,3],\n",
        "     \"llave4\":True,\n",
        "     \"llave4\":25.2\n",
        "     }\n",
        "print(dic)\n",
        "\n",
        "#Lo vueno de los diccionarios es que se le pude pponer cualquier tipo de dato\n",
        "#Hay que tener cuidado con los diccionarios, porque se pueden perder algunos datos."
      ],
      "metadata": {
        "colab": {
          "base_uri": "https://localhost:8080/"
        },
        "id": "zFHIvBM0xf19",
        "outputId": "eec6c88f-97c5-492c-c5e3-8c86a784d5b4"
      },
      "id": "zFHIvBM0xf19",
      "execution_count": 27,
      "outputs": [
        {
          "output_type": "stream",
          "name": "stdout",
          "text": [
            "{'llave1': 5, 'llave2': 'Valor2', 'llave3': [1, 2, 3], 'llave4': 25.2}\n"
          ]
        }
      ]
    },
    {
      "cell_type": "code",
      "source": [
        "list(dic.keys())\n",
        "#De esta forma sabemos cuales son las llaves con las que se están trabajando"
      ],
      "metadata": {
        "colab": {
          "base_uri": "https://localhost:8080/"
        },
        "id": "OKPmzDiVxuSE",
        "outputId": "b7a45ac9-396b-424b-b8c3-ef9e66eeaff4"
      },
      "id": "OKPmzDiVxuSE",
      "execution_count": 28,
      "outputs": [
        {
          "output_type": "execute_result",
          "data": {
            "text/plain": [
              "['llave1', 'llave2', 'llave3', 'llave4']"
            ]
          },
          "metadata": {},
          "execution_count": 28
        }
      ]
    },
    {
      "cell_type": "code",
      "source": [
        "list(dic.values())\n",
        "#De esta forma conocemos los valores en cada llave"
      ],
      "metadata": {
        "colab": {
          "base_uri": "https://localhost:8080/"
        },
        "id": "rY1X8uMQymgU",
        "outputId": "69eff1d9-b2fa-42d4-cd4b-3eb4b42ce93d"
      },
      "id": "rY1X8uMQymgU",
      "execution_count": 29,
      "outputs": [
        {
          "output_type": "execute_result",
          "data": {
            "text/plain": [
              "dict_values([5, 'Valor2', [1, 2, 3], 25.2])"
            ]
          },
          "metadata": {},
          "execution_count": 29
        }
      ]
    },
    {
      "cell_type": "code",
      "source": [
        "values=list(dic.values())\n",
        "len(values)\n",
        "#De esta forma sabemos cuantos valores hay en el diccionario"
      ],
      "metadata": {
        "colab": {
          "base_uri": "https://localhost:8080/"
        },
        "id": "aS6FcDHHy-ZE",
        "outputId": "ec24b857-57eb-406c-acdf-cdea309e52d0"
      },
      "id": "aS6FcDHHy-ZE",
      "execution_count": 31,
      "outputs": [
        {
          "output_type": "execute_result",
          "data": {
            "text/plain": [
              "4"
            ]
          },
          "metadata": {},
          "execution_count": 31
        }
      ]
    },
    {
      "cell_type": "code",
      "source": [
        "values=list(dic.values())\n",
        "len(values[1]),values[1]\n",
        "#De esta forma conocemos como primer número la longitud del valor específico que introdujimos, y como segundo número obtnenemos el valor(el elemento en sí mismo)"
      ],
      "metadata": {
        "colab": {
          "base_uri": "https://localhost:8080/"
        },
        "id": "V02T-0YrzUoE",
        "outputId": "3aa052c6-8b2a-4426-a181-8e02adfc1519"
      },
      "id": "V02T-0YrzUoE",
      "execution_count": 34,
      "outputs": [
        {
          "output_type": "execute_result",
          "data": {
            "text/plain": [
              "(6, 'Valor2')"
            ]
          },
          "metadata": {},
          "execution_count": 34
        }
      ]
    },
    {
      "cell_type": "code",
      "source": [
        "dic[\"llave3\"]\n",
        "#De esta forma podemos visualizar el valor de una llave específica"
      ],
      "metadata": {
        "colab": {
          "base_uri": "https://localhost:8080/"
        },
        "id": "zV2HLMlb2teb",
        "outputId": "4b90cb1d-264f-49c7-cb92-03dcc2d205ea"
      },
      "id": "zV2HLMlb2teb",
      "execution_count": 47,
      "outputs": [
        {
          "output_type": "execute_result",
          "data": {
            "text/plain": [
              "[1, 2, 3]"
            ]
          },
          "metadata": {},
          "execution_count": 47
        }
      ]
    },
    {
      "cell_type": "code",
      "source": [
        "dic[\"llave3\"]=\"Hola que tal\"\n",
        "\n",
        "dic\n",
        "#De esta foirma podemos modificar el valr de una llave en específico"
      ],
      "metadata": {
        "colab": {
          "base_uri": "https://localhost:8080/"
        },
        "id": "fKOJN6oB3Aeb",
        "outputId": "255f5d66-b3b9-4c02-989b-92e2f2cfe398"
      },
      "id": "fKOJN6oB3Aeb",
      "execution_count": 51,
      "outputs": [
        {
          "output_type": "execute_result",
          "data": {
            "text/plain": [
              "{'llave1': 5,\n",
              " 'llave2': 'Valor2',\n",
              " 'llave3': 'Hola que tal',\n",
              " 'llave4': 25.2,\n",
              " 'llave6': {'L1': 5, 'L2': 54}}"
            ]
          },
          "metadata": {},
          "execution_count": 51
        }
      ]
    },
    {
      "cell_type": "code",
      "source": [
        "dic[\"llave6\"]={\"L1\":5, \"L2\":54}\n",
        "#De esta forma se puede agregar una llave más al diuccionario, inlcusive esta nueva llave puede ser un dicionario en sí mismo\n",
        "dic"
      ],
      "metadata": {
        "colab": {
          "base_uri": "https://localhost:8080/"
        },
        "id": "R-yHMo953Ryi",
        "outputId": "15b982c4-25d0-4ae5-90e4-215ff87bdf8b"
      },
      "id": "R-yHMo953Ryi",
      "execution_count": 50,
      "outputs": [
        {
          "output_type": "execute_result",
          "data": {
            "text/plain": [
              "{'llave1': 5,\n",
              " 'llave2': 'Valor2',\n",
              " 'llave3': 'Hola que tal',\n",
              " 'llave4': 25.2,\n",
              " 'llave6': {'L1': 5, 'L2': 54}}"
            ]
          },
          "metadata": {},
          "execution_count": 50
        }
      ]
    },
    {
      "cell_type": "markdown",
      "source": [
        "Guardando con la extención csv es como si guardaramos en un documento de exel"
      ],
      "metadata": {
        "id": "xn83k71G5HB0"
      },
      "id": "xn83k71G5HB0"
    },
    {
      "cell_type": "markdown",
      "source": [
        "#Ejercicio\n",
        "\n",
        "Hacer un diccionario con 6 personas, poner el nombre de la persona, edad, ¿estudia o trabaja?, estatus legal,"
      ],
      "metadata": {
        "id": "rwFISPjy5z_y"
      },
      "id": "rwFISPjy5z_y"
    },
    {
      "cell_type": "code",
      "source": [
        "#Cuando hacemos una base de datos no puede haber entradas con diferente número de datos, de otra forma dicho, con datos faltantes\n",
        "dic={\n",
        "    \"Nombre\":[\"Juan\", \"Valentina\", \"Pablo\",\"Yazmín\", \"Pedro\", \"Alejandra\"],\n",
        "    \"Edad\":[21, 28, 15, 8, 43, 18],\n",
        "    \"Trabaja o estudia\":[\"Trabaja\", \"Trabaja\", \"Estudia\", \"Estudia\", \"Trabaja\", \"Estudia\"],\n",
        "    \"Estatus\":[\"Casado\", \"Divorciado\", \"Soltero\", \"Soltero\", \"Viudo\", \"Soltero\"]\n",
        "}"
      ],
      "metadata": {
        "id": "X_PbZNcy5yRS"
      },
      "id": "X_PbZNcy5yRS",
      "execution_count": 54,
      "outputs": []
    }
  ],
  "metadata": {
    "kernelspec": {
      "display_name": "Python 3 (ipykernel)",
      "language": "python",
      "name": "python3"
    },
    "language_info": {
      "codemirror_mode": {
        "name": "ipython",
        "version": 3
      },
      "file_extension": ".py",
      "mimetype": "text/x-python",
      "name": "python",
      "nbconvert_exporter": "python",
      "pygments_lexer": "ipython3",
      "version": "3.11.4"
    },
    "colab": {
      "provenance": [],
      "include_colab_link": true
    }
  },
  "nbformat": 4,
  "nbformat_minor": 5
}