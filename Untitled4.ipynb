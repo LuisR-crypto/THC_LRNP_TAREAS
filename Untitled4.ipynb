{
  "nbformat": 4,
  "nbformat_minor": 0,
  "metadata": {
    "colab": {
      "provenance": [],
      "include_colab_link": true
    },
    "kernelspec": {
      "name": "python3",
      "display_name": "Python 3"
    },
    "language_info": {
      "name": "python"
    }
  },
  "cells": [
    {
      "cell_type": "markdown",
      "metadata": {
        "id": "view-in-github",
        "colab_type": "text"
      },
      "source": [
        "<a href=\"https://colab.research.google.com/github/LuisR-crypto/THC_LRNP_TAREAS/blob/main/Untitled4.ipynb\" target=\"_parent\"><img src=\"https://colab.research.google.com/assets/colab-badge.svg\" alt=\"Open In Colab\"/></a>"
      ]
    },
    {
      "cell_type": "markdown",
      "source": [
        "#TAREA DE TALLER DE HERRAMIENTAS COMPUTACIONALES\n",
        "\n",
        "#NUMPY Y MATPLOTLIB\n",
        "\n",
        "\n"
      ],
      "metadata": {
        "id": "J0vgpki2qnUh"
      }
    },
    {
      "cell_type": "code",
      "source": [
        "import numpy as np"
      ],
      "metadata": {
        "id": "ciwi7nYofU9z"
      },
      "execution_count": null,
      "outputs": []
    },
    {
      "cell_type": "markdown",
      "source": [
        "SUMA DE MATRICES RECTANGULARES"
      ],
      "metadata": {
        "id": "6NSh99kmBJT6"
      }
    },
    {
      "cell_type": "code",
      "execution_count": null,
      "metadata": {
        "id": "O0IYCHk9qmbb",
        "colab": {
          "base_uri": "https://localhost:8080/"
        },
        "outputId": "819e664f-bdc2-4440-822b-7468dcc9a4d6"
      },
      "outputs": [
        {
          "output_type": "stream",
          "name": "stdout",
          "text": [
            "[[11 13 15]\n",
            " [17 19 21]\n",
            " [23 25 27]]\n"
          ]
        }
      ],
      "source": [
        "matrizA=np.array([[1,2,3],[4,5,6],[7,8,9]])\n",
        "matrizB=np.array([[10,11,12],[13,14,15],[16,17,18]])\n",
        "suma=matrizA+matrizB\n",
        "print(suma)"
      ]
    },
    {
      "cell_type": "markdown",
      "source": [
        "MULTIPLICACIÓN ENTRADA A ENTRADA DE MATRICES RECTANGULARE"
      ],
      "metadata": {
        "id": "yQj-CaeSBR9t"
      }
    },
    {
      "cell_type": "code",
      "source": [
        "matrizA=np.array([[1,2,3],[4,5,6],[7,8,9]])\n",
        "matrizB=np.array([[10,11,12],[13,14,15],[16,17,18]])\n",
        "producto=matrizA*matrizB\n",
        "print(producto)"
      ],
      "metadata": {
        "id": "6EPDlF82BZC4",
        "outputId": "103c0160-1472-4f7e-904c-d661b0ecdc99",
        "colab": {
          "base_uri": "https://localhost:8080/"
        }
      },
      "execution_count": null,
      "outputs": [
        {
          "output_type": "stream",
          "name": "stdout",
          "text": [
            "[[ 10  22  36]\n",
            " [ 52  70  90]\n",
            " [112 136 162]]\n"
          ]
        }
      ]
    },
    {
      "cell_type": "markdown",
      "source": [
        "TRAZA DE UNA MATRIZ"
      ],
      "metadata": {
        "id": "bLD4WvY7BZsV"
      }
    },
    {
      "cell_type": "code",
      "source": [
        "matrizC=np.array([[11,12,13],[14,15,16],[17,18,19]])\n",
        "traza=np.trace(matrizC)\n",
        "print(matrizC)\n",
        "print(\"Su traza es\",traza)"
      ],
      "metadata": {
        "id": "saKcdF4lBpDi",
        "colab": {
          "base_uri": "https://localhost:8080/"
        },
        "outputId": "0077ce5c-1fdf-4520-a063-b5bfe203b505"
      },
      "execution_count": null,
      "outputs": [
        {
          "output_type": "stream",
          "name": "stdout",
          "text": [
            "[[11 12 13]\n",
            " [14 15 16]\n",
            " [17 18 19]]\n",
            "Su traza es 45\n"
          ]
        }
      ]
    },
    {
      "cell_type": "markdown",
      "source": [
        "TRANSPUESTA DE UNA MATRIZ"
      ],
      "metadata": {
        "id": "NjYrXm-UBph6"
      }
    },
    {
      "cell_type": "code",
      "source": [
        "B=np.array([[1,1,1],[10,3,-5],[-6,-10,-3]])\n",
        "BT=([])\n",
        "\n",
        "for i in range (len(B[0])):\n",
        "  M=B[:,i]\n",
        "  BT.append(M)\n",
        "#print(BT)\n",
        "\n",
        "BT=np.array(BT)\n",
        "print(BT)"
      ],
      "metadata": {
        "id": "V6ettKvyBtLB",
        "colab": {
          "base_uri": "https://localhost:8080/"
        },
        "outputId": "284e4b16-e05a-4b37-9581-b65824e4b1d1"
      },
      "execution_count": null,
      "outputs": [
        {
          "output_type": "stream",
          "name": "stdout",
          "text": [
            "[[  1  10  -6]\n",
            " [  1   3 -10]\n",
            " [  1  -5  -3]]\n"
          ]
        }
      ]
    },
    {
      "cell_type": "markdown",
      "source": [
        "ENCONTRAR EL MÁXIMO Y MÍNIMO ELEMENTO DE UNA MATRIZ"
      ],
      "metadata": {
        "id": "azbG_dh4BtkR"
      }
    },
    {
      "cell_type": "code",
      "source": [
        "B=np.array([[1,1,1],[10,3,-5],[-6,-10,-3]])\n",
        "BC=([])\n",
        "for i in range (len(B[0])):\n",
        "  for j in range(len(B)):\n",
        "   M=B[j,i]\n",
        "   BC.append(M)\n",
        "\n",
        "print(\"Elemento menor de la matriz\",B.min())\n",
        "print(\"Elemento mayor de la matriz\",B.max())"
      ],
      "metadata": {
        "id": "aCbCB58_B1kR",
        "colab": {
          "base_uri": "https://localhost:8080/"
        },
        "outputId": "b5e07258-bf1d-46fc-c0ab-67dbdb22f066"
      },
      "execution_count": null,
      "outputs": [
        {
          "output_type": "stream",
          "name": "stdout",
          "text": [
            "Elemento menor de la matriz -10\n",
            "Elemento mayor de la matriz 10\n"
          ]
        }
      ]
    },
    {
      "cell_type": "markdown",
      "source": [
        "CALCULAR LA SUMA DE LOS CUADRADOS DE LOS ELEMENTOS DE UNA MATRIZ"
      ],
      "metadata": {
        "id": "Wdr7PZ8VB165"
      }
    },
    {
      "cell_type": "code",
      "source": [
        "#El código funciona para matrices de longituddes cuales quiera, siempre y cuando cada fila tenga el mimso número de elementos.\n",
        "#Para saber el resultado de alguna matriz, basta con introducir sus valores en la definición de la variable A (Renglón 3) de la forma pertinente.\n",
        "A=np.array([[11,7,-1,4],[-3,5,2,4]])\n",
        "\n",
        "l=(len(A))\n",
        "m=(len(A[0]))\n",
        "AA=A*A\n",
        "print(AA)\n",
        "\n",
        "aa=0\n",
        "for i in range(l):\n",
        "  aa=aa+AA[i]\n",
        "print(aa)\n",
        "\n",
        "aA=0\n",
        "for i in range(m):\n",
        " aA=aA+aa[i]\n",
        "print(aA)\n",
        "\n"
      ],
      "metadata": {
        "colab": {
          "base_uri": "https://localhost:8080/"
        },
        "id": "U_YI1HxDh_Oc",
        "outputId": "ebf03b16-84d9-4897-de40-4cb16d38f8c8"
      },
      "execution_count": null,
      "outputs": [
        {
          "output_type": "stream",
          "name": "stdout",
          "text": [
            "[[121  49   1  16]\n",
            " [  9  25   4  16]]\n",
            "[130  74   5  32]\n",
            "241\n"
          ]
        }
      ]
    },
    {
      "cell_type": "markdown",
      "source": [
        "POTENCIA DE MATRICES"
      ],
      "metadata": {
        "id": "j2AyZFsbB-T2"
      }
    },
    {
      "cell_type": "code",
      "source": [
        "Aa=([])\n",
        "A=np.array([[11,7,-1],[-3,5,2],[4,2,-2]])\n",
        "c=len(A[0])\n",
        "for i in range (len(A[:,0])):\n",
        "  for j in range(len(A[0])):\n",
        "   M=A[i,:]*A[:,j]\n",
        "   Aa.append(M)\n",
        "#print(Aa)\n",
        "\n",
        "for i in range (len(Aa)):\n",
        "  aA=sum(Aa[i])\n",
        "  Aa[i]=aA\n",
        "\n",
        "\n",
        "AA=([Aa[0:c],Aa[c:2*c],Aa[2*c:3*c]])\n",
        "AA=np.array(AA)\n",
        "print(AA)"
      ],
      "metadata": {
        "colab": {
          "base_uri": "https://localhost:8080/"
        },
        "id": "WQPxFqt-A7i8",
        "outputId": "b0caee98-887a-40bc-d85a-f935cafe7033"
      },
      "execution_count": null,
      "outputs": [
        {
          "output_type": "stream",
          "name": "stdout",
          "text": [
            "[[ 96 110   5]\n",
            " [-40   8   9]\n",
            " [ 30  34   4]]\n"
          ]
        }
      ]
    },
    {
      "cell_type": "markdown",
      "source": [
        "DADAS LAS MATRICES"
      ],
      "metadata": {
        "id": "eHr8YptzCBLz"
      }
    },
    {
      "cell_type": "code",
      "source": [
        "import numpy as np\n",
        "\n",
        "A=np.array([[11,7,-1],[-3,5,2],[4,2,-2]])\n",
        "\n",
        "B=np.array([[1,1,1],[10,3,-5],[-6,-10,-3]])"
      ],
      "metadata": {
        "id": "ezTO5nIcGd6j"
      },
      "execution_count": null,
      "outputs": []
    },
    {
      "cell_type": "markdown",
      "source": [
        "Calcule\n",
        "\n",
        "1.  2B+3A"
      ],
      "metadata": {
        "id": "6z_0VsjuHTYu"
      }
    },
    {
      "cell_type": "code",
      "source": [
        "A3= A*3\n",
        "B2= B*2\n",
        "R= A3+B2\n",
        "print(R)"
      ],
      "metadata": {
        "colab": {
          "base_uri": "https://localhost:8080/"
        },
        "id": "F2sGbUbAHfoW",
        "outputId": "f4a243d4-b208-499d-a1b7-e630c297b5b3"
      },
      "execution_count": null,
      "outputs": [
        {
          "output_type": "stream",
          "name": "stdout",
          "text": [
            "[[ 35  23  -1]\n",
            " [ 11  21  -4]\n",
            " [  0 -14 -12]]\n"
          ]
        }
      ]
    },
    {
      "cell_type": "markdown",
      "source": [
        "2. (B+2A)^2"
      ],
      "metadata": {
        "id": "SgU6ly41JKLb"
      }
    },
    {
      "cell_type": "code",
      "source": [
        "A2= A*2\n",
        "\n",
        "R= B+A2\n",
        "\n",
        "Rr=([])\n",
        "for i in range (len(R[:,0])):\n",
        "  for j in range(len(R[0])):\n",
        "   M=R[i,:]*R[:,j]\n",
        "   Rr.append(M)\n",
        "#print(Rr)\n",
        "\n",
        "for i in range (len(Rr)):\n",
        "  Rr[i]=Rr[i][0]+Rr[i][1]+Rr[i][2]\n",
        "\n",
        "#print(Rr)\n",
        "\n",
        "RR=([Rr[0:3], Rr[3:6], Rr[6:9]])\n",
        "RR=np.array(RR)\n",
        "print(RR)\n"
      ],
      "metadata": {
        "colab": {
          "base_uri": "https://localhost:8080/"
        },
        "id": "C0zQON-xJ_US",
        "outputId": "de5f7716-296c-43db-c119-2be3e24df8b5"
      },
      "execution_count": null,
      "outputs": [
        {
          "output_type": "stream",
          "name": "stdout",
          "text": [
            "[[587 546 -31]\n",
            " [142 235 -10]\n",
            " [  8  -6  53]]\n"
          ]
        }
      ]
    },
    {
      "cell_type": "markdown",
      "source": [
        "A^2+3B"
      ],
      "metadata": {
        "id": "kuQG-fxnYhHM"
      }
    },
    {
      "cell_type": "code",
      "source": [
        "B3= B*3\n",
        "Aa=([])\n",
        "for i in range (len(A[:,0])):\n",
        "  for j in range(len(A[0])):\n",
        "   M=A[i,:]*A[:,j]\n",
        "   Aa.append(M)\n",
        "#print(Aa)\n",
        "\n",
        "for i in range (len(Aa)):\n",
        "  Aa[i]=Aa[i][0]+Aa[i][1]+Aa[i][2]\n",
        "\n",
        "#print(Aa)\n",
        "\n",
        "AA=([Aa[0:3],Aa[3:6],Aa[6:9]])\n",
        "#print(AA)\n",
        "\n",
        "R=AA+B3\n",
        "print(R)\n"
      ],
      "metadata": {
        "colab": {
          "base_uri": "https://localhost:8080/"
        },
        "id": "XXgVMvXCQ-eH",
        "outputId": "0358680f-1ff9-4243-918a-b08ded2f53d8"
      },
      "execution_count": null,
      "outputs": [
        {
          "output_type": "stream",
          "name": "stdout",
          "text": [
            "[[ 99 113   8]\n",
            " [-10  17  -6]\n",
            " [ 12   4  -5]]\n"
          ]
        }
      ]
    },
    {
      "cell_type": "code",
      "source": [
        "B3= B*3\n",
        "Aa=([])\n",
        "for i in range (len(A[:,0])):\n",
        "  for j in range(len(A[0])):\n",
        "   M=A[i,:]*A[:,j]\n",
        "   Aa.append(M)\n",
        "#print(Aa)\n",
        "\n",
        "\n",
        "for i in range (len(Aa)):\n",
        "  Aa[i]=Aa[i][0]+Aa[i][1]+Aa[i][2]\n",
        "\n",
        "#print(Aa)\n",
        "\n",
        "AA=([Aa[0:3],Aa[3:6],Aa[6:9]])\n",
        "#print(AA)\n",
        "\n",
        "R=AA+B3\n",
        "print(R)"
      ],
      "metadata": {
        "id": "S4nWs9Nvwh9Z",
        "colab": {
          "base_uri": "https://localhost:8080/"
        },
        "outputId": "fb57e9e2-9ae0-4012-e6a8-2b2945e06746"
      },
      "execution_count": null,
      "outputs": [
        {
          "output_type": "stream",
          "name": "stdout",
          "text": [
            "[[ 99 113   8]\n",
            " [-10  17  -6]\n",
            " [ 12   4  -5]]\n"
          ]
        }
      ]
    },
    {
      "cell_type": "markdown",
      "source": [
        "#MATPLOTLIB"
      ],
      "metadata": {
        "id": "BQMOqdEAwBwI"
      }
    },
    {
      "cell_type": "code",
      "source": [
        "import numpy as np\n",
        "import matplotlib.pyplot as plt\n",
        "\n",
        "def solucion(x, C):\n",
        "  return (x-1) + C*np.exp(-x)"
      ],
      "metadata": {
        "id": "zdq04AumXHsZ"
      },
      "execution_count": null,
      "outputs": []
    },
    {
      "cell_type": "code",
      "source": [
        "x=np.linspace(-2, 5, 100)\n",
        "C_values = [-1, 0, 1]\n",
        "plt.figure(figsize=(10, 6))\n",
        "\n",
        "for C in C_values:\n",
        "  y = solucion(x, C)\n",
        "  plt.plot(x, y, label=f\"C = {C}\")\n",
        "\n",
        "plt.xlabel(\"x\")\n",
        "plt.ylabel(\"y\")\n",
        "plt.title(\"Grafica de la familia de curvas de la ecuación\")\n",
        "plt.legend()\n",
        "plt.grid(True)\n",
        "plt.show()"
      ],
      "metadata": {
        "id": "ZzIigbjyTKDk",
        "colab": {
          "base_uri": "https://localhost:8080/",
          "height": 564
        },
        "outputId": "cb5c9780-e9a9-4f9e-a155-5eed768586e0"
      },
      "execution_count": null,
      "outputs": [
        {
          "output_type": "display_data",
          "data": {
            "text/plain": [
              "<Figure size 1000x600 with 1 Axes>"
            ],
            "image/png": "[encoded data removed]"
          },
          "metadata": {}
        }
      ]
    },
    {
      "cell_type": "code",
      "source": [
        "def f(x):\n",
        "  return (3*x + 7) / (x**2 - 4)\n",
        "x = np.linspace(-10, 10, 1000)\n",
        "y = f(x)\n",
        "plt.figure(figsize=(10, 6))\n",
        "plt.plot(x, y, label='Función')\n",
        "\n",
        "asymptotes_vertical = [2, -2]\n",
        "asymptote_horizontal = 0\n",
        "for asymptote in asymptotes_vertical:\n",
        "  plt.axvline(x=asymptote, color='r', linestyle='--', label='Asíntota vertical')\n",
        "plt.axhline(y=asymptote_horizontal, color='g', linestyle='--', label='Asíntota horizontal')\n",
        "\n",
        "plt.ylim(-10, 10)\n",
        "plt.xlabel('x')\n",
        "plt.ylabel('y')\n",
        "plt.title('Gráfica de la función y sus asíntotas')\n",
        "plt.legend()\n",
        "plt.grid(True)\n",
        "plt.show()"
      ],
      "metadata": {
        "id": "DpOqb4wATkXm",
        "colab": {
          "base_uri": "https://localhost:8080/",
          "height": 565
        },
        "outputId": "16ed7743-49e1-4c38-d93c-4fd27a565c70"
      },
      "execution_count": null,
      "outputs": [
        {
          "output_type": "display_data",
          "data": {
            "text/plain": [
              "<Figure size 1000x600 with 1 Axes>"
            ],
            "image/png": "[encoded data removed]"
          },
          "metadata": {}
        }
      ]
    },
    {
      "cell_type": "code",
      "source": [],
      "metadata": {
        "id": "jOg519OFS9yb"
      },
      "execution_count": null,
      "outputs": []
    }
  ]
}