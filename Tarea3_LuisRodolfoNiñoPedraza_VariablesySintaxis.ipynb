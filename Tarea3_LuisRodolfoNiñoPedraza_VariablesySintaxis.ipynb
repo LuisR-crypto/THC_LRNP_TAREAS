{
  "nbformat": 4,
  "nbformat_minor": 0,
  "metadata": {
    "colab": {
      "provenance": [],
      "authorship_tag": "ABX9TyOHsWUTbn5BBhei3xXFWS/I",
      "include_colab_link": true
    },
    "kernelspec": {
      "name": "python3",
      "display_name": "Python 3"
    },
    "language_info": {
      "name": "python"
    }
  },
  "cells": [
    {
      "cell_type": "markdown",
      "metadata": {
        "id": "view-in-github",
        "colab_type": "text"
      },
      "source": [
        "<a href=\"https://colab.research.google.com/github/LuisR-crypto/THC_LRNP_TAREAS/blob/main/Tarea3_LuisRodolfoNi%C3%B1oPedraza_VariablesySintaxis.ipynb\" target=\"_parent\"><img src=\"https://colab.research.google.com/assets/colab-badge.svg\" alt=\"Open In Colab\"/></a>"
      ]
    },
    {
      "cell_type": "markdown",
      "source": [
        "EJERCICIOS DE VARIABLES"
      ],
      "metadata": {
        "id": "Cq39EvKqtORJ"
      }
    },
    {
      "cell_type": "markdown",
      "source": [
        "1. Calculadora simple: Crea un programa que solicite al usuario dos números y realice operaciones básicas como suma, resta, multiplicación, división, muestra los resultados usando variables."
      ],
      "metadata": {
        "id": "A-h0Pl8At0l3"
      }
    },
    {
      "cell_type": "code",
      "execution_count": 9,
      "metadata": {
        "colab": {
          "base_uri": "https://localhost:8080/"
        },
        "id": "0ecoE3Bks0EG",
        "outputId": "81ae9585-97e1-4487-dc47-c83cbc61c692"
      },
      "outputs": [
        {
          "output_type": "stream",
          "name": "stdout",
          "text": [
            "Ingrese un número: 5\n",
            "Ingrese otro número:18\n",
            "Su suma es  23\n",
            "Su resta es  -13\n",
            "Su producto es  90\n",
            "Su cociente es  0.2777777777777777777777777778\n"
          ]
        }
      ],
      "source": [
        "#Hacemos que las variables que introduce el usuario sean tomadas como números decimales en lugar de flotantes para aumentar la presición de los cálculos\n",
        "from decimal import Decimal\n",
        "a=Decimal(input(\"Ingrese un número: \"))\n",
        "b=Decimal(input(\"Ingrese otro número:\"))\n",
        "\n",
        "#Asignamos una variable para cada resultado de las diferentes operaciones\n",
        "c = a + b\n",
        "d = a - b\n",
        "e = a*b\n",
        "f = a/b\n",
        "\n",
        "#Imprimimos los valores de las variables que representan los resultados\n",
        "print(\"Su suma es \", c)\n",
        "print(\"Su resta es \", d)\n",
        "print(\"Su producto es \", e)\n",
        "print(\"Su cociente es \", f)"
      ]
    },
    {
      "cell_type": "markdown",
      "source": [
        "2. Conversión de Temperaturas: Escribe un programa que permita al usuario ingresar una temperatura en grados Celsius y luego la convierta a grados Fahrenheit utilizando una variable para almacenar la fórmula de conversión"
      ],
      "metadata": {
        "id": "bF-DYiGtujQH"
      }
    },
    {
      "cell_type": "code",
      "source": [
        "a=float(input(\"Ingrese la temperatura en grados Celsius: (Únicamente escriba el valor numérico)\"))\n",
        "b = (a*1.8)+32\n",
        "\n",
        "print(\"La temperatura en grados Fahrenheit es \", b, \"°F\")"
      ],
      "metadata": {
        "colab": {
          "base_uri": "https://localhost:8080/"
        },
        "id": "CQ839uCa5Y1d",
        "outputId": "a4951725-9fbb-4899-e389-1406c9ec1e1c"
      },
      "execution_count": 10,
      "outputs": [
        {
          "output_type": "stream",
          "name": "stdout",
          "text": [
            "Ingrese la temperatura en grados Celsius: (Únicamente escriba el valor numérico)23\n",
            "La temperatura en grados Fahrenheit es  73.4 °F\n"
          ]
        }
      ]
    },
    {
      "cell_type": "markdown",
      "source": [
        "4. Contador de Palabras: Crea un programa que tome una cadena de texto ingresada por el usuario y cuente cuántas palabras contiene. Utiliza una variable para mantener el contador."
      ],
      "metadata": {
        "id": "iqbI8h-_uzbM"
      }
    },
    {
      "cell_type": "code",
      "source": [
        "a=str(input(\"Ingrese una frase:\"))\n",
        "b=a.split()\n",
        "c=len(b)\n",
        "print(\"La frase igresada contiene\", c, \"palabras\")"
      ],
      "metadata": {
        "colab": {
          "base_uri": "https://localhost:8080/"
        },
        "id": "T68bN9OIuz-5",
        "outputId": "97138fa2-c5e0-4af4-8431-94922f18c263"
      },
      "execution_count": 11,
      "outputs": [
        {
          "output_type": "stream",
          "name": "stdout",
          "text": [
            "Ingrese una frase:Sin embargo, en este caso, es más complicado obtener h en función de a y c. Para ello, se emplea el semiperímetro, que permite reconfigurar las relaciones. La derivación completa implica un poco de álgebra más compleja, pero al final podemos concluir que el área puede ser expresada como:\n",
            "La frase igresada contiene 49 palabras\n"
          ]
        }
      ]
    },
    {
      "cell_type": "markdown",
      "source": [
        "6. Cálculo del Promedio: Escribe un programa que permita al usuario ingresar una lista de números separados por comas y luego calcule su promedio utilizando variables."
      ],
      "metadata": {
        "id": "-t41UKuovFpK"
      }
    },
    {
      "cell_type": "code",
      "source": [
        "valores=input(\"Ingrese una lista de números separados por comas: \")\n",
        "lista=valores.split(\",\")\n",
        "c=len(lista)\n",
        "sum=0\n",
        "for i in range(0, c):\n",
        "    sum = sum + float(lista[i])\n",
        "d=sum/c\n",
        "print(\"El promedio de los valores introducidos es\", d)"
      ],
      "metadata": {
        "colab": {
          "base_uri": "https://localhost:8080/"
        },
        "id": "yQNMGBWhvFKo",
        "outputId": "9866c05b-ccab-44de-f668-125c8fde313a"
      },
      "execution_count": 12,
      "outputs": [
        {
          "output_type": "stream",
          "name": "stdout",
          "text": [
            "Ingrese una lista de números separados por comas: 23, 92, 43, 61, 2.23, 0.0001\n",
            "El promedio de los valores introducidos es 36.87168333333333\n"
          ]
        }
      ]
    },
    {
      "cell_type": "markdown",
      "source": [
        "10. Registro de Estudiantes: Crea un programa que permita a un profesor registrar los nombres y calificaciones de varios estudiantes. Utiliza variables para almacenar los nombres, calificaciones y calcular el promedio."
      ],
      "metadata": {
        "id": "2S7b83jhvK0Z"
      }
    },
    {
      "cell_type": "code",
      "source": [
        "t=int(input(\"Cuántos alumnos desea registrar: \"))\n",
        "ndalumnos=0\n",
        "while ndalumnos<t:\n",
        " alumno=str(input(\"Ingrese el nombre del alumno:\"))\n",
        " calificaciones=input(\"Ingrese las calificaciones del alumno separadas por comas: \")\n",
        " lista=calificaciones.split(\",\")\n",
        " c=len(lista)\n",
        " sum=0\n",
        " for i in range(0, c):\n",
        "    sum = sum + float(lista[i])\n",
        " d=sum/c\n",
        " print(\"El promedio del alumno \" + alumno + \" es \"+ str(d))\n",
        " ndalumnos=ndalumnos+1"
      ],
      "metadata": {
        "id": "jnow8YEcvLL6",
        "outputId": "999f73d0-b3f8-481c-aedd-117c39744726",
        "colab": {
          "base_uri": "https://localhost:8080/"
        }
      },
      "execution_count": 13,
      "outputs": [
        {
          "output_type": "stream",
          "name": "stdout",
          "text": [
            "Cuántos alumnos desea registrar: 4\n",
            "Ingrese el nombre del alumno:njd\n",
            "Ingrese las calificaciones del alumno separadas por comas: 29\n",
            "El promedio del alumno njd es 29.0\n",
            "Ingrese el nombre del alumno:d \n",
            "Ingrese las calificaciones del alumno separadas por comas: 32\n",
            "El promedio del alumno d  es 32.0\n",
            "Ingrese el nombre del alumno:kmnckf\n",
            "Ingrese las calificaciones del alumno separadas por comas: 54\n",
            "El promedio del alumno kmnckf es 54.0\n",
            "Ingrese el nombre del alumno:icmkm\n",
            "Ingrese las calificaciones del alumno separadas por comas: 43\n",
            "El promedio del alumno icmkm es 43.0\n"
          ]
        }
      ]
    },
    {
      "cell_type": "markdown",
      "source": [
        "EJERCICIOS DE SINTAXIS/COMENTARIOS/TIPOS DE DATOS"
      ],
      "metadata": {
        "id": "LCdtP60i97ze"
      }
    },
    {
      "cell_type": "markdown",
      "source": [
        "2. Comentarios Descriptivos: Escribe un programa simple que realice una tarea específica, como calcular el área de un rectángulo o imprimir una tabla de multiplicar. Agrega comentarios descriptivos en el código para explicar cada paso del proceso."
      ],
      "metadata": {
        "id": "--2HHwhY-JlV"
      }
    },
    {
      "cell_type": "code",
      "source": [
        "#PROGRAMA DE CÁLCULO DEL ÁREA DE POLÍGONOS REGULARES MAYORES A UN TRIÁNGULO\n",
        "'''\n",
        "Usamos una entrada para saber el número de lados que tiene el polígono, el cual nos va a ser útil para calcular el perímetro; como el número de lados es siempre un número entero ponemos int\n",
        "para sólo aceptar valores enteros\n",
        "'''\n",
        "nlados=int(input(\"Ingrese el número de lados del polígono (mayor a 3 lados):\"))\n",
        "#Las siguientes dos entradas son para saber el valor de los lados y del apotema, pero permitimos que sean números decimales, por lo que convertimos las entradas en floats\n",
        "vdl=float(input(\"Ingrese el valor de un lado del polígono:\"))\n",
        "apotema=float(input(\"Ingrese el valor del apotema del polígono:\"))\n",
        "#Usamos las siguientes fórmulas para obtener el perímetro y posteriormente usamos ese perimetro para obtener el área con fórmulas ya conocidas pero con las variables dadas\n",
        "perímetro=nlados*vdl\n",
        "área=(perímetro*apotema)/2\n",
        "#Por último simplemente imprimimos el valor final del área del polígono\n",
        "print(\"El área del polígono es\", área)"
      ],
      "metadata": {
        "id": "E5gJ2sBM-QwW",
        "colab": {
          "base_uri": "https://localhost:8080/"
        },
        "outputId": "0aff4002-a79d-45c4-9893-450254c10ab9"
      },
      "execution_count": 14,
      "outputs": [
        {
          "output_type": "stream",
          "name": "stdout",
          "text": [
            "Ingrese el número de lados del polígono (mayor a 3 lados):4\n",
            "Ingrese el valor de un lado del polígono:4\n",
            "Ingrese el valor del apotema del polígono:2\n",
            "El área del polígono es 16.0\n"
          ]
        }
      ]
    },
    {
      "cell_type": "markdown",
      "source": [
        "3. Comentarios Informativos: Escribe un programa que resuelva un problema o realice una tarea interesante. Agrega comentarios informativos que expliquen la lógica detrás de cada paso importante del programa."
      ],
      "metadata": {
        "id": "9QVGypzi-YBU"
      }
    },
    {
      "cell_type": "code",
      "source": [
        "#CALCULAR EL ÁREA DE UN TRIÁNGULO A PARTIR DE LA MEDIDA DE SUS 3 LADOS\n",
        "\n",
        "#Lo primero es pedir que se introduzcan los valores de los lados\n",
        "l1=float(input(\"Ingrese la medida de uno de los lados: \"))\n",
        "l2=float(input(\"Ingrese la medida de otro de los lados: \"))\n",
        "l3=float(input(\"Ingrese la medida del último de los lados: \"))\n",
        "\n",
        "#A continuación se calcula el semiperímetro, que corresponde a la mitad del perímetro del triángulo.\n",
        "sp=(l1+l2+l3)/2\n",
        "\n",
        "#Posteriormente se calculan las diferencias entre este semiperímetro y cada uno de los lados\n",
        "dl1=sp-l1\n",
        "dl2=sp-l2\n",
        "dl3=sp-l3\n",
        "\n",
        "#Lo que sigue es multiplicar el semiperímetro por las 3 diferencias que acabamos de calcular.\n",
        "ct=sp*dl1*dl2*dl3\n",
        "\n",
        "#Para finalizar con los cálculos, se clacula la raíz cuadrada de este producto conseguido\n",
        "a=ct**(1/2)\n",
        "\n",
        "#Por último paso imprimimos el área del triángulo\n",
        "print(\"El área del triángulo es\", a )"
      ],
      "metadata": {
        "id": "jAUdautJ-eR8",
        "colab": {
          "base_uri": "https://localhost:8080/"
        },
        "outputId": "d8e51c94-8636-4d59-eaa9-a8f41623f032"
      },
      "execution_count": 15,
      "outputs": [
        {
          "output_type": "stream",
          "name": "stdout",
          "text": [
            "Ingrese la medida de uno de los lados: 1\n",
            "Ingrese la medida de otro de los lados: 1\n",
            "Ingrese la medida del último de los lados: 1\n",
            "El área del triángulo es 0.4330127018922193\n"
          ]
        }
      ]
    },
    {
      "cell_type": "markdown",
      "source": [
        "6. Creación de un Programa con Comentarios de Uso: Escribe un programa que sea útil para los usuarios. Agrega comentarios al principio del programa que expliquen cómo se usa el programa y qué se espera que hagan los usuarios."
      ],
      "metadata": {
        "id": "V9ghl953-ett"
      }
    },
    {
      "cell_type": "code",
      "source": [
        "'''\n",
        "Este es un código en el que es posible calcular la ganancia de una inversión de cualquier monto después de cierta cantidad de años a una taza de interés constante;\n",
        "además imprime el dinero total al final de dicho periodo.\n",
        "\n",
        "Para calcular esto, simplemente introduzca los datos en la sección de abajo al momento de ejecutar el programa.\n",
        "Recuerde que el programa no va a funcionar si alguna de las entradas no es un número, tampoco se aceptan carácteres especiales como signos de pesos, dólares, porcentaje, etc.\n",
        "El programa esta hecho para usar el mayor número de decimales posibles, por lo que puede haber un pequeño margen de error, de la misma forma al considerar que el interés es constante\n",
        "el programa no se ajusta 100% a la realidad, pero puede llegar a ser una presición suficiente para su uso.\n",
        "'''\n",
        "\n",
        "dinero=float(input(\"Introduzca una cantidad de dinero (Omita los signos): \"))\n",
        "t=int(input(\"Introduzca la cantidad de años:\"))\n",
        "i=float(input(\"Introduzca la taza de interés anual (Omita el símbolo de porcentaje): \"))\n",
        "dei=i/100\n",
        "p=1+dei\n",
        "dt=dinero*(p**t)\n",
        "rdt=round(dt)\n",
        "dg=dt-dinero\n",
        "rdg=round(dg)\n",
        "print(\"el dinero total es \", rdt)\n",
        "print(\"el dinero ganado es \", rdg)\n"
      ],
      "metadata": {
        "id": "8vZZQjjZ-pH0",
        "colab": {
          "base_uri": "https://localhost:8080/"
        },
        "outputId": "78f2067b-96a1-4aea-a1a5-8da9b618466c"
      },
      "execution_count": 27,
      "outputs": [
        {
          "output_type": "stream",
          "name": "stdout",
          "text": [
            "Introduzca una cantidad de dinero (Omita los signos): 100000\n",
            "Introduzca la cantidad de años:10\n",
            "Introduzca la taza de interés anual (Omita el símbolo de porcentaje): 13.25\n",
            "el dinero total es  347042\n",
            "el dinero ganado es  247042\n"
          ]
        }
      ]
    }
  ]
}