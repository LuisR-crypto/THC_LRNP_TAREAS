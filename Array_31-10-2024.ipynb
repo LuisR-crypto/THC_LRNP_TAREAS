{
  "nbformat": 4,
  "nbformat_minor": 0,
  "metadata": {
    "colab": {
      "provenance": [],
      "authorship_tag": "ABX9TyMPAba/UE8Gca8wGhGxU3Me",
      "include_colab_link": true
    },
    "kernelspec": {
      "name": "python3",
      "display_name": "Python 3"
    },
    "language_info": {
      "name": "python"
    }
  },
  "cells": [
    {
      "cell_type": "markdown",
      "metadata": {
        "id": "view-in-github",
        "colab_type": "text"
      },
      "source": [
        "<a href=\"https://colab.research.google.com/github/LuisR-crypto/THC_LRNP_TAREAS/blob/main/Array_31-10-2024.ipynb\" target=\"_parent\"><img src=\"https://colab.research.google.com/assets/colab-badge.svg\" alt=\"Open In Colab\"/></a>"
      ]
    },
    {
      "cell_type": "markdown",
      "source": [
        "EVIDENCIA DE LA CLASE DEL 31 DE OCTUBR DE 2024"
      ],
      "metadata": {
        "id": "JrMjOXqKuDL1"
      }
    },
    {
      "cell_type": "code",
      "execution_count": 2,
      "metadata": {
        "id": "fvt6Y_GEuCpO"
      },
      "outputs": [],
      "source": [
        "#bibliotecas\n",
        "import numpy as np"
      ]
    },
    {
      "cell_type": "markdown",
      "source": [
        "LINSPACE\n",
        "\n",
        "Lo que hace este comando es que entreparéntesis ponemos tres números, de los cuales, los dos primeros corresponden a un intervalo, y el segundo a las partes en las que quiero que la divida menos uno"
      ],
      "metadata": {
        "id": "iWnNZo8cuTu8"
      }
    },
    {
      "cell_type": "code",
      "source": [
        "arreglo=np.linspace(0,2,16)\n",
        "arreglo\n"
      ],
      "metadata": {
        "colab": {
          "base_uri": "https://localhost:8080/"
        },
        "id": "_hxZuEG0uWk8",
        "outputId": "1aec25f8-9478-4008-8daa-0db312e389d3"
      },
      "execution_count": 8,
      "outputs": [
        {
          "output_type": "execute_result",
          "data": {
            "text/plain": [
              "array([0.        , 0.13333333, 0.26666667, 0.4       , 0.53333333,\n",
              "       0.66666667, 0.8       , 0.93333333, 1.06666667, 1.2       ,\n",
              "       1.33333333, 1.46666667, 1.6       , 1.73333333, 1.86666667,\n",
              "       2.        ])"
            ]
          },
          "metadata": {},
          "execution_count": 8
        }
      ]
    },
    {
      "cell_type": "markdown",
      "source": [
        "RESHAPE\n",
        "\n",
        "Lo que hace el comando es que arregla los elementos del arreglo en una matriz, donde el primer número dentro del paréntesis corresponde al número de filas, mientras que el segundo valor son las columnas."
      ],
      "metadata": {
        "id": "LZKn1TATvPpk"
      }
    },
    {
      "cell_type": "code",
      "source": [
        "arreglo.reshape((4,4))"
      ],
      "metadata": {
        "colab": {
          "base_uri": "https://localhost:8080/"
        },
        "id": "WwFO--revDpN",
        "outputId": "ef53ec42-46c8-46fd-d2bd-13971ffe27d0"
      },
      "execution_count": 11,
      "outputs": [
        {
          "output_type": "execute_result",
          "data": {
            "text/plain": [
              "array([[0.        , 0.13333333, 0.26666667, 0.4       ],\n",
              "       [0.53333333, 0.66666667, 0.8       , 0.93333333],\n",
              "       [1.06666667, 1.2       , 1.33333333, 1.46666667],\n",
              "       [1.6       , 1.73333333, 1.86666667, 2.        ]])"
            ]
          },
          "metadata": {},
          "execution_count": 11
        }
      ]
    },
    {
      "cell_type": "markdown",
      "source": [
        "Se pueden hacer vectores columna, que se pueden obtener poniendo (-1,1), y ponemos crear matricez tanto cuadradas como rectangulares.\n"
      ],
      "metadata": {
        "id": "AgAp0SRfwhps"
      }
    },
    {
      "cell_type": "code",
      "source": [
        "arreglo.reshape(-1,1)"
      ],
      "metadata": {
        "colab": {
          "base_uri": "https://localhost:8080/"
        },
        "id": "OYwe_VbXxVS0",
        "outputId": "6cba2c8a-90b7-4d39-c703-affd07dbcde0"
      },
      "execution_count": 12,
      "outputs": [
        {
          "output_type": "execute_result",
          "data": {
            "text/plain": [
              "array([[0.        ],\n",
              "       [0.13333333],\n",
              "       [0.26666667],\n",
              "       [0.4       ],\n",
              "       [0.53333333],\n",
              "       [0.66666667],\n",
              "       [0.8       ],\n",
              "       [0.93333333],\n",
              "       [1.06666667],\n",
              "       [1.2       ],\n",
              "       [1.33333333],\n",
              "       [1.46666667],\n",
              "       [1.6       ],\n",
              "       [1.73333333],\n",
              "       [1.86666667],\n",
              "       [2.        ]])"
            ]
          },
          "metadata": {},
          "execution_count": 12
        }
      ]
    },
    {
      "cell_type": "markdown",
      "source": [
        "COMPARATIVOS"
      ],
      "metadata": {
        "id": "MjmSUDNNxn68"
      }
    },
    {
      "cell_type": "code",
      "source": [
        "arr=np.array([2,5,1,8,9,10,15,4,6])\n",
        "#Como phyton está vectorizado al hacer la comaración, se va a ir elemento por elemnto del arreglo\n",
        "#A esto se le llama máscara booleana, que nos sirve no sólo para saber si hay elemenots mayores de algúnnúmero\n",
        "#sino que tambien podemos extraerlos para poder trabajar con ellos\n",
        "arr>5"
      ],
      "metadata": {
        "colab": {
          "base_uri": "https://localhost:8080/"
        },
        "id": "OAuGDm2RxqOc",
        "outputId": "a2d565fa-3f45-4ba6-f6d1-38297f577317"
      },
      "execution_count": 14,
      "outputs": [
        {
          "output_type": "execute_result",
          "data": {
            "text/plain": [
              "array([False, False, False,  True,  True,  True,  True, False,  True])"
            ]
          },
          "metadata": {},
          "execution_count": 14
        }
      ]
    },
    {
      "cell_type": "code",
      "source": [
        "arr[arr>5]"
      ],
      "metadata": {
        "colab": {
          "base_uri": "https://localhost:8080/"
        },
        "id": "zvnpTWBDyiPU",
        "outputId": "9118a282-eb43-46f0-d7bb-7c4f58c32cde"
      },
      "execution_count": 15,
      "outputs": [
        {
          "output_type": "execute_result",
          "data": {
            "text/plain": [
              "array([ 8,  9, 10, 15,  6])"
            ]
          },
          "metadata": {},
          "execution_count": 15
        }
      ]
    },
    {
      "cell_type": "code",
      "source": [
        "MB=arr>5\n",
        "arr[MB]"
      ],
      "metadata": {
        "colab": {
          "base_uri": "https://localhost:8080/"
        },
        "id": "yJfalDpoyn1U",
        "outputId": "318d75bc-1286-4a95-ca29-eed57420a4e2"
      },
      "execution_count": 16,
      "outputs": [
        {
          "output_type": "execute_result",
          "data": {
            "text/plain": [
              "array([ 8,  9, 10, 15,  6])"
            ]
          },
          "metadata": {},
          "execution_count": 16
        }
      ]
    },
    {
      "cell_type": "code",
      "source": [
        "arr[arr % 2 == 0]\n",
        "#Esto es una máscara booleana"
      ],
      "metadata": {
        "colab": {
          "base_uri": "https://localhost:8080/"
        },
        "id": "rY5Ch7FYywR1",
        "outputId": "68988dc3-a2de-4159-9915-769f0414311e"
      },
      "execution_count": 17,
      "outputs": [
        {
          "output_type": "execute_result",
          "data": {
            "text/plain": [
              "array([ 2,  8, 10,  4,  6])"
            ]
          },
          "metadata": {},
          "execution_count": 17
        }
      ]
    },
    {
      "cell_type": "code",
      "source": [
        "arr[arr<5]"
      ],
      "metadata": {
        "colab": {
          "base_uri": "https://localhost:8080/"
        },
        "id": "E1lHelTuzRdc",
        "outputId": "487156e6-142f-4bc0-80f1-6d43b3053d67"
      },
      "execution_count": 18,
      "outputs": [
        {
          "output_type": "execute_result",
          "data": {
            "text/plain": [
              "array([2, 1, 4])"
            ]
          },
          "metadata": {},
          "execution_count": 18
        }
      ]
    },
    {
      "cell_type": "code",
      "source": [
        "arr[(arr<10) and (arr>5)]\n",
        "#(arr<10) and (arr>5) le es ambigua a la comutadora"
      ],
      "metadata": {
        "colab": {
          "base_uri": "https://localhost:8080/",
          "height": 141
        },
        "id": "ruAWgAnAzVtb",
        "outputId": "9aa7b7f0-bf22-4c17-9962-dd92472c0728"
      },
      "execution_count": 19,
      "outputs": [
        {
          "output_type": "error",
          "ename": "ValueError",
          "evalue": "The truth value of an array with more than one element is ambiguous. Use a.any() or a.all()",
          "traceback": [
            "\u001b[0;31m---------------------------------------------------------------------------\u001b[0m",
            "\u001b[0;31mValueError\u001b[0m                                Traceback (most recent call last)",
            "\u001b[0;32m<ipython-input-19-a06a5eca4c01>\u001b[0m in \u001b[0;36m<cell line: 1>\u001b[0;34m()\u001b[0m\n\u001b[0;32m----> 1\u001b[0;31m \u001b[0marr\u001b[0m\u001b[0;34m[\u001b[0m\u001b[0;34m(\u001b[0m\u001b[0marr\u001b[0m\u001b[0;34m<\u001b[0m\u001b[0;36m10\u001b[0m\u001b[0;34m)\u001b[0m \u001b[0;32mand\u001b[0m \u001b[0;34m(\u001b[0m\u001b[0marr\u001b[0m\u001b[0;34m>\u001b[0m\u001b[0;36m5\u001b[0m\u001b[0;34m)\u001b[0m\u001b[0;34m]\u001b[0m\u001b[0;34m\u001b[0m\u001b[0;34m\u001b[0m\u001b[0m\n\u001b[0m",
            "\u001b[0;31mValueError\u001b[0m: The truth value of an array with more than one element is ambiguous. Use a.any() or a.all()"
          ]
        }
      ]
    },
    {
      "cell_type": "code",
      "source": [
        "arr1=arr[(arr<10)]\n",
        "arr1[arr1>5]\n"
      ],
      "metadata": {
        "colab": {
          "base_uri": "https://localhost:8080/"
        },
        "id": "0Tcwm8Jsz3XF",
        "outputId": "55447fbe-b5e0-4655-c792-273d2f0cdc5e"
      },
      "execution_count": 22,
      "outputs": [
        {
          "output_type": "execute_result",
          "data": {
            "text/plain": [
              "array([8, 9, 6])"
            ]
          },
          "metadata": {},
          "execution_count": 22
        }
      ]
    },
    {
      "cell_type": "markdown",
      "source": [
        "La forma anterior reasigna los valores del arreglo original y los asigna a arr1, por lo que en nuestros arreglos tenemos el original mas el nuevo que acabamos de crear"
      ],
      "metadata": {
        "id": "EIn2EYSY0ms9"
      }
    },
    {
      "cell_type": "code",
      "source": [
        "arr1=np.copy(arr)\n",
        "arr1=arr1[arr1<10]\n",
        "arr1=arr1[arr1>5]\n",
        "arr1"
      ],
      "metadata": {
        "colab": {
          "base_uri": "https://localhost:8080/"
        },
        "id": "h6FIGcJK03JE",
        "outputId": "b6c38e5a-9ed8-4fbb-f280-e5d60ef12b38"
      },
      "execution_count": 27,
      "outputs": [
        {
          "output_type": "execute_result",
          "data": {
            "text/plain": [
              "array([8, 9, 6])"
            ]
          },
          "metadata": {},
          "execution_count": 27
        }
      ]
    },
    {
      "cell_type": "markdown",
      "source": [
        "El anterior lo que hace es que sobreescribe nuestro arrelo original y se pierden los demás elementos que no cumplen las condiciones pedidas."
      ],
      "metadata": {
        "id": "GZ4LQzDb1EgE"
      }
    },
    {
      "cell_type": "markdown",
      "source": [
        "WHERE"
      ],
      "metadata": {
        "id": "hHHJbRiu1YRM"
      }
    },
    {
      "cell_type": "code",
      "source": [
        "arr2=np.where(arr%2==0) #Devuelve el arreglo con los elementos que son pares\n",
        "arr[arr2]"
      ],
      "metadata": {
        "colab": {
          "base_uri": "https://localhost:8080/"
        },
        "id": "FM2rb7L01EJz",
        "outputId": "11176dee-5070-41bf-8cd6-d611170f76c7"
      },
      "execution_count": 29,
      "outputs": [
        {
          "output_type": "execute_result",
          "data": {
            "text/plain": [
              "array([8, 6])"
            ]
          },
          "metadata": {},
          "execution_count": 29
        }
      ]
    },
    {
      "cell_type": "markdown",
      "source": [
        "#SEARCHSORTED"
      ],
      "metadata": {
        "id": "JVAvV5jF2IH0"
      }
    },
    {
      "cell_type": "code",
      "source": [
        "arr=np.array([2,5,1,8,9,10,15,4,6])\n",
        "arr"
      ],
      "metadata": {
        "colab": {
          "base_uri": "https://localhost:8080/"
        },
        "id": "In4G9iQH2NUc",
        "outputId": "6ff5a740-87e6-45d3-8e59-e0470d065065"
      },
      "execution_count": 33,
      "outputs": [
        {
          "output_type": "execute_result",
          "data": {
            "text/plain": [
              "array([ 2,  5,  1,  8,  9, 10, 15,  4,  6])"
            ]
          },
          "metadata": {},
          "execution_count": 33
        }
      ]
    },
    {
      "cell_type": "markdown",
      "source": [
        "Usando el comndo np.sorted podemos reacomodar todos los elementos del arrglo para asípoder trabajar con él de una forma más fácil."
      ],
      "metadata": {
        "id": "jgi4O6fm24N0"
      }
    },
    {
      "cell_type": "code",
      "source": [
        "arr=np.sort(arr)\n",
        "arr"
      ],
      "metadata": {
        "colab": {
          "base_uri": "https://localhost:8080/"
        },
        "id": "_9eYCkIz2deT",
        "outputId": "9d2543d2-152d-45e7-8de8-4c4e6bd6d919"
      },
      "execution_count": 34,
      "outputs": [
        {
          "output_type": "execute_result",
          "data": {
            "text/plain": [
              "array([ 1,  2,  4,  5,  6,  8,  9, 10, 15])"
            ]
          },
          "metadata": {},
          "execution_count": 34
        }
      ]
    },
    {
      "cell_type": "markdown",
      "source": [
        "Mediante el comando searchsorted, podemos buscar el valor específico de uno de los elementos del arreglo, y nos va a regresar la posición en la que se encuentra ese elemento"
      ],
      "metadata": {
        "id": "Hd61qXqz3F60"
      }
    },
    {
      "cell_type": "code",
      "source": [
        "index=np.searchsorted(arr,6)\n",
        "index"
      ],
      "metadata": {
        "colab": {
          "base_uri": "https://localhost:8080/"
        },
        "id": "HP6xcDyS2v8M",
        "outputId": "e040e8a2-146a-40de-d96f-45f56d1656e6"
      },
      "execution_count": 36,
      "outputs": [
        {
          "output_type": "execute_result",
          "data": {
            "text/plain": [
              "5"
            ]
          },
          "metadata": {},
          "execution_count": 36
        }
      ]
    },
    {
      "cell_type": "code",
      "source": [
        "np.mean(arr)"
      ],
      "metadata": {
        "colab": {
          "base_uri": "https://localhost:8080/"
        },
        "id": "bfpgM3YV3Wd8",
        "outputId": "fb2c25f5-add3-4f95-e41d-7bbe66f8fe01"
      },
      "execution_count": 38,
      "outputs": [
        {
          "output_type": "execute_result",
          "data": {
            "text/plain": [
              "6.666666666666667"
            ]
          },
          "metadata": {},
          "execution_count": 38
        }
      ]
    },
    {
      "cell_type": "code",
      "source": [
        "np.median(arr)"
      ],
      "metadata": {
        "colab": {
          "base_uri": "https://localhost:8080/"
        },
        "id": "5zwxWpMR3c8E",
        "outputId": "0fb6545e-7700-4c68-a3d8-a64ceb35ab15"
      },
      "execution_count": 39,
      "outputs": [
        {
          "output_type": "execute_result",
          "data": {
            "text/plain": [
              "6.0"
            ]
          },
          "metadata": {},
          "execution_count": 39
        }
      ]
    },
    {
      "cell_type": "code",
      "source": [
        "np.sum(arr)"
      ],
      "metadata": {
        "colab": {
          "base_uri": "https://localhost:8080/"
        },
        "id": "HZalmLNr3fqU",
        "outputId": "4b656fbf-c712-4720-8a6d-718b2be091e3"
      },
      "execution_count": 40,
      "outputs": [
        {
          "output_type": "execute_result",
          "data": {
            "text/plain": [
              "60"
            ]
          },
          "metadata": {},
          "execution_count": 40
        }
      ]
    },
    {
      "cell_type": "markdown",
      "source": [
        "#OPERACIONES DE ARREGLOS"
      ],
      "metadata": {
        "id": "--GE5kPe3lws"
      }
    },
    {
      "cell_type": "code",
      "source": [
        "arr+arr"
      ],
      "metadata": {
        "colab": {
          "base_uri": "https://localhost:8080/"
        },
        "id": "KLxXNQxZ3iPs",
        "outputId": "12fefbe4-24c8-49c5-e2f3-4589d5f89a72"
      },
      "execution_count": 41,
      "outputs": [
        {
          "output_type": "execute_result",
          "data": {
            "text/plain": [
              "array([ 2,  4,  8, 10, 12, 16, 18, 20, 30])"
            ]
          },
          "metadata": {},
          "execution_count": 41
        }
      ]
    },
    {
      "cell_type": "code",
      "source": [
        "arr**2"
      ],
      "metadata": {
        "colab": {
          "base_uri": "https://localhost:8080/"
        },
        "id": "OVw9sqsd3vIk",
        "outputId": "a87784b2-5861-42b5-d436-304b8e8142cb"
      },
      "execution_count": 42,
      "outputs": [
        {
          "output_type": "execute_result",
          "data": {
            "text/plain": [
              "array([  1,   4,  16,  25,  36,  64,  81, 100, 225])"
            ]
          },
          "metadata": {},
          "execution_count": 42
        }
      ]
    },
    {
      "cell_type": "code",
      "source": [
        "np.dot(arr,arr)"
      ],
      "metadata": {
        "colab": {
          "base_uri": "https://localhost:8080/"
        },
        "id": "jLRWnNni3xfU",
        "outputId": "2dc93558-80f8-485c-ba34-f2213ce28e51"
      },
      "execution_count": 43,
      "outputs": [
        {
          "output_type": "execute_result",
          "data": {
            "text/plain": [
              "552"
            ]
          },
          "metadata": {},
          "execution_count": 43
        }
      ]
    },
    {
      "cell_type": "code",
      "source": [
        "arr*arr"
      ],
      "metadata": {
        "colab": {
          "base_uri": "https://localhost:8080/"
        },
        "id": "9bAbl5uY31mU",
        "outputId": "d736a7d6-480c-425f-dbfb-1aecd6049c1d"
      },
      "execution_count": 44,
      "outputs": [
        {
          "output_type": "execute_result",
          "data": {
            "text/plain": [
              "array([  1,   4,  16,  25,  36,  64,  81, 100, 225])"
            ]
          },
          "metadata": {},
          "execution_count": 44
        }
      ]
    },
    {
      "cell_type": "code",
      "source": [
        "arr/arr"
      ],
      "metadata": {
        "colab": {
          "base_uri": "https://localhost:8080/"
        },
        "id": "33O4GMBL34sU",
        "outputId": "69539a8d-93e2-4d51-8caa-32cab2edab89"
      },
      "execution_count": 45,
      "outputs": [
        {
          "output_type": "execute_result",
          "data": {
            "text/plain": [
              "array([1., 1., 1., 1., 1., 1., 1., 1., 1.])"
            ]
          },
          "metadata": {},
          "execution_count": 45
        }
      ]
    },
    {
      "cell_type": "code",
      "source": [
        "arr-arr"
      ],
      "metadata": {
        "colab": {
          "base_uri": "https://localhost:8080/"
        },
        "id": "-0HgIHre4Ng8",
        "outputId": "7d7e721f-30ee-4478-8295-3c923018f4be"
      },
      "execution_count": 46,
      "outputs": [
        {
          "output_type": "execute_result",
          "data": {
            "text/plain": [
              "array([0, 0, 0, 0, 0, 0, 0, 0, 0])"
            ]
          },
          "metadata": {},
          "execution_count": 46
        }
      ]
    },
    {
      "cell_type": "markdown",
      "source": [
        "#PROBLEMA DE CALENTAMIENTO\n",
        "\n",
        "De un arreglo seleccione aquellos impares"
      ],
      "metadata": {
        "id": "E8iBCXIe5rfs"
      }
    },
    {
      "cell_type": "code",
      "source": [
        "vector=np.array([1,2,3,4,5,6,7,8,9,10,11,12,13])\n",
        "\n",
        "vector[vector%2==1]\n"
      ],
      "metadata": {
        "colab": {
          "base_uri": "https://localhost:8080/"
        },
        "id": "yQ91DMCT5udT",
        "outputId": "04795d6b-1a20-47fa-d3c3-b66b54321aa7"
      },
      "execution_count": 49,
      "outputs": [
        {
          "output_type": "execute_result",
          "data": {
            "text/plain": [
              "array([ 1,  3,  5,  7,  9, 11, 13])"
            ]
          },
          "metadata": {},
          "execution_count": 49
        }
      ]
    },
    {
      "cell_type": "code",
      "source": [
        "vector=np.array([1,2,3,4,5,6,7,8,9,10,11,12,13])\n",
        "vector1=np.where(vector % 2==1)\n",
        "vector[vector1]\n",
        "\n"
      ],
      "metadata": {
        "colab": {
          "base_uri": "https://localhost:8080/"
        },
        "id": "S9PulNYZ6b-b",
        "outputId": "1bbff83a-1ff0-4bc7-f6f1-245e36505837"
      },
      "execution_count": 54,
      "outputs": [
        {
          "output_type": "execute_result",
          "data": {
            "text/plain": [
              "array([ 1,  3,  5,  7,  9, 11, 13])"
            ]
          },
          "metadata": {},
          "execution_count": 54
        }
      ]
    },
    {
      "cell_type": "markdown",
      "source": [
        "Dados a, b en R2\n",
        "\n",
        "Programe a*b (producto escalar)"
      ],
      "metadata": {
        "id": "VqR4oMuW7Noj"
      }
    },
    {
      "cell_type": "code",
      "source": [
        "a=[1,2,3]\n",
        "b=[4,5,6]\n",
        "\n",
        "ProdEsc=0.0\n",
        "for i in range(len(a)):\n",
        "   ProdEsc+=a[i]*b[i]\n",
        "print(ProdEsc)"
      ],
      "metadata": {
        "colab": {
          "base_uri": "https://localhost:8080/"
        },
        "id": "lMc4XQIi7bAc",
        "outputId": "f5c3f0bc-6765-407b-859f-67af78300c2d"
      },
      "execution_count": 55,
      "outputs": [
        {
          "output_type": "stream",
          "name": "stdout",
          "text": [
            "32.0\n"
          ]
        }
      ]
    },
    {
      "cell_type": "code",
      "source": [
        "a=np.ones(20) #Lo que hace es que hace un arreglo de 20 números 1\n",
        "b=np.ones(20)\n",
        "\n",
        "ProdEsc=0.0\n",
        "n=len(a)\n",
        "\n",
        "for i in range(n):\n",
        "  ProdEsc+=a[i]*b[i]\n",
        "\n",
        "print(ProdEsc)"
      ],
      "metadata": {
        "colab": {
          "base_uri": "https://localhost:8080/"
        },
        "id": "EOtb-li1-QME",
        "outputId": "7c457e42-bebc-40a0-e809-196fdc230375"
      },
      "execution_count": 57,
      "outputs": [
        {
          "output_type": "stream",
          "name": "stdout",
          "text": [
            "20.0\n"
          ]
        }
      ]
    },
    {
      "cell_type": "markdown",
      "source": [
        "UNA FUNCIÓN QUE DADOS DOS VECTORES VALIDE QUE SEAN DE LA MISMA LONGITUD, EN CASO DE NO SERLO IMPRIME UN AVISO, EN CASO DE SERLO REALIZA EL PRODUCTO ESCALAR\n"
      ],
      "metadata": {
        "id": "Zy4KZ-Io-7H8"
      }
    },
    {
      "cell_type": "code",
      "source": [
        "a=input(\"Ingrese el priver vecto\")\n",
        "b=input(\"Ingrese el segundo vector\")\n",
        "a1=np.array(a)\n",
        "b1=np.array(b)\n",
        "def ProdEsc(a1,b1):\n",
        "  if len(a)!=len(b):\n",
        "   print(\"Los vectores introducidos no son de la misma longiitud, por lo que no se puede realizar el producto escalar\")\n",
        "  else:\n",
        "    ProdEsc=0.0\n",
        "    for i in range(len(a)):\n",
        "      ProdEsc+=a1[i]+b1[i]\n",
        "      print(ProdEsc)\n",
        "print(ProdEsc(a1,b1))"
      ],
      "metadata": {
        "colab": {
          "base_uri": "https://localhost:8080/",
          "height": 332
        },
        "id": "P5LMuR1M_HGV",
        "outputId": "1eca99e9-864e-4ebf-8440-01da4378db7f"
      },
      "execution_count": 62,
      "outputs": [
        {
          "name": "stdout",
          "output_type": "stream",
          "text": [
            "Ingrese el priver vecto1,2,3\n",
            "Ingrese el segundo vector4,5,6\n"
          ]
        },
        {
          "output_type": "error",
          "ename": "TypeError",
          "evalue": "unsupported operand type(s) for +=: 'float' and 'str'",
          "traceback": [
            "\u001b[0;31m---------------------------------------------------------------------------\u001b[0m",
            "\u001b[0;31mTypeError\u001b[0m                                 Traceback (most recent call last)",
            "\u001b[0;32m<ipython-input-62-b3c4616f5673>\u001b[0m in \u001b[0;36m<cell line: 13>\u001b[0;34m()\u001b[0m\n\u001b[1;32m     11\u001b[0m       \u001b[0mProdEsc\u001b[0m\u001b[0;34m+=\u001b[0m\u001b[0ma1\u001b[0m\u001b[0;34m[\u001b[0m\u001b[0mi\u001b[0m\u001b[0;34m]\u001b[0m\u001b[0;34m+\u001b[0m\u001b[0mb1\u001b[0m\u001b[0;34m[\u001b[0m\u001b[0mi\u001b[0m\u001b[0;34m]\u001b[0m\u001b[0;34m\u001b[0m\u001b[0;34m\u001b[0m\u001b[0m\n\u001b[1;32m     12\u001b[0m       \u001b[0mprint\u001b[0m\u001b[0;34m(\u001b[0m\u001b[0mProdEsc\u001b[0m\u001b[0;34m)\u001b[0m\u001b[0;34m\u001b[0m\u001b[0;34m\u001b[0m\u001b[0m\n\u001b[0;32m---> 13\u001b[0;31m \u001b[0mprint\u001b[0m\u001b[0;34m(\u001b[0m\u001b[0mProdEsc\u001b[0m\u001b[0;34m(\u001b[0m\u001b[0ma1\u001b[0m\u001b[0;34m,\u001b[0m\u001b[0mb1\u001b[0m\u001b[0;34m)\u001b[0m\u001b[0;34m)\u001b[0m\u001b[0;34m\u001b[0m\u001b[0;34m\u001b[0m\u001b[0m\n\u001b[0m",
            "\u001b[0;32m<ipython-input-62-b3c4616f5673>\u001b[0m in \u001b[0;36mProdEsc\u001b[0;34m(a1, b1)\u001b[0m\n\u001b[1;32m      9\u001b[0m     \u001b[0mProdEsc\u001b[0m\u001b[0;34m=\u001b[0m\u001b[0;36m0.0\u001b[0m\u001b[0;34m\u001b[0m\u001b[0;34m\u001b[0m\u001b[0m\n\u001b[1;32m     10\u001b[0m     \u001b[0;32mfor\u001b[0m \u001b[0mi\u001b[0m \u001b[0;32min\u001b[0m \u001b[0mrange\u001b[0m\u001b[0;34m(\u001b[0m\u001b[0mlen\u001b[0m\u001b[0;34m(\u001b[0m\u001b[0ma\u001b[0m\u001b[0;34m)\u001b[0m\u001b[0;34m)\u001b[0m\u001b[0;34m:\u001b[0m\u001b[0;34m\u001b[0m\u001b[0;34m\u001b[0m\u001b[0m\n\u001b[0;32m---> 11\u001b[0;31m       \u001b[0mProdEsc\u001b[0m\u001b[0;34m+=\u001b[0m\u001b[0ma1\u001b[0m\u001b[0;34m[\u001b[0m\u001b[0mi\u001b[0m\u001b[0;34m]\u001b[0m\u001b[0;34m+\u001b[0m\u001b[0mb1\u001b[0m\u001b[0;34m[\u001b[0m\u001b[0mi\u001b[0m\u001b[0;34m]\u001b[0m\u001b[0;34m\u001b[0m\u001b[0;34m\u001b[0m\u001b[0m\n\u001b[0m\u001b[1;32m     12\u001b[0m       \u001b[0mprint\u001b[0m\u001b[0;34m(\u001b[0m\u001b[0mProdEsc\u001b[0m\u001b[0;34m)\u001b[0m\u001b[0;34m\u001b[0m\u001b[0;34m\u001b[0m\u001b[0m\n\u001b[1;32m     13\u001b[0m \u001b[0mprint\u001b[0m\u001b[0;34m(\u001b[0m\u001b[0mProdEsc\u001b[0m\u001b[0;34m(\u001b[0m\u001b[0ma1\u001b[0m\u001b[0;34m,\u001b[0m\u001b[0mb1\u001b[0m\u001b[0;34m)\u001b[0m\u001b[0;34m)\u001b[0m\u001b[0;34m\u001b[0m\u001b[0;34m\u001b[0m\u001b[0m\n",
            "\u001b[0;31mTypeError\u001b[0m: unsupported operand type(s) for +=: 'float' and 'str'"
          ]
        }
      ]
    },
    {
      "cell_type": "code",
      "source": [
        "a=np.ones(20)\n",
        "b=np.ones(20)\n",
        "def ProductoEscalar(a,b):\n",
        "  if len(a)==len(b):\n",
        "    ProdEsc=0.0\n",
        "    n=len(a)\n",
        "\n",
        "    for i in range(n):\n",
        "      ProdEsc+=a[i]*b[i]\n",
        "\n",
        "    print(ProdEsc)\n",
        "    return ProdEsc\n",
        "  else:\n",
        "    print(\"No se puede hacer la operación\")\n",
        "    return\n",
        "\n",
        "resultado= ProductoEscalar(a,b)"
      ],
      "metadata": {
        "colab": {
          "base_uri": "https://localhost:8080/"
        },
        "id": "8ynCNS3vBLJ8",
        "outputId": "e3a69554-00fd-4cfb-934c-28cea9fc0f9e"
      },
      "execution_count": 65,
      "outputs": [
        {
          "output_type": "stream",
          "name": "stdout",
          "text": [
            "20.0\n"
          ]
        }
      ]
    },
    {
      "cell_type": "code",
      "source": [
        "A=np.array([[1.,1.,1.],[1.,1.,1.],[1.,1.,1.]])\n",
        "b=np.array([1.,2.,3.])\n",
        "\n",
        "def MatVec(A,b):\n",
        "  x=np.zeros(len(b))\n",
        "  for i in range(len(b)):\n",
        "    x[i]=ProductoEscalar(A[i,:],b)\n",
        "\n",
        "  return x\n",
        "print(MatVec(A,b))\n"
      ],
      "metadata": {
        "colab": {
          "base_uri": "https://localhost:8080/"
        },
        "id": "khRKo5FaDLxc",
        "outputId": "d7df4579-52de-49df-95ca-c5a3d80cef82"
      },
      "execution_count": 70,
      "outputs": [
        {
          "output_type": "stream",
          "name": "stdout",
          "text": [
            "6.0\n",
            "6.0\n",
            "6.0\n",
            "[6. 6. 6.]\n"
          ]
        }
      ]
    }
  ]
}