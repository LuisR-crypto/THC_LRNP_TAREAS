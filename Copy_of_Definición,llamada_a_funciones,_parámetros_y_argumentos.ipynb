{
  "cells": [
    {
      "cell_type": "markdown",
      "metadata": {
        "id": "view-in-github",
        "colab_type": "text"
      },
      "source": [
        "<a href=\"https://colab.research.google.com/github/LuisR-crypto/THC_LRNP_TAREAS/blob/main/Copy_of_Definici%C3%B3n%2Cllamada_a_funciones%2C_par%C3%A1metros_y_argumentos.ipynb\" target=\"_parent\"><img src=\"https://colab.research.google.com/assets/colab-badge.svg\" alt=\"Open In Colab\"/></a>"
      ]
    },
    {
      "cell_type": "markdown",
      "id": "0c4018bd",
      "metadata": {
        "id": "0c4018bd"
      },
      "source": [
        "<font color=\"Red\" face=\"Comic Sans MS,arial\">\n",
        "  <h1 align=\"center\"><i>Definición,llamada a funciones, parámetros y argumentos </i></h1>\n",
        "  </font>\n",
        "  \n",
        "> Elaborado por: Jesús Iván Coss Calderón. mat_ing_coss@ciencias.unam.mx"
      ]
    },
    {
      "cell_type": "markdown",
      "id": "d572795c",
      "metadata": {
        "id": "d572795c"
      },
      "source": [
        "**Objetivo general**\n",
        "\n",
        "* Aprender los fundamentos de la declaración de funciones\n",
        "\n",
        "**Objetivos particulares**\n",
        "\n",
        "* Entender la elaboración de funciones"
      ]
    },
    {
      "cell_type": "markdown",
      "id": "001e54d2",
      "metadata": {
        "id": "001e54d2"
      },
      "source": [
        "[**Regresa al notebook principal**](https://github.com/seismomat/HerramientasComputacionales/blob/main/Sintaxis%2Ccomentarios%2CTiposDeDatos.ipynb)"
      ]
    },
    {
      "cell_type": "markdown",
      "id": "b76ffc8a",
      "metadata": {
        "id": "b76ffc8a"
      },
      "source": [
        "<a name='c1'></a>\n",
        "\n",
        "## Contenido\n",
        "\n",
        "- [Funciones](#1)\n",
        "    - [Declaración](#1-1)\n",
        "    - [Llamando funciones creadas](#1-2)\n",
        "- [Argumentos](#2)\n",
        "    - [¿Argumentos o parámetros?](#2-1)\n",
        "- [Número de argumentos](#3)\n",
        "    - [*args](#3-1)\n",
        "    - [Clave Arguments](#3-2)\n",
        "    - [**kwargs](#3-3)\n",
        "- [Parámetro default](#4)\n",
        "- [Pasando una estructura de datos como parámetros](#5)"
      ]
    },
    {
      "cell_type": "markdown",
      "id": "269975e0",
      "metadata": {
        "id": "269975e0"
      },
      "source": [
        "<a name='1'></a>\n",
        "\n",
        "# Funciones\n",
        "[regresar al contenido](#c1)\n",
        "\n",
        "Una función es un bloque de código que solo se ejecuta cuando se llama.\n",
        "\n",
        "Puedes pasar datos, conocidos como parámetros, a una función.\n",
        "\n",
        "Una función puede devolver datos como resultado."
      ]
    },
    {
      "cell_type": "markdown",
      "id": "fb9dfa06",
      "metadata": {
        "id": "fb9dfa06"
      },
      "source": [
        "<a name='1-1'></a>\n",
        "\n",
        "## Declaración\n",
        "[regresar al contenido](#c1)\n",
        "\n",
        "En Python, una función se define usando la palabra clave **def** seguido de dos puntos **:**"
      ]
    },
    {
      "cell_type": "code",
      "execution_count": null,
      "id": "b516f0d1",
      "metadata": {
        "id": "b516f0d1"
      },
      "outputs": [],
      "source": [
        "def mi_funcion():\n",
        "  print(\"Hola, te saludo desde la función\")"
      ]
    },
    {
      "cell_type": "markdown",
      "id": "afa98fb0",
      "metadata": {
        "id": "afa98fb0"
      },
      "source": [
        "<a name='1-2'></a>\n",
        "\n",
        "## Llamando funciones creadas\n",
        "[regresar al contenido](#c1)\n",
        "\n",
        "Para llamar a una función, utiliza el nombre de la función seguido de paréntesis."
      ]
    },
    {
      "cell_type": "code",
      "execution_count": null,
      "id": "82370167",
      "metadata": {
        "id": "82370167",
        "outputId": "c98dafa9-72f9-4b95-f468-49b84e5825fd"
      },
      "outputs": [
        {
          "name": "stdout",
          "output_type": "stream",
          "text": [
            "Hola, te saludo desde la función\n"
          ]
        }
      ],
      "source": [
        "mi_funcion()"
      ]
    },
    {
      "cell_type": "markdown",
      "id": "d003deb7",
      "metadata": {
        "id": "d003deb7"
      },
      "source": [
        "<a name='2'></a>\n",
        "\n",
        "# Argumentos\n",
        "[regresar al contenido](#c1)\n",
        "\n",
        "La información puede ser pasada a las funciones como argumentos.\n",
        "\n",
        "Los argumentos se especifican después del nombre de la función, dentro de los paréntesis. Puedes agregar tantos argumentos como desees, simplemente sepáralos con comas.\n",
        "\n",
        "El siguiente ejemplo tiene una función con un argumento (fname). Cuando la función es llamada, pasamos un nombre propio, que es usado dentro de la función para imprimir el nombre completo."
      ]
    },
    {
      "cell_type": "code",
      "execution_count": null,
      "id": "a7c7c289",
      "metadata": {
        "id": "a7c7c289",
        "outputId": "4dcd0bbc-9c3d-4a5f-cdbe-e148b66905ae"
      },
      "outputs": [
        {
          "name": "stdout",
          "output_type": "stream",
          "text": [
            "Hola Iván te saludo desde la función\n"
          ]
        }
      ],
      "source": [
        "def mi_funcion_nueva(fname):\n",
        "    print(\"Hola \"+fname +\" te saludo desde la función\")\n",
        "\n",
        "mi_funcion_nueva(\"Iván\")"
      ]
    },
    {
      "cell_type": "markdown",
      "id": "859574f2",
      "metadata": {
        "id": "859574f2"
      },
      "source": [
        "<a name='2-1'></a>\n",
        "\n",
        "## ¿Argumentos o parámetros?\n",
        "[regresar al contenido](#c1)\n",
        "\n",
        "Los términos \"parámetro\" y \"argumento\" pueden ser usados para referirse a lo mismo: información que es pasada a una función."
      ]
    },
    {
      "cell_type": "markdown",
      "id": "bb842955",
      "metadata": {
        "id": "bb842955"
      },
      "source": [
        "Desde la perspectiva de una función:\n",
        "\n",
        "Un parámetro es la variable que se enumera dentro de los paréntesis en la definición de la función.\n",
        "\n",
        "Un argumento es el valor que se envía a la función cuando se llama a la misma."
      ]
    },
    {
      "cell_type": "markdown",
      "id": "334a05cf",
      "metadata": {
        "id": "334a05cf"
      },
      "source": [
        "<a name='3'></a>\n",
        "\n",
        "# Número de argumentos\n",
        "[regresar al contenido](#c1)"
      ]
    },
    {
      "cell_type": "markdown",
      "id": "bcb05f42",
      "metadata": {
        "id": "bcb05f42"
      },
      "source": [
        "Por defecto, una función debe ser llamada con el número correcto de argumentos. Esto significa que si tu función espera 2 argumentos, debes llamar a la función con 2 argumentos, ni más ni menos."
      ]
    },
    {
      "cell_type": "code",
      "execution_count": null,
      "id": "6c8e2357",
      "metadata": {
        "id": "6c8e2357",
        "outputId": "6bd9cf4f-e0e0-4d0d-b8de-d38207fbee8b"
      },
      "outputs": [
        {
          "name": "stdout",
          "output_type": "stream",
          "text": [
            "Hola Iván CC te saludo desde la función\n"
          ]
        }
      ],
      "source": [
        "def Nombre(fname,lname):\n",
        "    print(\"Hola \"+fname + \" \" + lname+ \" te saludo desde la función\")\n",
        "\n",
        "Nombre(\"Iván\",\"CC\")"
      ]
    },
    {
      "cell_type": "markdown",
      "id": "bbe2365c",
      "metadata": {
        "id": "bbe2365c"
      },
      "source": [
        "<a name='3-1'></a>\n",
        "\n",
        "## *args\n",
        "[regresar al contenido](#c1)\n",
        "\n",
        "Si no sabes cuántos argumentos se pasarán a tu función, agrega un * antes del nombre del parámetro en la definición de la función.\n",
        "\n",
        "De esta manera, la función recibirá una tupla de argumentos y podrá acceder a los elementos correspondientes."
      ]
    },
    {
      "cell_type": "code",
      "execution_count": null,
      "id": "f43db839",
      "metadata": {
        "id": "f43db839",
        "outputId": "c22c8e1a-339f-4a66-cb10-340104ac41d0"
      },
      "outputs": [
        {
          "name": "stdout",
          "output_type": "stream",
          "text": [
            "El niño menor es Linus\n"
          ]
        }
      ],
      "source": [
        "def mi_funcion(*kids):\n",
        "    print(\"El niño menor es \" + kids[2])\n",
        "\n",
        "mi_funcion(\"Emil\", \"Tobias\", \"Linus\")"
      ]
    },
    {
      "cell_type": "markdown",
      "id": "8083941e",
      "metadata": {
        "id": "8083941e"
      },
      "source": [
        "<a name='3-2'></a>\n",
        "\n",
        "## Clave Arguments\n",
        "[regresar al contenido](#c1)\n",
        "\n",
        "También puedes enviar argumentos utilizando la sintaxis clave = valor.\n",
        "\n",
        "De esta manera, el orden de los argumentos no importa."
      ]
    },
    {
      "cell_type": "code",
      "execution_count": null,
      "id": "90126d63",
      "metadata": {
        "id": "90126d63",
        "outputId": "98364e6b-5659-473b-ba0c-6c322fbcbc89"
      },
      "outputs": [
        {
          "name": "stdout",
          "output_type": "stream",
          "text": [
            "El niño menor es Linus\n"
          ]
        }
      ],
      "source": [
        "def mi_funcion(niño3,niño2,niño1):\n",
        "    print(\"El niño menor es \" + niño3)\n",
        "\n",
        "mi_funcion(niño1 = \"Emil\", niño2 = \"Tobias\", niño3 = \"Linus\")"
      ]
    },
    {
      "cell_type": "markdown",
      "id": "4cc48302",
      "metadata": {
        "id": "4cc48302"
      },
      "source": [
        "<a name='3-3'></a>\n",
        "\n",
        "## **kwargs\n",
        "[regresar al contenido](#c1)\n",
        "\n",
        "Si no sabes cuántos argumentos de palabras clave se pasarán a tu función, agrega dos asteriscos: ** antes del nombre del parámetro en la definición de la función.\n",
        "\n",
        "De esta manera, la función recibirá un diccionario de argumentos y podrá acceder a los elementos correspondientes."
      ]
    },
    {
      "cell_type": "code",
      "execution_count": null,
      "id": "49c0988b",
      "metadata": {
        "id": "49c0988b",
        "outputId": "13ce87ab-1caa-4e1e-f011-1f1a5428ca63"
      },
      "outputs": [
        {
          "name": "stdout",
          "output_type": "stream",
          "text": [
            "El apellido es Vapython\n"
          ]
        }
      ],
      "source": [
        "def mi_funcion(**chamaco):\n",
        "  print(\"El apellido es \" + chamaco[\"Ape\"])\n",
        "\n",
        "mi_funcion(nombre = \"Aquiles\", Ape = \"Vapython\")"
      ]
    },
    {
      "cell_type": "markdown",
      "id": "20082363",
      "metadata": {
        "id": "20082363"
      },
      "source": [
        "<a name='4'></a>\n",
        "\n",
        "# Parámetro default\n",
        "[regresar al contenido](#c1)\n",
        "\n",
        "El siguiente ejemplo muestra cómo usar un valor de parámetro predeterminado.\n",
        "\n",
        "Si llamamos a la función sin argumento, utiliza el valor predeterminado."
      ]
    },
    {
      "cell_type": "code",
      "execution_count": null,
      "id": "f7601487",
      "metadata": {
        "id": "f7601487",
        "outputId": "25266265-3337-464c-9ab9-2515764d3762"
      },
      "outputs": [
        {
          "name": "stdout",
          "output_type": "stream",
          "text": [
            "Yo soy de México\n"
          ]
        }
      ],
      "source": [
        "def mi_funcion(pais=\"México\"):\n",
        "    print(\"Yo soy de \"+ pais)\n",
        "\n",
        "mi_funcion()"
      ]
    },
    {
      "cell_type": "code",
      "execution_count": null,
      "id": "12e51c92",
      "metadata": {
        "id": "12e51c92",
        "outputId": "70d6a639-95b7-495d-e536-aef1ae315193"
      },
      "outputs": [
        {
          "name": "stdout",
          "output_type": "stream",
          "text": [
            "Yo soy de Alemania\n"
          ]
        }
      ],
      "source": [
        "mi_funcion(\"Alemania\")"
      ]
    },
    {
      "cell_type": "markdown",
      "id": "1ea1dd42",
      "metadata": {
        "id": "1ea1dd42"
      },
      "source": [
        "<a name='5'></a>\n",
        "\n",
        "# Pasando una estructura de datos como parámetros\n",
        "[regresar al contenido](#c1)\n",
        "\n",
        "Puedes enviar cualquier tipo de dato como argumento a una función (cadena, número, lista, diccionario, etc.), y se tratará como el mismo tipo de dato dentro de la función.\n",
        "\n",
        "Por ejemplo, si envías una lista como argumento, seguirá siendo una lista cuando llegue a la función."
      ]
    },
    {
      "cell_type": "code",
      "execution_count": null,
      "id": "bbb9aeba",
      "metadata": {
        "id": "bbb9aeba",
        "outputId": "95f55d15-4613-466e-f7f5-f739bc09552b"
      },
      "outputs": [
        {
          "name": "stdout",
          "output_type": "stream",
          "text": [
            "manzana\n",
            "banana\n",
            "mora\n"
          ]
        }
      ],
      "source": [
        "def mi_funcion(frutas):\n",
        "  for x in frutas:\n",
        "    print(x)\n",
        "\n",
        "frutas = [\"manzana\", \"banana\", \"mora\"]\n",
        "\n",
        "mi_funcion(frutas)"
      ]
    },
    {
      "cell_type": "markdown",
      "source": [
        "Trabajo en clase (15 octubre 2024)"
      ],
      "metadata": {
        "id": "TePvD6mcX09h"
      },
      "id": "TePvD6mcX09h"
    },
    {
      "cell_type": "code",
      "source": [
        "a=str(input(\"Ingrese su nombre: \"))\n",
        "def mi_funcion(nombre):\n",
        " print(\"Hola, me llamo \" + a)\n",
        "\n",
        "mi_funcion(a)  #De esta forma se está llamando a la función"
      ],
      "metadata": {
        "colab": {
          "base_uri": "https://localhost:8080/"
        },
        "id": "Ihfib6seX0kB",
        "outputId": "153af171-22a4-489a-bf41-ff9b0009110e"
      },
      "id": "Ihfib6seX0kB",
      "execution_count": null,
      "outputs": [
        {
          "output_type": "stream",
          "name": "stdout",
          "text": [
            "Ingrese su nombre: Luis Rodolfo Niño Pedraza\n",
            "Hola, me llamo Luis Rodolfo Niño Pedraza\n"
          ]
        }
      ]
    },
    {
      "cell_type": "code",
      "source": [
        "def mi_funcion(nombre,apellido):\n",
        "  print(\"Hola me llamo \"+nombre+\" \"+apellido)\n",
        "mi_funcion(\"Luis\", \"Niño\")"
      ],
      "metadata": {
        "colab": {
          "base_uri": "https://localhost:8080/"
        },
        "id": "t_nJZ_nWZCiK",
        "outputId": "6558799b-76bd-48ee-c47d-91b0e64ce608"
      },
      "id": "t_nJZ_nWZCiK",
      "execution_count": null,
      "outputs": [
        {
          "output_type": "stream",
          "name": "stdout",
          "text": [
            "Hola me llamo Luis Niño\n"
          ]
        }
      ]
    },
    {
      "cell_type": "markdown",
      "source": [
        "En los siguientes dos ejemplos se puede ver como de esta forma, la variable sigue funcionando incluso cuando no se ocupan todos los parámetros"
      ],
      "metadata": {
        "id": "6o9GBSzLaj8F"
      },
      "id": "6o9GBSzLaj8F"
    },
    {
      "cell_type": "code",
      "source": [
        "def mi_funcion(*NC):\n",
        "#NC es la abreviación de nombre completo\n",
        " print(\"Hola me llamo \"+NC[0]+NC[1])\n",
        "\n",
        "mi_funcion(\"Luis \", \"Niño\")"
      ],
      "metadata": {
        "colab": {
          "base_uri": "https://localhost:8080/"
        },
        "id": "F-P9bdPpX0Zh",
        "outputId": "5d98b7dc-c27a-45f8-a8df-b61b7395af84"
      },
      "id": "F-P9bdPpX0Zh",
      "execution_count": null,
      "outputs": [
        {
          "output_type": "stream",
          "name": "stdout",
          "text": [
            "Hola me llamo LuisNiño\n"
          ]
        }
      ]
    },
    {
      "cell_type": "code",
      "source": [
        "def mi_funcion(*NC):\n",
        "#NC es la abreviación de nombre completo\n",
        " print(\"Hola me llamo \"+NC[0]+NC[1]+NC[2]+NC[3])\n",
        "\n",
        "mi_funcion(\"L \", \"R \", \"N \", \"P \")\n"
      ],
      "metadata": {
        "colab": {
          "base_uri": "https://localhost:8080/"
        },
        "id": "RSL6MnNMaRnG",
        "outputId": "10a962d9-6f4e-4242-84bc-6ac157c6abe8"
      },
      "id": "RSL6MnNMaRnG",
      "execution_count": null,
      "outputs": [
        {
          "output_type": "stream",
          "name": "stdout",
          "text": [
            "Hola me llamo L R \n"
          ]
        }
      ]
    },
    {
      "cell_type": "code",
      "source": [
        "def mi_funcion(NC):\n",
        "#NC es la abreviación de nombre completo\n",
        " print(\"Hola me llamo \"+NC[0]+NC[1]+NC[2]+NC[3])\n",
        "\n",
        "NoC=[\"L \", \"R \", \"N \", \"P \"]\n",
        "mi_funcion(NoC)\n",
        "\n",
        "#De esta froma se ve un poco más pulcro el código, ya que la función toma los valores de una lista aparte"
      ],
      "metadata": {
        "colab": {
          "base_uri": "https://localhost:8080/"
        },
        "id": "M9zOHM3Ta0f9",
        "outputId": "fdc29645-f7fb-4197-a88b-c944521502f0"
      },
      "id": "M9zOHM3Ta0f9",
      "execution_count": null,
      "outputs": [
        {
          "output_type": "stream",
          "name": "stdout",
          "text": [
            "Hola me llamo L R N P \n"
          ]
        }
      ]
    },
    {
      "cell_type": "code",
      "source": [
        "def mi_funcion(nombre=\"Luis \", apellido=\"N\"):\n",
        " print(\"Hola, me llamo \"+nombre+apellido)\n",
        "\n",
        "mi_funcion()\n",
        "mi_funcion(\"J \", \"S\")\n",
        "#Cuando a la función no se le meten parámetros, esta imprimirá los parámetros preestablecidos, y en el caso de que se le pongan nuevos los va a sustituir"
      ],
      "metadata": {
        "colab": {
          "base_uri": "https://localhost:8080/"
        },
        "id": "q_4Dukk9b4DN",
        "outputId": "5003ce9c-c9d1-4425-b9f0-03c0527fe4d7"
      },
      "id": "q_4Dukk9b4DN",
      "execution_count": null,
      "outputs": [
        {
          "output_type": "stream",
          "name": "stdout",
          "text": [
            "Hola, me llamo Luis N\n",
            "Hola, me llamo JS\n"
          ]
        }
      ]
    },
    {
      "cell_type": "markdown",
      "source": [
        "Tener parámetros estandar por default, para que siempre funcionen es muy útil en algunos casos.\n",
        "\n",
        "Hay una diferencia entre variables locales y globales, las globales son aquellas que afectan a todo el programa, mientras que las locales solo afectan a una parte o sección del código. En el elnguaje C, hay que tener especial cuidado con las variabes globales y locales."
      ],
      "metadata": {
        "id": "rmCliojAcwxF"
      },
      "id": "rmCliojAcwxF"
    },
    {
      "cell_type": "code",
      "source": [
        "def mi_funcion(apellido, nombre):\n",
        " print(\"Hola, me llamo \"+nombre+apellido)\n",
        "\n",
        "\n",
        "mi_funcion(nombre=\"J \",apellido=\"S\")\n",
        "mi_funcion(\"J\",\"S\")\n",
        "#En esta segunda impresión de la función, lo que va a pasar es que se respeta el orden de como aparecen las variables en la def de la función,\n",
        "#pero se acomodan según el acomodo que se impuso en la función de la línea 5, por lo que se cambia el orden de los parámetros."
      ],
      "metadata": {
        "colab": {
          "base_uri": "https://localhost:8080/"
        },
        "id": "6PKfEGS_dRKd",
        "outputId": "0a9dcd5a-3b4c-4f06-8835-736de68cd0ae"
      },
      "id": "6PKfEGS_dRKd",
      "execution_count": null,
      "outputs": [
        {
          "output_type": "stream",
          "name": "stdout",
          "text": [
            "Hola, me llamo J S\n",
            "Hola, me llamo SJ\n"
          ]
        }
      ]
    },
    {
      "cell_type": "code",
      "source": [
        "def mi_funcion(apellido, nombre):\n",
        " NombreCompleto=nombre+apellido\n",
        " NombreCompleto1=nombre+apellido+\"2\"\n",
        " return NombreCompleto,NombreCompleto1\n",
        "\n",
        "NC,NC1=mi_funcion(nombre=\" L \", apellido=\"N\")\n",
        "print(\"Hola, me llamo \"+NC)\n",
        "\n",
        "#No se pueden concatenar dos estructuras de datos diferentes entre sí.\n"
      ],
      "metadata": {
        "colab": {
          "base_uri": "https://localhost:8080/"
        },
        "id": "nrDebPVnfLgk",
        "outputId": "b49d16c8-4933-43e6-b9d3-fd44fa5ab54a"
      },
      "id": "nrDebPVnfLgk",
      "execution_count": null,
      "outputs": [
        {
          "output_type": "stream",
          "name": "stdout",
          "text": [
            "Hola, me llamo  L N\n"
          ]
        }
      ]
    },
    {
      "cell_type": "markdown",
      "source": [
        "EJERCICIO DE LA CLASE\n",
        "\n",
        "Hacer un programa que haga lo siguiente:\n",
        "\n",
        "1) Que al programa le ingresen tres variales llamadas Nombre, Apellido, Edad\n",
        "\n",
        "2) Valide que la entrada de la edad sea un entero\n",
        "\n",
        "3) Haga que su programa siempre tenga valores por default pr si el usuario no ingresa valores\n",
        "\n",
        "4) Valide que el nombre no tenga más de 5 letras\n",
        "\n",
        "5) Devuelva un letrero con la presentación de la persona e imprímalo"
      ],
      "metadata": {
        "id": "br_DlzS-i8L-"
      },
      "id": "br_DlzS-i8L-"
    },
    {
      "cell_type": "code",
      "source": [
        "\n",
        "def function(Nombre=\"Luis\",Apellido=\"Rodolfo\",Edad=\"18\"):\n",
        "\n",
        "\n",
        " function(Nombre=input(\"Ingrese su nombre: \"), Apellido=input(\"Ingrese su apellido: \"), Edad=input(\"Ingrese su edad:\"))\n",
        "\n",
        " type(Edad)\n",
        " if type(Edad)==int:\n",
        "  print(\"Es un etero\")\n",
        " else:\n",
        "  print(\"La edad no es un número entero, por favor ingrese un número entero\")\n"
      ],
      "metadata": {
        "id": "BOYyFxcsj2lq"
      },
      "id": "BOYyFxcsj2lq",
      "execution_count": null,
      "outputs": []
    },
    {
      "cell_type": "code",
      "source": [
        "nombre=input(\"Ingrese su nombre: \")\n",
        "apellido=input(\"Ingres su apellido: \")\n",
        "edad=input(\"Ingres su edad: \")\n",
        "\n",
        "\n",
        "def function(nombre=\"Luis\",apellido=\"Rodolfo\",edad=\"18\"):\n",
        "  print(\"Hola, me llamo \"+nombre+\" \"+apellido+ \" y tengo \"+ str(edad) + \" años\")\n",
        "\n",
        "  type(Edad)\n",
        "  if type(Edad)==int:\n",
        "   if c<6:\n",
        "    print(\"El nombre es válido\")\n",
        "    Presentación=\"Hola, mi nombre es \"+ Nombre +\" \"+ Apellido + \" y tengo \" +str(Edad)+ \" años\"\n",
        "    return Presentación\n",
        "   else:\n",
        "    print(\"El nobre no es válido\")\n",
        "  else:\n",
        "   print(\"La edad no es un número entero, por favor ingrese un número entero\")\n",
        "\n",
        "\n",
        "presentación=function(nombre, apellido, edad)\n",
        "print(presentación)"
      ],
      "metadata": {
        "colab": {
          "base_uri": "https://localhost:8080/"
        },
        "id": "7etsqULImEXy",
        "outputId": "138ee3cb-5f5d-4765-87dd-30663fa6936c"
      },
      "id": "7etsqULImEXy",
      "execution_count": null,
      "outputs": [
        {
          "output_type": "stream",
          "name": "stdout",
          "text": [
            "Ingrese su nombre: \n",
            "Ingres su apellido: \n",
            "Ingres su edad: \n",
            "Hola, me llamo   y tengo  años\n",
            "La edad no es un número entero, por favor ingrese un número entero\n",
            "None\n"
          ]
        }
      ]
    },
    {
      "cell_type": "code",
      "source": [
        "def Datos(Nombre=\"Luis\",Apellido=\"Rodolfo\",Edad=\"18\"):\n",
        " if len(Nombre)>5:\n",
        "  print(\"No se acepta tu nombre\")\n",
        " else:\n",
        "  if type(Edad)==int:\n",
        "    print(\"Se acepta tu edad\")\n",
        "    Presentación=\"Hola, mi nombre es \"+ Nombre +\" \"+ Apellido + \" y tengo \" +str(Edad)+ \" años\"\n",
        "    return Presentación\n",
        "  else:\n",
        "    print(\"No se acepta tu Edad\")\n",
        "\n",
        "\n",
        "\n",
        "Presentación=Datos(\"Jesus\", \"Lucia\", 18)\n",
        "print(Presentación)"
      ],
      "metadata": {
        "colab": {
          "base_uri": "https://localhost:8080/"
        },
        "id": "8oMldO0JqC1t",
        "outputId": "b8392c24-ce85-47c4-f949-7614e26d21f5"
      },
      "id": "8oMldO0JqC1t",
      "execution_count": null,
      "outputs": [
        {
          "output_type": "stream",
          "name": "stdout",
          "text": [
            "Se acepta tu edad\n",
            "Hola, mi nombre es Jesus Lucia y tengo 18 años\n"
          ]
        }
      ]
    }
  ],
  "metadata": {
    "kernelspec": {
      "display_name": "Python 3 (ipykernel)",
      "language": "python",
      "name": "python3"
    },
    "language_info": {
      "codemirror_mode": {
        "name": "ipython",
        "version": 3
      },
      "file_extension": ".py",
      "mimetype": "text/x-python",
      "name": "python",
      "nbconvert_exporter": "python",
      "pygments_lexer": "ipython3",
      "version": "3.9.12"
    },
    "colab": {
      "provenance": [],
      "include_colab_link": true
    }
  },
  "nbformat": 4,
  "nbformat_minor": 5
}