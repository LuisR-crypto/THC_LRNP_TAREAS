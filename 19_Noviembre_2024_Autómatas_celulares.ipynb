{
  "nbformat": 4,
  "nbformat_minor": 0,
  "metadata": {
    "colab": {
      "provenance": [],
      "authorship_tag": "ABX9TyPwLyXRsNWdrV3GxvoRuZQ7",
      "include_colab_link": true
    },
    "kernelspec": {
      "name": "python3",
      "display_name": "Python 3"
    },
    "language_info": {
      "name": "python"
    }
  },
  "cells": [
    {
      "cell_type": "markdown",
      "metadata": {
        "id": "view-in-github",
        "colab_type": "text"
      },
      "source": [
        "<a href=\"https://colab.research.google.com/github/LuisR-crypto/THC_LRNP_TAREAS/blob/main/19_Noviembre_2024_Aut%C3%B3matas_celulares.ipynb\" target=\"_parent\"><img src=\"https://colab.research.google.com/assets/colab-badge.svg\" alt=\"Open In Colab\"/></a>"
      ]
    },
    {
      "cell_type": "markdown",
      "source": [
        "Evidencias de la clase del 19 de noviembre de 2024"
      ],
      "metadata": {
        "id": "d6nliVhllUiz"
      }
    },
    {
      "cell_type": "markdown",
      "source": [
        "¿Para que sirven los autómatas celulares?\n",
        "\n",
        "Los agentes son cosas que están en movimiento, (como el comportamiento de la expansión de una enfermedad, modelo Sir, saludables, infectados y recuperados) y los autómatas son estáticos.\n",
        "\n",
        "\n",
        "Para ls predicciones mediante las redes neuronales, se necesita información previa para poder estimar lo siguiente, lo que no es posible cuando se tiene un sistema de ecuaciones diferenciales, para lko que se necesitan los autómatas o los agentes para darle esa información a la red neuronal."
      ],
      "metadata": {
        "id": "XTMF1w3alQcy"
      }
    },
    {
      "cell_type": "markdown",
      "source": [
        "La autosimilitud nos dice que estamos frente a fractales, lo que significa que el comportamiento va a ser el mismo sin importar la escala a la que lo estemos observando.\n",
        "\n",
        "Para quitar las paradojas del concepto básico de conjunto, se redefine el cncepto del mismo, pero de esto nacen algunos problemas, como:\n",
        "\n",
        "La indecibilidad de un problema es que no se pude saber si un problema tiene solución o no, hasta que le pones condiciones."
      ],
      "metadata": {
        "id": "_XdiKBkJnERq"
      }
    },
    {
      "cell_type": "code",
      "source": [
        "import numpy as np\n",
        "import  matplotlib.pyplot as plt\n",
        "import imageio.v2 as imageio"
      ],
      "metadata": {
        "id": "SHZ5qIYlk8Qn"
      },
      "execution_count": 5,
      "outputs": []
    },
    {
      "cell_type": "markdown",
      "source": [
        "Se necesitan dos tipos de condiciones:\n",
        "\n",
        "-Iniciales: La forma en la que comienza\n",
        "\n",
        "-Frontera: Lo que le pasa en los extremos"
      ],
      "metadata": {
        "id": "-h0Ole7AowDi"
      }
    },
    {
      "cell_type": "code",
      "execution_count": 6,
      "metadata": {
        "id": "auQmrxa_k7am"
      },
      "outputs": [],
      "source": [
        "#Establecemoslos parámetros del modelo\n",
        "size=103\n",
        "pos=round(size/2)\n",
        "B=np.zeros(size,dtype=int) #Necesitamos poner el hecho de que sean enteros, ya que si no, manejaria flotantes.\n",
        "B[pos]=1 #Condición inicial"
      ]
    },
    {
      "cell_type": "code",
      "source": [
        "class Automata1D:\n",
        "  #Definir algo que se llama el constructor de la clase\n",
        "  def __init__(self,B,name):\n",
        "    self.B=B\n",
        "    self.name=name\n",
        "    self.size=len(self.B)\n",
        "    self.frames=[] #Lista donde se guardan todas las imágenes para la simulación\n",
        "    self.nsteps=self.size #pasos de simulación\n",
        "\n",
        "  def Rule104(self,L,C,R):\n",
        "    #Siempre que creemos esto que se llaman métodos vamos a poner self\n",
        "    #L left, C center, R right\n",
        "    if L==1 and C==0 and R==0:\n",
        "      return 1\n",
        "    elif L==0 and C==1 and R==0:\n",
        "      return 1\n",
        "    elif L==0 and C==0 and R==1:\n",
        "      return 1\n",
        "    else:\n",
        "      return 0\n",
        "\n",
        "  def plot(self,C):\n",
        "    #Creae la figura de cada paso\n",
        "    fig,ax=plt.subplots(figsize=(8,6))\n",
        "    ax.imshow(C, animated=True, aspect=\"auto\", cmap=\"gray\") #La escala de colores (cmap) la vamos dejar en grises, mientras que en aspect le ponemos auto, para que se genere sola.\n",
        "    ax.axis(\"off\")\n",
        "    plt.close(fig) #cerrar el canvas para que no se muestre, o que esto hace es que genera todas las imágenes y como los libritos que muestran imágenes moviendose,\n",
        "    #va quitando la primera y muestra la segunda y así hasta terminar con todas las plantillas que generamos\n",
        "\n",
        "    #Convertir la figura en imagen y guardar los frames.\n",
        "    fig.canvas.draw()\n",
        "    image=np.frombuffer(fig.canvas.tostring_rgb(),dtype=np.uint8)\n",
        "    image=image.reshape(fig.canvas.get_width_height()[::-1]+(3,))\n",
        "    return image\n",
        "\n",
        "\n",
        "  def Run(self):\n",
        "    C=np.zeros((self.size,self.size), dtype=int)\n",
        "    #Matriz de pixeles para la simulación\n",
        "    A=np.copy(self.B)\n",
        "    #Vector de la condición inicial, es una copia de respaldo, para no quitar los elementos inicales,\n",
        "    #dentro del caul vamos a ir trabajando y es el que va a cambiar\n",
        "    for k in range(self.nsteps):\n",
        "      C[k]=np.copy(A)\n",
        "\n",
        "\n",
        "      #Se guaradan las imágenes para la simulación\n",
        "      self.frames.append(self.plot(C))\n",
        "\n",
        "      if self.name==\"Rule104\":\n",
        "        for i in range(self.size):\n",
        "          if i==0:\n",
        "            A[i]=self.Rule104(A[-1], A[0], A[1])\n",
        "          elif i==self.size-1:\n",
        "            A[i]=self.Rule104(A[-2],A[-1],A[0])\n",
        "          else:\n",
        "            A[i]=self.Rule104(A[i-1],A[i],A[i+1])\n",
        "\n",
        "\n",
        "  def save_video(self,filename=\"Automata1D.mp4\", fps=10):\n",
        "    imageio.mimsave(filename, self.frames, fps=fps)\n",
        "    print(f\"Video guardado como {filename}\")\n",
        "\n",
        "\n",
        "\n",
        "\n"
      ],
      "metadata": {
        "id": "9E6f2WYqrfYq"
      },
      "execution_count": 14,
      "outputs": []
    },
    {
      "cell_type": "code",
      "source": [
        "\n",
        "#Creamos la instancia de clase\n",
        "\n",
        "automata=Automata1D(B,\"Rule104\")\n",
        "automata.Run()\n",
        "automata.save_video(\"MiPrimerVideo.mp4\")"
      ],
      "metadata": {
        "colab": {
          "base_uri": "https://localhost:8080/"
        },
        "id": "1QIftfjGxuX0",
        "outputId": "5c59219b-b38e-45fb-845d-e9b2b8f5d59b"
      },
      "execution_count": 15,
      "outputs": [
        {
          "output_type": "stream",
          "name": "stderr",
          "text": [
            "<ipython-input-14-8b26377d3e95>:32: MatplotlibDeprecationWarning: The tostring_rgb function was deprecated in Matplotlib 3.8 and will be removed two minor releases later. Use buffer_rgba instead.\n",
            "  image=np.frombuffer(fig.canvas.tostring_rgb(),dtype=np.uint8)\n",
            "WARNING:imageio_ffmpeg:IMAGEIO FFMPEG_WRITER WARNING: input image is not divisible by macro_block_size=16, resizing from (800, 600) to (800, 608) to ensure video compatibility with most codecs and players. To prevent resizing, make your input image divisible by the macro_block_size or set the macro_block_size to 1 (risking incompatibility).\n"
          ]
        },
        {
          "output_type": "stream",
          "name": "stdout",
          "text": [
            "Video guardado como MiPrimerVideo.mp4\n"
          ]
        }
      ]
    }
  ]
}